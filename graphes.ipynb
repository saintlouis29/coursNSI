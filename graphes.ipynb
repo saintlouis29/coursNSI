{
 "cells": [
  {
   "cell_type": "markdown",
   "metadata": {},
   "source": [
    "Définition de fonctions utiles pour le reste du Notebook\n",
    "==="
   ]
  },
  {
   "cell_type": "code",
   "execution_count": 16,
   "metadata": {},
   "outputs": [],
   "source": [
    "from IPython.display import HTML, display\n",
    "import networkx as nx\n",
    "import matplotlib.pyplot as plt\n",
    "import matplotlib as mpl\n",
    "from matplotlib import cm\n",
    "\n",
    "def build_graph(nodes, edges, title = \"social network\"):\n",
    "    \"\"\"\n",
    "    Créer l'objet graphe à partir de la liste 'nodes' et 'edges'\n",
    "    \"\"\"\n",
    "    # initialisation d'un nouveau graphe\n",
    "    g = nx.Graph(title=title)\n",
    "    # commençons par créer les noeuds depuis la liste des noeuds\n",
    "    g.add_nodes_from(nodes)\n",
    "    # puis ajoutons les arcs entre chaque noeud\n",
    "    for edge in edges:\n",
    "        g.add_edge(*edge)\n",
    "    # retourne le graphe créé\n",
    "    return g\n",
    "\n",
    "def draw_graph(graph, **options):\n",
    "    \"\"\"\n",
    "    Dessine le graphe 'graph'\n",
    "    \"\"\"\n",
    "    plt.figure(figsize=(6,6))\n",
    "    label_dict = {}\n",
    "    for node in graph:\n",
    "        if 'name' in graph.node[node].keys():\n",
    "            label_dict[node]=G.node[node]['name'][0:2]\n",
    "    if not \"node_size\" in options.keys():\n",
    "        options[\"node_size\"]=1000\n",
    "    options[\"edge_color\"]=\"grey\"\n",
    "    nx.spring_layout(graph)\n",
    "    #nx.draw_networkx(G, labels=label_dict,  with_labels =  True, **options)\n",
    "    nx.draw(graph, labels=label_dict, with_labels=True, **options)\n",
    "    \n",
    "def display_table(table):\n",
    "    \"\"\"\n",
    "    Retourne le tableau sous forme de html\n",
    "    \"\"\"\n",
    "    display(HTML(\n",
    "       '<table><tr>{}</tr></table>'.format(\n",
    "           '</tr><tr>'.join(\n",
    "               '<td>{}</td>'.format('</td><td>'.join(str(_) for _ in row)) for row in table)\n",
    "           )\n",
    "    ))\n",
    "\n",
    "def color_values(dico):\n",
    "    low, *_, high = sorted(dico.values())\n",
    "    norm = mpl.colors.Normalize(vmin=low, vmax=high, clip=True)\n",
    "    mapper = mpl.cm.ScalarMappable(norm=norm, cmap=mpl.cm.viridis)\n",
    "    node_color=[mapper.to_rgba(i) for i in dico.values()]\n",
    "    return node_color\n"
   ]
  },
  {
   "cell_type": "markdown",
   "metadata": {},
   "source": [
    "Modélisation à partir de la liste des noeuds et des arcs entre noeuds\n",
    "==="
   ]
  },
  {
   "cell_type": "code",
   "execution_count": 15,
   "metadata": {},
   "outputs": [
    {
     "data": {
      "text/plain": [
       "<networkx.classes.graph.Graph at 0x7fb70371d160>"
      ]
     },
     "execution_count": 15,
     "metadata": {},
     "output_type": "execute_result"
    }
   ],
   "source": [
    "# définition des noeuds avec leurs noms\n",
    "\n",
    "\n",
    "nodes = [\n",
    "    (0,{\"name\": \"Abi\"}),\n",
    "    (1,{\"name\": \"Ben\"}),\n",
    "    (2,{\"name\": \"Caty\"}),\n",
    "    (3,{\"name\": \"David\"}),\n",
    "    (4,{\"name\": \"Eba\"}),\n",
    "    (5,{\"name\": \"Firmin\"}),\n",
    "    (6,{\"name\": \"Guy\"}),\n",
    "    (7,{\"name\": \"Hector\"}),\n",
    "    (8,{\"name\": \"Iris\"}),\n",
    "    (9,{\"name\": \"Jean\"}),\n",
    "]\n",
    "# définition des arcs entre les noeuds\n",
    "edges = [\n",
    "    (0,1),\n",
    "    (0,2),\n",
    "    (1,2),\n",
    "    (2,3),\n",
    "    (2,4),\n",
    "    (4,5),\n",
    "    # vous devez ajouter les autres arcs\n",
    "\n",
    "\n",
    "\n",
    "]\n",
    "\n",
    "# On crée le graphe que l'on appelle G\n",
    "G = build_graph(nodes, edges)\n",
    "G"
   ]
  },
  {
   "cell_type": "markdown",
   "metadata": {},
   "source": [
    "Votre propre réseau"
   ]
  },
  {
   "cell_type": "code",
   "execution_count": 11,
   "metadata": {},
   "outputs": [],
   "source": [
    "###################################################################\n",
    "# VOUS POURREZ PAR LA SUITE CREER VOTRE PROPRE RESEAU\n",
    "# en complétant les deux listes nodes et edges suivantes\n",
    "###################################################################\n",
    "nodes = [\n",
    "    (0,{\"name\": \"Machin\"}),\n",
    "    (1,{\"name\": \"Truc\"}),\n",
    "    (2,{\"name\": \"Bidule\"}),\n",
    "]\n",
    "# définition des arcs entre les noeuds\n",
    "edges = [\n",
    "    (0,1),\n",
    "    (0,2),\n",
    "]\n",
    "###################################################################\n",
    "# /!\\ notre graphe a été créé dans la variable G, \n",
    "# /!\\ décommenter le code ci-dessous pour que votre propre graphe soit pris en compte\n",
    "#G = build_graph(nodes, edges)"
   ]
  },
  {
   "cell_type": "markdown",
   "metadata": {},
   "source": [
    "Représentation du graphe\n",
    "==="
   ]
  },
  {
   "cell_type": "code",
   "execution_count": 17,
   "metadata": {},
   "outputs": [
    {
     "ename": "AttributeError",
     "evalue": "'Graph' object has no attribute 'node'",
     "output_type": "error",
     "traceback": [
      "\u001b[0;31m---------------------------------------------------------------------------\u001b[0m",
      "\u001b[0;31mAttributeError\u001b[0m                            Traceback (most recent call last)",
      "\u001b[0;32m<ipython-input-17-4e710b4949af>\u001b[0m in \u001b[0;36m<module>\u001b[0;34m\u001b[0m\n\u001b[1;32m      1\u001b[0m \u001b[0;31m# testons la fonction\u001b[0m\u001b[0;34m\u001b[0m\u001b[0;34m\u001b[0m\u001b[0;34m\u001b[0m\u001b[0m\n\u001b[0;32m----> 2\u001b[0;31m \u001b[0mdraw_graph\u001b[0m\u001b[0;34m(\u001b[0m\u001b[0mG\u001b[0m\u001b[0;34m)\u001b[0m\u001b[0;34m\u001b[0m\u001b[0;34m\u001b[0m\u001b[0m\n\u001b[0m",
      "\u001b[0;32m<ipython-input-16-d3dc36b4c89a>\u001b[0m in \u001b[0;36mdraw_graph\u001b[0;34m(graph, **options)\u001b[0m\n\u001b[1;32m     26\u001b[0m     \u001b[0mlabel_dict\u001b[0m \u001b[0;34m=\u001b[0m \u001b[0;34m{\u001b[0m\u001b[0;34m}\u001b[0m\u001b[0;34m\u001b[0m\u001b[0;34m\u001b[0m\u001b[0m\n\u001b[1;32m     27\u001b[0m     \u001b[0;32mfor\u001b[0m \u001b[0mnode\u001b[0m \u001b[0;32min\u001b[0m \u001b[0mgraph\u001b[0m\u001b[0;34m:\u001b[0m\u001b[0;34m\u001b[0m\u001b[0;34m\u001b[0m\u001b[0m\n\u001b[0;32m---> 28\u001b[0;31m         \u001b[0;32mif\u001b[0m \u001b[0;34m'name'\u001b[0m \u001b[0;32min\u001b[0m \u001b[0mgraph\u001b[0m\u001b[0;34m.\u001b[0m\u001b[0mnode\u001b[0m\u001b[0;34m[\u001b[0m\u001b[0mnode\u001b[0m\u001b[0;34m]\u001b[0m\u001b[0;34m.\u001b[0m\u001b[0mkeys\u001b[0m\u001b[0;34m(\u001b[0m\u001b[0;34m)\u001b[0m\u001b[0;34m:\u001b[0m\u001b[0;34m\u001b[0m\u001b[0;34m\u001b[0m\u001b[0m\n\u001b[0m\u001b[1;32m     29\u001b[0m             \u001b[0mlabel_dict\u001b[0m\u001b[0;34m[\u001b[0m\u001b[0mnode\u001b[0m\u001b[0;34m]\u001b[0m\u001b[0;34m=\u001b[0m\u001b[0mG\u001b[0m\u001b[0;34m.\u001b[0m\u001b[0mnode\u001b[0m\u001b[0;34m[\u001b[0m\u001b[0mnode\u001b[0m\u001b[0;34m]\u001b[0m\u001b[0;34m[\u001b[0m\u001b[0;34m'name'\u001b[0m\u001b[0;34m]\u001b[0m\u001b[0;34m[\u001b[0m\u001b[0;36m0\u001b[0m\u001b[0;34m:\u001b[0m\u001b[0;36m2\u001b[0m\u001b[0;34m]\u001b[0m\u001b[0;34m\u001b[0m\u001b[0;34m\u001b[0m\u001b[0m\n\u001b[1;32m     30\u001b[0m     \u001b[0;32mif\u001b[0m \u001b[0;32mnot\u001b[0m \u001b[0;34m\"node_size\"\u001b[0m \u001b[0;32min\u001b[0m \u001b[0moptions\u001b[0m\u001b[0;34m.\u001b[0m\u001b[0mkeys\u001b[0m\u001b[0;34m(\u001b[0m\u001b[0;34m)\u001b[0m\u001b[0;34m:\u001b[0m\u001b[0;34m\u001b[0m\u001b[0;34m\u001b[0m\u001b[0m\n",
      "\u001b[0;31mAttributeError\u001b[0m: 'Graph' object has no attribute 'node'"
     ]
    },
    {
     "data": {
      "text/plain": [
       "<Figure size 432x432 with 0 Axes>"
      ]
     },
     "metadata": {},
     "output_type": "display_data"
    }
   ],
   "source": [
    "# testons la fonction\n",
    "draw_graph(G)"
   ]
  },
  {
   "cell_type": "markdown",
   "metadata": {},
   "source": [
    "Matrice d'adjacence\n",
    "===\n",
    "Le graphe G que nous avons créé, permet d'avoir directement ses adjacences."
   ]
  },
  {
   "cell_type": "code",
   "execution_count": 18,
   "metadata": {},
   "outputs": [
    {
     "name": "stdout",
     "output_type": "stream",
     "text": [
      "{0: {1: {}, 2: {}}, 1: {0: {}, 2: {}}, 2: {0: {}, 1: {}, 3: {}, 4: {}}, 3: {2: {}}, 4: {2: {}, 5: {}}, 5: {4: {}}, 6: {}, 7: {}, 8: {}, 9: {}}\n"
     ]
    }
   ],
   "source": [
    "print(G.adj)"
   ]
  },
  {
   "cell_type": "markdown",
   "metadata": {},
   "source": [
    "Le résultat n'est pas très lisible pour un humain, nous allons donc mettre cela en forme."
   ]
  },
  {
   "cell_type": "code",
   "execution_count": 19,
   "metadata": {},
   "outputs": [
    {
     "ename": "AttributeError",
     "evalue": "'Graph' object has no attribute 'node'",
     "output_type": "error",
     "traceback": [
      "\u001b[0;31m---------------------------------------------------------------------------\u001b[0m",
      "\u001b[0;31mAttributeError\u001b[0m                            Traceback (most recent call last)",
      "\u001b[0;32m<ipython-input-19-84d78582ad2e>\u001b[0m in \u001b[0;36m<module>\u001b[0;34m\u001b[0m\n\u001b[1;32m      1\u001b[0m \u001b[0mtable\u001b[0m \u001b[0;34m=\u001b[0m \u001b[0;34m[\u001b[0m\u001b[0;34m]\u001b[0m\u001b[0;34m\u001b[0m\u001b[0;34m\u001b[0m\u001b[0m\n\u001b[0;32m----> 2\u001b[0;31m \u001b[0mtable\u001b[0m\u001b[0;34m.\u001b[0m\u001b[0mappend\u001b[0m\u001b[0;34m(\u001b[0m\u001b[0;34m[\u001b[0m\u001b[0;34m''\u001b[0m\u001b[0;34m]\u001b[0m\u001b[0;34m+\u001b[0m\u001b[0;34m[\u001b[0m\u001b[0mG\u001b[0m\u001b[0;34m.\u001b[0m\u001b[0mnode\u001b[0m\u001b[0;34m[\u001b[0m\u001b[0mn\u001b[0m\u001b[0;34m]\u001b[0m\u001b[0;34m[\u001b[0m\u001b[0;34m'name'\u001b[0m\u001b[0;34m]\u001b[0m \u001b[0;32mfor\u001b[0m \u001b[0mn\u001b[0m \u001b[0;32min\u001b[0m \u001b[0mG\u001b[0m\u001b[0;34m.\u001b[0m\u001b[0mnodes\u001b[0m\u001b[0;34m]\u001b[0m\u001b[0;34m)\u001b[0m\u001b[0;34m\u001b[0m\u001b[0;34m\u001b[0m\u001b[0m\n\u001b[0m\u001b[1;32m      3\u001b[0m \u001b[0;32mfor\u001b[0m \u001b[0mn\u001b[0m \u001b[0;32min\u001b[0m \u001b[0mG\u001b[0m\u001b[0;34m.\u001b[0m\u001b[0madj\u001b[0m\u001b[0;34m.\u001b[0m\u001b[0mkeys\u001b[0m\u001b[0;34m(\u001b[0m\u001b[0;34m)\u001b[0m\u001b[0;34m:\u001b[0m\u001b[0;34m\u001b[0m\u001b[0;34m\u001b[0m\u001b[0m\n\u001b[1;32m      4\u001b[0m     \u001b[0mline\u001b[0m \u001b[0;34m=\u001b[0m \u001b[0;34m[\u001b[0m\u001b[0;36m0\u001b[0m\u001b[0;34m]\u001b[0m\u001b[0;34m*\u001b[0m\u001b[0mlen\u001b[0m\u001b[0;34m(\u001b[0m\u001b[0mG\u001b[0m\u001b[0;34m.\u001b[0m\u001b[0madj\u001b[0m\u001b[0;34m.\u001b[0m\u001b[0mkeys\u001b[0m\u001b[0;34m(\u001b[0m\u001b[0;34m)\u001b[0m\u001b[0;34m)\u001b[0m\u001b[0;34m\u001b[0m\u001b[0;34m\u001b[0m\u001b[0m\n\u001b[1;32m      5\u001b[0m     \u001b[0;32mfor\u001b[0m \u001b[0mk\u001b[0m \u001b[0;32min\u001b[0m \u001b[0mG\u001b[0m\u001b[0;34m[\u001b[0m\u001b[0mn\u001b[0m\u001b[0;34m]\u001b[0m\u001b[0;34m.\u001b[0m\u001b[0mkeys\u001b[0m\u001b[0;34m(\u001b[0m\u001b[0;34m)\u001b[0m\u001b[0;34m:\u001b[0m\u001b[0;34m\u001b[0m\u001b[0;34m\u001b[0m\u001b[0m\n",
      "\u001b[0;32m<ipython-input-19-84d78582ad2e>\u001b[0m in \u001b[0;36m<listcomp>\u001b[0;34m(.0)\u001b[0m\n\u001b[1;32m      1\u001b[0m \u001b[0mtable\u001b[0m \u001b[0;34m=\u001b[0m \u001b[0;34m[\u001b[0m\u001b[0;34m]\u001b[0m\u001b[0;34m\u001b[0m\u001b[0;34m\u001b[0m\u001b[0m\n\u001b[0;32m----> 2\u001b[0;31m \u001b[0mtable\u001b[0m\u001b[0;34m.\u001b[0m\u001b[0mappend\u001b[0m\u001b[0;34m(\u001b[0m\u001b[0;34m[\u001b[0m\u001b[0;34m''\u001b[0m\u001b[0;34m]\u001b[0m\u001b[0;34m+\u001b[0m\u001b[0;34m[\u001b[0m\u001b[0mG\u001b[0m\u001b[0;34m.\u001b[0m\u001b[0mnode\u001b[0m\u001b[0;34m[\u001b[0m\u001b[0mn\u001b[0m\u001b[0;34m]\u001b[0m\u001b[0;34m[\u001b[0m\u001b[0;34m'name'\u001b[0m\u001b[0;34m]\u001b[0m \u001b[0;32mfor\u001b[0m \u001b[0mn\u001b[0m \u001b[0;32min\u001b[0m \u001b[0mG\u001b[0m\u001b[0;34m.\u001b[0m\u001b[0mnodes\u001b[0m\u001b[0;34m]\u001b[0m\u001b[0;34m)\u001b[0m\u001b[0;34m\u001b[0m\u001b[0;34m\u001b[0m\u001b[0m\n\u001b[0m\u001b[1;32m      3\u001b[0m \u001b[0;32mfor\u001b[0m \u001b[0mn\u001b[0m \u001b[0;32min\u001b[0m \u001b[0mG\u001b[0m\u001b[0;34m.\u001b[0m\u001b[0madj\u001b[0m\u001b[0;34m.\u001b[0m\u001b[0mkeys\u001b[0m\u001b[0;34m(\u001b[0m\u001b[0;34m)\u001b[0m\u001b[0;34m:\u001b[0m\u001b[0;34m\u001b[0m\u001b[0;34m\u001b[0m\u001b[0m\n\u001b[1;32m      4\u001b[0m     \u001b[0mline\u001b[0m \u001b[0;34m=\u001b[0m \u001b[0;34m[\u001b[0m\u001b[0;36m0\u001b[0m\u001b[0;34m]\u001b[0m\u001b[0;34m*\u001b[0m\u001b[0mlen\u001b[0m\u001b[0;34m(\u001b[0m\u001b[0mG\u001b[0m\u001b[0;34m.\u001b[0m\u001b[0madj\u001b[0m\u001b[0;34m.\u001b[0m\u001b[0mkeys\u001b[0m\u001b[0;34m(\u001b[0m\u001b[0;34m)\u001b[0m\u001b[0;34m)\u001b[0m\u001b[0;34m\u001b[0m\u001b[0;34m\u001b[0m\u001b[0m\n\u001b[1;32m      5\u001b[0m     \u001b[0;32mfor\u001b[0m \u001b[0mk\u001b[0m \u001b[0;32min\u001b[0m \u001b[0mG\u001b[0m\u001b[0;34m[\u001b[0m\u001b[0mn\u001b[0m\u001b[0;34m]\u001b[0m\u001b[0;34m.\u001b[0m\u001b[0mkeys\u001b[0m\u001b[0;34m(\u001b[0m\u001b[0;34m)\u001b[0m\u001b[0;34m:\u001b[0m\u001b[0;34m\u001b[0m\u001b[0;34m\u001b[0m\u001b[0m\n",
      "\u001b[0;31mAttributeError\u001b[0m: 'Graph' object has no attribute 'node'"
     ]
    }
   ],
   "source": [
    "table = []\n",
    "table.append(['']+[G.node[n]['name'] for n in G.nodes])\n",
    "for n in G.adj.keys():\n",
    "    line = [0]*len(G.adj.keys())\n",
    "    for k in G[n].keys():\n",
    "        line[k]=1\n",
    "    line = [G.node[n]['name']]+line\n",
    "    table.append(line)\n",
    "display_table(table)    "
   ]
  },
  {
   "cell_type": "markdown",
   "metadata": {},
   "source": [
    "Chemins dans le graphe\n",
    "===\n",
    "Il est possible de lister le chemin le plus court allant d'un noeud à l'autre.\n",
    "Faisons le pour tous les noeuds..."
   ]
  },
  {
   "cell_type": "code",
   "execution_count": null,
   "metadata": {},
   "outputs": [],
   "source": [
    "nx.shortest_path(G)"
   ]
  },
  {
   "cell_type": "markdown",
   "metadata": {},
   "source": [
    "distance minimale entre deux sommets\n",
    "----\n",
    "Le résultat n'est pas très lisible pour un humain, mettons **la distance minimale** entre chaque noeud dans un tableau."
   ]
  },
  {
   "cell_type": "code",
   "execution_count": null,
   "metadata": {},
   "outputs": [],
   "source": [
    "shortest_path = nx.shortest_path(G)\n",
    "longueurs = []\n",
    "# tableau des longueurs\n",
    "for k, v in shortest_path.items():\n",
    "    longueurs.append([len(v[i])-1 for i in sorted(v)])\n",
    "# inclusion des noms\n",
    "table = []\n",
    "for n in G.nodes:\n",
    "    table.append([G.node[n]['name']]+longueurs[n])\n",
    "table.insert(0, ['']+[G.node[n]['name'] for n in G.nodes])\n",
    "display_table(table)"
   ]
  },
  {
   "cell_type": "markdown",
   "metadata": {},
   "source": [
    "Excentricité entre deux sommets\n",
    "----\n",
    "C'est la distance maximale des plus courtes distances"
   ]
  },
  {
   "cell_type": "code",
   "execution_count": null,
   "metadata": {},
   "outputs": [],
   "source": [
    "excentricites = [max(l) for l in longueurs]\n",
    "table=[[G.node[n]['name'], excentricites[n]] for n in G.nodes]\n",
    "display_table(sorted(table, key=lambda table: table[1]))"
   ]
  },
  {
   "cell_type": "markdown",
   "metadata": {},
   "source": [
    "Indicateurs de notre graphe\n",
    "----"
   ]
  },
  {
   "cell_type": "code",
   "execution_count": null,
   "metadata": {},
   "outputs": [],
   "source": [
    "print(f\"Ordre du graphe: {G.order()}\")\n",
    "print(f\"Taille du graphe: {G.size()}\")\n",
    "print(f\"Centre(s) du graphe: {','.join([G.node[c]['name'] for c in nx.center(G)])}\")\n",
    "print(f\"Rayon du graphe: {nx.radius(G)}\")\n",
    "print(f\"Diametre du graphe: {nx.diameter(G)}\")"
   ]
  },
  {
   "cell_type": "markdown",
   "metadata": {},
   "source": [
    "Indicateurs des noeuds\n",
    "===\n",
    "centralité de degré\n",
    "---\n",
    "\n",
    "La librairie networkx possède des dizaines d'algorithmes pour extraire des informations sur un graphe ou sur les noeuds d'un graphe.\n",
    "\n",
    "Celle qui nous intéresse en premier lieu est le **degré de centralité** de chacun des noeuds."
   ]
  },
  {
   "cell_type": "code",
   "execution_count": null,
   "metadata": {},
   "outputs": [],
   "source": [
    "print(\"les degrés de chaque noeud\")\n",
    "degres = [nx.degree(G, node) for node in G.nodes]\n",
    "print(degres)\n",
    "print(\"les degrés de centralité de chaque noeud\")\n",
    "dgc = nx.degree_centrality(G)\n",
    "dgc"
   ]
  },
  {
   "cell_type": "markdown",
   "metadata": {},
   "source": [
    "Mettons un peu cela en forme en triant dans l'ordre décroissant de popularité:"
   ]
  },
  {
   "cell_type": "code",
   "execution_count": null,
   "metadata": {},
   "outputs": [],
   "source": [
    "display_table([[G.node[id]['name'], \"{:.3f}\".format(v)] for id, v in sorted(dgc.items(), key=lambda t: t[1], reverse=True)])"
   ]
  },
  {
   "cell_type": "markdown",
   "metadata": {},
   "source": [
    "Et générons un graphe qui met en avant la popularité des noeuds"
   ]
  },
  {
   "cell_type": "code",
   "execution_count": null,
   "metadata": {},
   "outputs": [],
   "source": [
    "# calcul du degre de centralite\n",
    "dgc = nx.degree_centrality(G)\n",
    "# calcul des codes couleurs\n",
    "options={}\n",
    "options['node_color']=color_values(dgc)\n",
    "options['node_size'] =  [v * 10000 for v in dgc.values()]\n",
    "draw_graph(G, **options)"
   ]
  },
  {
   "cell_type": "markdown",
   "metadata": {},
   "source": [
    "Centralité de vecteur propre\n",
    "---\n"
   ]
  },
  {
   "cell_type": "code",
   "execution_count": null,
   "metadata": {},
   "outputs": [],
   "source": [
    "# calcul de la centralité spectrale\n",
    "ec = nx.eigenvector_centrality(G)\n",
    "# tri decroissant\n",
    "s_ec = sorted(ec.items(), key=lambda t: t[1], reverse=True)\n",
    "display_table([[G.node[id]['name'], \"{:.3f}\".format(v)] for id, v in s_ec])"
   ]
  },
  {
   "cell_type": "code",
   "execution_count": null,
   "metadata": {},
   "outputs": [],
   "source": [
    "# calcul de la centralité spectrale\n",
    "ec = nx.eigenvector_centrality(G)\n",
    "# calcul des codes couleurs\n",
    "options['node_color']=color_values(ec)\n",
    "options['node_size'] =  [v * 10000 for v in ec.values()]\n",
    "# dessin du graphe coloré\n",
    "draw_graph(G, **options)"
   ]
  },
  {
   "cell_type": "markdown",
   "metadata": {},
   "source": [
    "Centralité de proximité\n",
    "---\n"
   ]
  },
  {
   "cell_type": "code",
   "execution_count": null,
   "metadata": {},
   "outputs": [],
   "source": [
    "closeness=nx.closeness_centrality(G)\n",
    "print(closeness)"
   ]
  },
  {
   "cell_type": "code",
   "execution_count": null,
   "metadata": {},
   "outputs": [],
   "source": [
    "closeness=nx.closeness_centrality(G)\n",
    "table=[[G.node[n]['name'], \"{:.3f}\".format(closeness[n])] for n in G.nodes]\n",
    "display_table(sorted(table, key=lambda table: table[1], reverse=True))"
   ]
  },
  {
   "cell_type": "code",
   "execution_count": null,
   "metadata": {},
   "outputs": [],
   "source": [
    "# calcul des codes couleurs\n",
    "options['node_color']=color_values(closeness)\n",
    "options['node_size'] =  [v * 5000 for v in closeness.values()]\n",
    "# dessin du graphe coloré\n",
    "draw_graph(G, **options)"
   ]
  },
  {
   "cell_type": "markdown",
   "metadata": {},
   "source": [
    "Centralité d'intermédiarité\n",
    "---"
   ]
  },
  {
   "cell_type": "code",
   "execution_count": null,
   "metadata": {},
   "outputs": [],
   "source": [
    "betweenness=nx.betweenness_centrality(G)\n",
    "table=[[G.node[n]['name'], \"{:.3f}\".format(betweenness[n])] for n in G.nodes]\n",
    "display_table(sorted(table, key=lambda table: table[1], reverse=True))"
   ]
  },
  {
   "cell_type": "code",
   "execution_count": null,
   "metadata": {},
   "outputs": [],
   "source": [
    "# calcul des codes couleurs\n",
    "options['node_color']=color_values(betweenness)\n",
    "options['node_size'] =  [v * 5000 for v in betweenness.values()]\n",
    "# dessin du graphe coloré\n",
    "draw_graph(G, **options)"
   ]
  },
  {
   "cell_type": "code",
   "execution_count": null,
   "metadata": {},
   "outputs": [],
   "source": []
  }
 ],
 "metadata": {
  "kernelspec": {
   "display_name": "Python 3 (ipykernel)",
   "language": "python",
   "name": "python3"
  },
  "language_info": {
   "codemirror_mode": {
    "name": "ipython",
    "version": 3
   },
   "file_extension": ".py",
   "mimetype": "text/x-python",
   "name": "python",
   "nbconvert_exporter": "python",
   "pygments_lexer": "ipython3",
   "version": "3.12.3"
  }
 },
 "nbformat": 4,
 "nbformat_minor": 4
}
