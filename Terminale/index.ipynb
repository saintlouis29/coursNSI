{
 "cells": [
  {
   "cell_type": "markdown",
   "metadata": {},
   "source": [
    "[Accueil](../index.ipynb)"
   ]
  },
  {
   "cell_type": "markdown",
   "metadata": {},
   "source": [
    "# NSI - Terminale\n",
    "\n",
    "[Accès au cours sur **google colab**](https://colab.research.google.com/github/saintlouis29/coursNSI/blob/main/index.ipynb)\n",
    "\n",
    "## Sommaire du programme\n",
    "\n",
    "### 1 Histoire\n",
    "\n",
    "### 2 Structures de données\n",
    "\n",
    "- 2.1 [Interface et implémentation](2_Structures_de_donnees/Interface_Implementation/Interface_implementation.ipynb)\n",
    "- 2.2 [Programmation objet](2_Structures_de_donnees/Langage_Objet/Le_langage_objet.ipynb)\n",
    "- 2.3 [Listes](2_Structures_de_donnees/List/List.ipynb), [piles et files](2_Structures_de_donnees/Pile_et_File/Pile_et_File.ipynb). Dictionnaires, index et clé\n",
    "- 2.4 [Arbres, Arbres binaires](2_Structures_de_donnees/Arbre/arbre.ipynb)\n",
    "- 2.5 [Graphes](2_Structures_de_donnees/Graphe/Graphes.ipynb)\n",
    "\n",
    "### 3 Base de données\n",
    "\n",
    "- 3.1 [Modèle relationnel](3_base_de_donnees/Modele_relationnel.ipynb)\n",
    "- 3.2 [Base de données relationnelle](3_base_de_donnees/Base_relationnelle.ipynb)\n",
    "- 3.3 [Système de gestion de bases de données relationnelles](3_base_de_donnees/Systeme_gestion_base_relationnelle.ipynb) (TODO)\n",
    "- 3.4 [Langage SQL](3_base_de_donnees/langage_SQL.ipynb)\n",
    "\n",
    "### 4 Architecture matérielle et système d'exploitation\n",
    "\n",
    "- 4.1 [Composants intégrés d'un système sur puce](4_Archi_Reseau/4.1_soc/4.1_soc.ipynb)\n",
    "- 4.2 [Gestion des processus par l'OS](4_Archi_Reseau/4.2_processus/4.2_processus.ipynb)\n",
    "- 4.3 [Protocole de routage](4_Archi_Reseau/4.3_protocoles_routage/protocoles_routage.ipynb)\n",
    "- 4.4 [Sécurisation des communications](4_Archi_Reseau/4.4_securisation_communications/4.4_securisation_communications.ipynb)\n",
    "\n",
    "### 5 Langages et programmation\n",
    "\n",
    "- 5.1 [Programme en tant que donnée, calculabilité, décidabilité](5_langages_programmation/Calculabilite.ipynb)\n",
    "- 5.2 [Récursivité](5_langages_programmation/Recursivite/recursivite.ipynb)\n",
    "- 5.3 [Modularité](5_langages_programmation/Modularite.ipynb) (TODO)\n",
    "- 5.4 [Paradigmes](5_langages_programmation/Paradigmes.ipynb) (TODO)\n",
    "- 5.5 Mise au point des programmes, gestion des bugs  (TODO)\n",
    "\n",
    "### 6 Algorithmique\n",
    "\n",
    "- 6.1 Algorithme sur les [arbres binaires](6_Algorithmique/6.1_BT_BST/binary_tree.ipynb) et les [BST](6_Algorithmique/6.1_BT_BST/binary_search_tree.ipynb)\n",
    "- 6.2 [Algorithme sur les graphes](6_Algorithmique/6.2_Algorithmes_sur_les_graphes/index.ipynb)\n",
    "- 6.3 [Diviser pour régner](6_Algorithmique/6.3_Diviser_pour_regner/index.ipynb)\n",
    "- 6.4 [Programmation dynamique](6_Algorithmique/6.4_Programmation_dynamique/index.ipynb)\n",
    "- 6.5 [Recherche textuelle](6_Algorithmique/6.5_Recherche_textuelle/boyer_moore.ipynb)\n",
    "  \n",
    "## TPs\n",
    "\n",
    "- [TP Sierpinski](TPs/Sierpinski/Sierpinski.ipynb)\n",
    "- [Implémentation d'un arbre binaire en POO en utilisant la récursivité](6_Algorithmique/6.1_BT_BST/binary_tree.ipynb)\n",
    "- [TP tour de Hanoi](TPs/Hanoi/tp_hanoi.ipynb)\n",
    "- [TP maternité (SQL)](3_base_de_donnees/ex_sql_maternite.ipynb)\n",
    "- [TP chien (POO)](TPs/Chien/Chien.ipynb)\n",
    "\n",
    "## Sujets pratiques\n",
    "\n",
    "- [Sujets 2022](SP/2022.ipynb)"
   ]
  },
  {
   "cell_type": "markdown",
   "metadata": {},
   "source": [
    "[Retour à l'accueil](../index.ipynb)"
   ]
  }
 ],
 "metadata": {
  "kernelspec": {
   "display_name": "Python 3 (ipykernel)",
   "language": "python",
   "name": "python3"
  },
  "language_info": {
   "codemirror_mode": {
    "name": "ipython",
    "version": 3
   },
   "file_extension": ".py",
   "mimetype": "text/x-python",
   "name": "python",
   "nbconvert_exporter": "python",
   "pygments_lexer": "ipython3",
   "version": "3.12.3"
  },
  "toc": {
   "base_numbering": 1,
   "nav_menu": {},
   "number_sections": true,
   "sideBar": true,
   "skip_h1_title": false,
   "title_cell": "Table of Contents",
   "title_sidebar": "Contents",
   "toc_cell": false,
   "toc_position": {},
   "toc_section_display": true,
   "toc_window_display": false
  }
 },
 "nbformat": 4,
 "nbformat_minor": 4
}
