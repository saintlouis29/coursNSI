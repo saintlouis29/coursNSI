{
 "cells": [
  {
   "cell_type": "markdown",
   "id": "d8e9ccfe-b7d4-467f-83fc-a9c4b7de84b5",
   "metadata": {},
   "source": [
    "[Accueil](../../../index.ipynb) > [Sommaire de Terminale](../../index.ipynb)"
   ]
  },
  {
   "cell_type": "markdown",
   "id": "b54e577b-ad8d-4160-86dc-2392b53a3e44",
   "metadata": {},
   "source": [
    "<img src=\"img/banner.jpg\">\n",
    "<h1>Sécurisation des communications</h1>"
   ]
  },
  {
   "cell_type": "markdown",
   "id": "45f5f912-6d90-4334-89d2-6ddba8025727",
   "metadata": {},
   "source": [
    "La science de la sécurisation des communications s'appelle la **cryptologie** (Science du secret) qui est composée de :\n",
    "- la **cryptographie** (\"Ecriture secrète)\"\n",
    "- la **crytanalyse** (\"Analyse des mécanismes de cryptographie\")\n",
    "\n",
    "La sécurisation doit permettre :\n",
    "- La **confidentialité** du message échangé.\n",
    "- l'**authenticité** (\"qui est l'expéditeur ?\")\n",
    "- l'**intégrité** (\"y a t-il eu modification?\")\n",
    "\n",
    "## Vocabulaire\n",
    "\n",
    "- **Coder** : Représenter l'information pour un ensemble de signes.\n",
    "- **Décoder** : Interpréter un ensemble de signes pour comprendre l'information.\n",
    "- **Chiffrer** : Rendre incompréhensible un code à l'aide d'une clé de chiffrement.\n",
    "- **Déchiffrer** : Retrouver le code originel d'un message chiffré à l'aide d'une clé de déchiffrement.\n",
    "- **Décrypter** : Retrouver les signes originaux à partir d’un message chiffré, sans utiliser de clé de déchiffrement.\n"
   ]
  },
  {
   "cell_type": "markdown",
   "id": "ff31716d-a7d0-4abe-ad77-00d9e56039f4",
   "metadata": {},
   "source": [
    "##  Chiffrement symétrique\n",
    "On parle de **chiffrement symétrique** (ou chiffrement à **clé symétrique**) lorsqu'une même clé sert à chiffrer et déchiffrer un message.\n",
    "\n",
    "[Article Wikipedia sur le chiffrement symétrique](https://fr.wikipedia.org/wiki/Cryptographie_sym%C3%A9trique)\n",
    "\n",
    "Il existe de nombreux chiffrements qui ont évolué en complexité au cours du temps."
   ]
  },
  {
   "cell_type": "markdown",
   "id": "ffa8df4f-bc43-474c-988c-eb97a4325d08",
   "metadata": {},
   "source": [
    "### Code de César\n",
    "<figure style=\"float:left; margin:10px 50px 10px 0px\">\n",
    "    <img src=\"img/caesar.jpg\"\n",
    "         alt=\"Jules César\"\n",
    "         title=\"Un buste de Jules César\"\n",
    "         style=\"border:1px solid black\"\n",
    "         >\n",
    "    <figcaption>César (-100 -44)</figcaption>\n",
    "</figure>\n",
    "Utilisé par Jules César dans ses correspondances secrêtes, cette méthode de chiffrement est très simple. Elle consiste à décaler chaque lettre du texte d'origine par une autre lettre à distance fixe. Si le décalage dépasse la lettre Z on reprend au début. Il s'agit donc d'une permutation circulaire des lettres de l'alphabet.\n",
    "\n",
    "Voir l'article [Wikipedia](https://fr.wikipedia.org/wiki/Chiffrement_par_d%C3%A9calage).\n",
    "<figure>\n",
    "<img src=\"img/caesar3.svg\" alt=\"Chiffrement de César\" title=\"Chiffrement de César\">\n",
    "<figcaption>Exemple d'un décalage de 3 dans le chiffrement de César.</figcaption>\n",
    "</figure>\n",
    "\n",
    "Evidemment ce genre de code nous apparait aujourd'hui trivial à décoder. En utilisant uniquement les 26 lettres de l'alphabet, il existe uniquement 25 clés possibles."
   ]
  },
  {
   "cell_type": "markdown",
   "id": "52b553ec-466f-42c8-b166-e617650df407",
   "metadata": {},
   "source": [
    "**EXERCICE**\n",
    "\n",
    "- Ecrire une *fonction encode_cesar(text, cle)* qui prend en paramètre un texte (string) et une clé (entier) et qui retourne une chaine de caractère codée par le chiffrement de César.\n",
    "- Ecrire une *fonction decode_cesar(text, cle)* qui prend en paramètre un texte codé (string) et une clé (entier) et qui retourne une chaine de caractère décodée.\n",
    "\n",
    "Vous pourrez utiliser la fonction ci- dessous qui supprime les accents afin de se limiter aux caractères ASCII."
   ]
  },
  {
   "cell_type": "code",
   "execution_count": null,
   "id": "b92052c0-89bc-4320-a351-4bcf05d9a798",
   "metadata": {},
   "outputs": [],
   "source": [
    "import unicodedata, string\n",
    "\n",
    "def remove_accents(input_str):\n",
    "    nfkd_form = unicodedata.normalize('NFKD', input_str)\n",
    "    only_ascii = nfkd_form.encode('ASCII', 'ignore')\n",
    "    #no_punctuation = only_ascii.decode(\"utf-8\").translate(str.maketrans('', '', string.punctuation))\n",
    "    return only_ascii.decode(\"utf-8\")\n",
    "\n",
    "text = remove_accents(\"Ceci est un texte en français, il possède donc des accents comme le é, à, ô et des lettres qui ne figurent pas dans le code ASCII.\")\n",
    "print(text)"
   ]
  },
  {
   "cell_type": "markdown",
   "id": "9dc5ae8d-72f8-455c-8dd9-b78a8e46a874",
   "metadata": {},
   "source": [
    "La [table ASCII](https://fr.wikipedia.org/wiki/American_Standard_Code_for_Information_Interchange#Description) comporte des caractères non imprimables (retour à la ligne, tabulation...). Nous allons les préserver lors de l'encodage.\n",
    "\n",
    "les caractères imprimables sont numérotés de 32 (espace) à 126 (~) soit 94 caractères imprimables. Afin de faciliter la 'rotation' des caractères, nous allons décaler de -32 les numéros de chaque lettre lors du modulo 95. Et redécaler le +32 le résultat obtenu."
   ]
  },
  {
   "cell_type": "code",
   "execution_count": null,
   "id": "7d4d1dd9-9575-4200-9863-54d7e406949c",
   "metadata": {},
   "outputs": [],
   "source": [
    "def encode_caesar(text:str, n:int)->str:\n",
    "    pass # a coder\n",
    "    \n",
    "tests = [\n",
    "    (1, \"~\", \" \", encode_caesar(\"~\", 1)),\n",
    "    (1, \"a\", \"b\", encode_caesar(\"a\", 1)),\n",
    "    (2, \"~\", \"!\", encode_caesar(\"~\", 2)),\n",
    "    (2, \"ac\", \"ce\", encode_caesar(\"ac\", 2)),  \n",
    "]\n",
    "for n, text, expected, result in tests:\n",
    "    assert result==expected, f\"un décalage de {n} de '{text}' aurait du produire '{expected}' mais retourne '{result}'.\""
   ]
  },
  {
   "cell_type": "markdown",
   "id": "5243776e-abff-41e7-aff1-d73bc5bac65b",
   "metadata": {},
   "source": [
    "Pour le déchiffrement, *decode_caesar(text:str, n:int)*, nous allons réutiliser la fonction *encode_caesar(text:str, n:int)* en utilisant -n."
   ]
  },
  {
   "cell_type": "code",
   "execution_count": null,
   "id": "b28b23c8-de3c-4d62-a830-9110e4c46db9",
   "metadata": {},
   "outputs": [],
   "source": [
    "def decode_caesar(text:str, n:int)->str:\n",
    "    return encode_caesar(text, -n)\n",
    "\n",
    "tests = [\n",
    "    (1, \" \", \"~\", decode_caesar(\" \", 1)),\n",
    "    (1, \"b\", \"a\", decode_caesar(\"b\", 1)),\n",
    "    (2, \"!\", \"~\", decode_caesar(\"!\", 2)),\n",
    "    (2, \"ce\", \"ac\", decode_caesar(\"ce\", 2)),  \n",
    "]\n",
    "for n, text, expected, result in tests:\n",
    "    assert result==expected, f\"un décalage de {n} de '{text}' aurait du produire '{expected}' mais retourne '{result}'.\""
   ]
  },
  {
   "cell_type": "markdown",
   "id": "e7dfe1e8-145a-4c98-840a-a738ecc2d326",
   "metadata": {},
   "source": [
    "### Chiffrement par substitution\n",
    "\n",
    "Dans cette méthode le décalage n'est pas constant. On substitue chaque lettre du texte par une autre lettre de l'alphabet.\n",
    "\n",
    "**Exemple**:\n",
    "\n",
    "ABCDEFGHIJKLMNOPQRSTUVWXYZ\n",
    "\n",
    "AZERTYUIOPQSDFGHJKLMWXCVBN\n",
    "\n",
    "En utilisant uniquement les lettres majuscules on obtient donc 26! possibilités soit environ $4 \\times 10^{26}$ possibilités.\n",
    "\n",
    "Cependant ce chiffrement ne résiste pas à la **méthode des fréquences des lettres** qui permet de \"casser\" les clés de cryptage."
   ]
  },
  {
   "cell_type": "markdown",
   "id": "a1eb8ad0-9d69-478e-a02f-23bce4eea1f3",
   "metadata": {},
   "source": [
    "### Chiffrement de Vigénère (XVI siècle)\n",
    "\n",
    "Cette méthode a été mise au point pour contrer la méthode des **fréquences des lettres**. La clé donne le décalage à effectuer, celui devient donc variable.\n",
    "\n",
    "**Exemple**\n",
    "\n",
    "Le message est \"SECRET\" et la clé est \"BCD\" on applique donc un décalage de 1, 2 et 3.\n",
    "\n",
    "\"S**E**CR**E**T**E**\" devient donc \"T**G**FS**G**W**F**\". On remarque que la lettre E n'est pas codée toujours par le même symbole."
   ]
  },
  {
   "cell_type": "markdown",
   "id": "dcac6b3c-04ec-4b30-a46f-59c42308d860",
   "metadata": {},
   "source": [
    "### Chiffrement de Vernam (XX siècle)\n",
    "\n",
    "Voir [article Wikipedia](https://fr.wikipedia.org/wiki/Masque_jetable)\n",
    "\n",
    "Il s'agit d'un système parfaitement sûr. [Claude Shannon](https://fr.wikipedia.org/wiki/Claude_Shannon) a démontré que ce système est inviolable si on respecte les 3 règles de Vernam:\n",
    "\n",
    " - La clé doit être aussi longue que le message;\n",
    " - Les caractères de la clé doivent être choisis de façon aléatoire;\n",
    " - La clé ne doit être utilisée qu'une seule fois (on parle de masque jetable).\n",
    " \n",
    "<div class=\"alert alert-info\">Une attaque par force brute est ici imposible : on aurait tous les messages possibles!</div>\n",
    " \n",
    "La clé de chiffrement doit être **unique**. L'unicité est indispensable sinon la connaissance d'un message chiffré et déchiffré permet de retrouver la clé et donc de l'utiliser sur d'autres messages chiffrés. \n",
    " \n",
    " **Exemple**\n",
    " \n",
    " - Le message est \"HELLO\"\n",
    " - la clé aléatoire est \"WMCKL\"\n",
    " \n",
    " On additionne chaque lettre du mot avec chaque lettre de la clé (module 26)\n",
    "\n",
    "```\n",
    "   7 (H)   4 (E)  11 (L)  11 (L)  14 (O) message\n",
    "+ 22 (W)  12 (M)   2 (C)  10 (K)  11 (L) masque\n",
    "= 29      16      13      21      25     masque + message\n",
    "=  3 (D)  16 (Q)  13 (N)  21 (V)  25 (Z) masque + message  modulo 26\n",
    "``` \n",
    "\n",
    "Le message chiffré est donc **DQNVZ**\n",
    "\n",
    "Pour déchiffrer on soustrait le masque au texte chiffré.\n",
    "\n",
    "```\n",
    "    3 (D)  16 (Q)  13 (N)  21 (V)  25 (Z) message chiffré\n",
    "-  22 (W)  12 (M)   2 (C)  10 (K)  11 (L) masque\n",
    "= -19       4      11      11      14     message chiffré - masque\n",
    "=   7 (H)   4 (E)  11 (L)  11 (L)  14 (O) message chiffré - masque modulo 26\n",
    "``` "
   ]
  },
  {
   "cell_type": "markdown",
   "id": "1fb435b5-dfb1-44c2-88f8-e629ca68909e",
   "metadata": {},
   "source": [
    "**Remarque** : Dans la pratique, la clé n'est pas aussi longue que le message, elle est **étendue** par répétition."
   ]
  },
  {
   "cell_type": "markdown",
   "id": "cd5ff2d2-bf73-4526-aeee-6b19725c0f40",
   "metadata": {},
   "source": [
    "#### Chiffrement par l'opérateur XOR\n",
    "\n",
    "Dans les messages numériques on applique un décalage modulo 2 ce qui équivaut à utiliser l'opérateur **XOR**.\n",
    "\n",
    "Le principe est le suivant: On possède un texte T à encoder et un texte clé C.\n",
    "**Si la clé est plus courte que le message on répète la clé**.\n",
    "\n",
    "Pour chaque code (ascii, utf-8...) du texte on effectue l'operation XOR avec le code de la lettre de la clé.\n",
    "\n",
    "**Rappel:**\n",
    "La table logique XOR (ou exclusif) est la suivante.\n",
    "\n",
    "<table style=\"border:1px solid black\">\n",
    "    <thead>\n",
    "        <tr>\n",
    "            <th colspan=\"3\">Table de vérité de l'opérateur OU EXCLUSIF</th>\n",
    "        </tr>\n",
    "    </thead>\n",
    "    <tbody>\n",
    "        <tr>\n",
    "            <td style=\"border:1px solid black\">a</td>\n",
    "            <td style=\"border:1px solid black\">b</td>\n",
    "            <td style=\"border:1px solid black\">out=a⊕b</td>\n",
    "        </tr>\n",
    "        <tr>\n",
    "            <td style=\"border:1px solid black\">0</td>\n",
    "            <td style=\"border:1px solid black\">0</td>\n",
    "            <td style=\"border:1px solid black\">0</td>\n",
    "        </tr>\n",
    "        <tr>\n",
    "            <td style=\"border:1px solid black\">0</td>\n",
    "            <td style=\"border:1px solid black\">1</td>\n",
    "            <td style=\"border:1px solid black\">1</td>\n",
    "        </tr>\n",
    "        <tr>\n",
    "            <td style=\"border:1px solid black\">1</td>\n",
    "            <td style=\"border:1px solid black\">0</td>\n",
    "            <td style=\"border:1px solid black\">1</td>\n",
    "        </tr>\n",
    "        <tr>\n",
    "            <td style=\"border:1px solid black\">1</td>\n",
    "            <td style=\"border:1px solid black\">1</td>\n",
    "            <td style=\"border:1px solid black\">0</td>\n",
    "        </tr>\n",
    "    </tbody>\n",
    "</table>\n",
    "\n",
    "\n",
    "**Exemple**\n",
    "\n",
    "Le texte à coder est \"Bonjour\".\n",
    "La clé est \"NSI\"\n",
    "\n",
    "Effectuons le code sur la première lettre du message et la première lettre de la clé."
   ]
  },
  {
   "cell_type": "code",
   "execution_count": null,
   "id": "da56cb97-6d21-4bac-b379-6dc76e0c2bab",
   "metadata": {},
   "outputs": [],
   "source": [
    "mot = \"Bonjour\"\n",
    "cle = \"nstgjeu\"\n",
    "\n",
    "lettre1_mot = mot[0]\n",
    "lettre1_cle = cle[0]\n",
    "\n",
    "print(\"Encodage de la première lettre.\")\n",
    "print(\"-------------------------------\")\n",
    "print(f\"{lettre1_mot} -> {ord(lettre1_mot)} ->  {bin(ord(lettre1_mot))}\")\n",
    "print(f\"{lettre1_cle} -> {ord(lettre1_cle)} -> {bin(ord(lettre1_cle))}\")\n",
    "\n",
    "print(\"Effectuons un XOR\")\n",
    "\n",
    "result = ord(lettre1_mot) ^ ord(lettre1_cle)\n",
    "print(f\"{lettre1_mot} ^ {lettre1_cle} => {result} soit {chr(result)}\")\n",
    "\n",
    "print(\"Décodage\")\n",
    "print(\"--------\")\n",
    "\n",
    "decode = ord(chr(result)) ^ ord(lettre1_cle)\n",
    "\n",
    "print(f\"{chr(result)} ^ {lettre1_cle} soit {result} ^ {ord(lettre1_cle)} -> {decode} c'est à dire la lettre {chr(decode)}\")"
   ]
  },
  {
   "cell_type": "markdown",
   "id": "65b2c976-2d72-4d1d-98b9-6d98c527bff3",
   "metadata": {},
   "source": [
    "Le décodage est possible grâce à la **réversibilité** de l'opérateur XOR.\n",
    "\n",
    "<table style=\"border:1px solid black\">\n",
    "    <thead>\n",
    "        <tr>\n",
    "            <th colspan=\"3\">Réversibilité de l'opérateur XOR </th>\n",
    "        </tr>\n",
    "    </thead>\n",
    "    <tbody>\n",
    "        <tr>\n",
    "            <td style=\"border:1px solid black\">T</td>\n",
    "            <td style=\"border:1px solid black\">C</td>\n",
    "            <td style=\"border:1px solid black\">T chiffré = T⊕C</td>\n",
    "            <td style=\"border:1px solid black\">T déchiffré = (T⊕C)⊕C = T</td>\n",
    "        </tr>\n",
    "        <tr>\n",
    "            <td style=\"border:1px solid black\"><b>0</b></td>\n",
    "            <td style=\"border:1px solid black\">0</td>\n",
    "            <td style=\"border:1px solid black\">0</td>\n",
    "            <td style=\"border:1px solid black\"><b>0</b></td>\n",
    "        </tr>\n",
    "        <tr>\n",
    "            <td style=\"border:1px solid black\"><b>0</b></td>\n",
    "            <td style=\"border:1px solid black\">1</td>\n",
    "            <td style=\"border:1px solid black\">1</td>\n",
    "            <td style=\"border:1px solid black\"><b>0</b></td>\n",
    "        </tr>\n",
    "        <tr>\n",
    "            <td style=\"border:1px solid black\"><b>1</b></td>\n",
    "            <td style=\"border:1px solid black\">0</td>\n",
    "            <td style=\"border:1px solid black\">1</td>\n",
    "            <td style=\"border:1px solid black\"><b>1</b></td>\n",
    "        </tr>\n",
    "        <tr>\n",
    "            <td style=\"border:1px solid black\"><b>1</b></td>\n",
    "            <td style=\"border:1px solid black\">1</td>\n",
    "            <td style=\"border:1px solid black\">0</td>\n",
    "            <td style=\"border:1px solid black\"><b>1</b></td>\n",
    "        </tr>\n",
    "    </tbody>\n",
    "</table>\n",
    "\n",
    "**Exercice1** : Démontrer algébriquement que (a⊕b)⊕b = a."
   ]
  },
  {
   "cell_type": "markdown",
   "id": "e35acd49-e85c-49be-867e-82c79283f024",
   "metadata": {},
   "source": [
    "**Exercice2** :\n",
    "\n",
    "Ecrire une fonction *encode_xor(text, cle)* qui prend en paramètre un texte (string) et une clé (texte) et qui retourne une chaîne de caractères codée en hexadécimal par le chiffrement l'opérateur XOR.\n",
    "\n",
    "Voici une aide pour les étapes à suivre afin de réaliser tout ceci sur n'importe quel type de texte en UTF-8:\n",
    "- On encode en utf-8 : on convertit le texte et la clé en deux séries de bytes\n",
    "- On crée une structure pour stocker le résultat de l'opération XOR\n",
    "- On boucle sur chaque byte du texte\n",
    "  - On applique le XOR\n",
    "  - On stocke le résultat dans notre structure\n",
    "- On retourne la structure sous forme hexa (string)\n",
    "\n",
    "Voici, ci-dessous un exemple de ces conversions et de la structure."
   ]
  },
  {
   "cell_type": "code",
   "execution_count": null,
   "id": "461621e9-ad73-413e-b767-ee6dae0f7d45",
   "metadata": {},
   "outputs": [],
   "source": [
    "# ----------------------------------\n",
    "#  EXEMPLE d'UTILISATION\n",
    "# ----------------------------------\n",
    "text = '🔐🐍'                     # Prenons un texte\n",
    "text_bytes = text.encode('utf-8') # Conversion du texte en bytes UTF-8\n",
    "print(f\"Le texte {text} se code sur {len(text_bytes)} bytes (octets).\")\n",
    "\n",
    "text_bytes_array = bytearray('', 'utf-8')       # Structure spéciale pour le stockage de bytes\n",
    "for i, byte in enumerate(text_bytes):# On peut énumérer les bytes du texte\n",
    "    print(f\"byte{i+1} : {byte}\")\n",
    "    barray.append(byte)\n",
    "print(barray)\n",
    "print(f\"Stockage des bytes (en hexa) -> {barray.hex()}\") # Sortie en hexa (string)\n",
    "barray.clear()"
   ]
  },
  {
   "cell_type": "code",
   "execution_count": null,
   "id": "afeebec0-ea62-4ba5-a26e-c45ed14aee71",
   "metadata": {},
   "outputs": [],
   "source": [
    "def encode_xor(text: str, key: str) -> str:\n",
    "    pass\n",
    "    \n",
    "# test\n",
    "texte = \"Hello, 世界! 🐍\"\n",
    "cle = \"clé\"\n",
    "expected = '2b09afc50c40e34ddbfa243cef4de359fcfc4e'\n",
    "result = encode_xor(texte, cle)\n",
    "assert result == expected, f\"Le résultat de l'encodage de '{texte}' avec la clé '{cle}' aurait du être '{expected}' mais vaut '{result}'.\""
   ]
  },
  {
   "cell_type": "markdown",
   "id": "01f88ffa-67ff-4a5f-b713-5abc1f531725",
   "metadata": {},
   "source": [
    "**Exercice 3 : Décodage**\n",
    "\n",
    "Pour le décodage:\n",
    "\n",
    "- On convertit en bytes le texte encodé qui est en hexa;\n",
    "- On encode en utf8 la clé;\n",
    "- On crée une structure pour stocker le résultat de l'opération XOR;\n",
    "- On boucle sur chaque byte du texte;\n",
    "  - On applique le XOR;\n",
    "  - On stocke le résultat dans notre structure;\n",
    "- On décode la structure en ut8;\n"
   ]
  },
  {
   "cell_type": "code",
   "execution_count": null,
   "id": "77c5fa55-33ca-47eb-bcfe-aaebfd52729d",
   "metadata": {},
   "outputs": [],
   "source": [
    "# ----------------------------------\n",
    "#  EXEMPLE d'UTILISATION\n",
    "# ----------------------------------\n",
    "text_hexa = 'f09f9490f09f908d'\n",
    "text_bytes = bytes.fromhex(text_hexa)\n",
    "text = text_bytes.decode('utf-8')\n",
    "print(text)"
   ]
  },
  {
   "cell_type": "code",
   "execution_count": null,
   "id": "3888661e-5bde-4d12-8076-71d5428aa07e",
   "metadata": {},
   "outputs": [],
   "source": [
    "def decode_xor(text: str, key: str) -> str:\n",
    "    pass\n",
    "# test\n",
    "texte = '2b09afc50c40e34ddbfa243cef4de359fcfc4e'\n",
    "cle = \"clé\"\n",
    "expected = \"Hello, 世界! 🐍\"\n",
    "result = decode_xor(texte, cle)\n",
    "assert result == expected, f\"Le résultat du décodage de '{texte}' avec la clé '{cle}' aurait du être '{expected}' mais vaut '{result}'.\""
   ]
  },
  {
   "cell_type": "markdown",
   "id": "ec58b5ef-1735-4b94-9f1a-2a3580bee2fe",
   "metadata": {},
   "source": [
    "**A FAIRE**\n",
    "\n",
    "- Encoder le livre [Alice aux pays des merveilles](https://www.gutenberg.org/ebooks/11.txt.utf-8) avec une clé.\n",
    "- Fournir le texte encodé à un de vos collègues avec votre clé. A lui de décoder."
   ]
  },
  {
   "cell_type": "markdown",
   "id": "da0f1c8e-4e0b-4d4a-8c1d-8b28fdba9d1f",
   "metadata": {},
   "source": [
    "#### Algorithme AES\n",
    "\n",
    "AES (*Advanced Encryption Standard*) est un des algorithmes de chiffrement symétrique les plus utilisés.\n",
    "\n",
    "[Voir l'article Wikipédia](https://fr.wikipedia.org/wiki/Advanced_Encryption_Standard)\n",
    "\n",
    "Il ressemble au chiffrement XOR tout en étant plus complexe.\n",
    "\n",
    "- la clé initiale est étendue mais pas par simple répétition\n",
    "- le message et clé sont mélangés par un opérateur réversible différent de ⊕."
   ]
  },
  {
   "cell_type": "markdown",
   "id": "34774360-c627-430d-acca-2895e65a9cb4",
   "metadata": {},
   "source": [
    "## Chiffrement asymétrique\n",
    "\n",
    "Le principal problème des chiffrements étudiés au préalable est **l'échange de la clé** : Comment s'échanger une clef de façon sécurisée?\n",
    "\n",
    "### Principe du protocole d'échange de clés de Diffie-Hellman\n",
    "\n",
    "<figure>\n",
    "<img src=\"img/hellman_diffie.jpg\" alt=\"Martin Hellman et Whitfield Diffie\" title=\"Martin Hellman et Whitfield Diffie\" width=\"33%\" style=\"border:1px solid black;\">\n",
    "<figcaption>Martin Hellman et Whitfield Diffie</figcaption>\n",
    "</figure>\n",
    "\n",
    "Le principe du chiffrement asymétrique a été créé par les mathématiciens Whitfield Diffie et Martin Hellman en 1976. Ils ont reçu le prix Turing en 2015 pour cette invention.\n",
    "\n",
    "\n",
    "\n",
    "<img  style=\"float:right; margin:10px 10px 10px 50px\" src=\"img/peinture.png\" alt=\"Analogie des pots de peinture pour l'echange de clés\" title=\"Analogie des pots de peinture pour l'echange de clés\" width=\"30%\" style=\"float:right\">\n",
    "\n",
    "L'analogie la plus courante pour expliquer le principe est celle des pots de peinture.\n",
    "\n",
    "- Alice et Bob choisissent une couleur commune et la partage <u>publiquement</u>;\n",
    "- Chacun choisit une <u>couleur secrète</u> et la mélange avec la <u>couleur publique</u>;\n",
    "- Ils s'échangent <u>publiquement</u> les couleurs obtenues;\n",
    "- Chacun mélange sa couleur secrète avec le mélange de son interlocuteur, ils obtiennent donc chacun **une clé commune** sans qu'elle n'ai jamais été diffusée publiquement.\n",
    "\n",
    "Mathématiquement, ce mélange est une fonction M à deux variables telle que:\n",
    "\n",
    "- Si on connait $M(x,y)$ et $x$ alors on ne peut pas retrouver $y$ ( ou alors très difficilement) \n",
    "- Pour tous nombres x, y et z $M(M(x,y), z) = M(M(z, x), y)$ c'est la clé commune.\n",
    "  - x est ici la couleur publique\n",
    "  - y la couleur secrète d'Alice\n",
    "  - z la couleur secrète de Bob\n",
    "  - M(x, y) est la couleur mélangée d'Alice échangée publiquement à Bob\n",
    "  - M(x, z) est la couleur mélangée de Bob échangée publiquement à Alice\n",
    "  - M(M(x,y), z) et M(M(z, x), y) sont leurs deux clés qui sont égales.\n",
    "\n",
    "Un inconvénient subsiste : cette méthode ne contient **aucune authentification** des participants.\n",
    "\n",
    "### Le chiffrement RSA\n",
    "\n",
    "<figure style=\"float:right\">\n",
    "<img src=\"img/rsa_inventors.jpg\" alt=\"Ronald Rivest, Adi Shamir, and Leonard Adleman\" title=\"Ronald Rivest, Adi Shamir, and Leonard Adleman\" style=\"border:1px solid black;\">\n",
    "<figcaption>Ronald Rivest, Adi Shamir et Leonard Adleman les inventeurs du chiffrement RSA.</figcaption>\n",
    "</figure>\n",
    "\n",
    "Aujourd'hui, l'algorithme de chiffrement le plus utilisé est le [chiffrement RSA](https://fr.wikipedia.org/wiki/Chiffrement_RSA). Inventé en 1978, l'algorithme de chiffrement est dans le domaine public depuis 2000 et peut donc être utilisé gratuitement.\n",
    "\n",
    "Mathématiquement, l'algorithme se base sur les **nombres premiers**, la **congruence** et le **petit théorème de Fermat**.\n",
    "\n",
    "Voir [un exemple sur Wikipedia](https://fr.wikipedia.org/wiki/Chiffrement_RSA#Exemple).\n"
   ]
  },
  {
   "cell_type": "markdown",
   "id": "3342ab66-5d4f-4883-8b5b-bae764d622cc",
   "metadata": {},
   "source": [
    "## HTTPS\n",
    "\n",
    "Nous avons vu que le principe de Diffie-Hellman ne propose pas de système d'authentification. Si une personne malveillante (Eve) intercepte les communications d'Alice et Bob elle peut se faire passer pour l'autre pour chacun de ces deux protaganistes. C'est ce qu'on appelle l'**attaque de l'homme du milieu**.\n",
    "\n",
    "Afin d'authentifier les serveurs lors des connections https, on demande à ces serveurs de fournir un **certificat numérique**. Ces certificat sont fournis aux administrateur d'un site par des **autorités de certification** (*Certificate Authority :CA*). L'autorité de certification fournit des moyens pour vérifier la validité de ces certificats.\n",
    "\n",
    "*https* utilise le protocole **TLS** (Transport Layer Security) qui utilise deux types de chiffrement:\n",
    " - Un chiffrement symétrique (AES) à l'aide d'une clé secrète\n",
    " - le chiffrement asymétrique (RSA) pour l’échange en toute sécurité de cette clé secrète\n",
    " \n",
    " <figure style=\"float:right\">\n",
    "<img src=\"img/TLS_certification_process3.png\" alt=\"Principe d'une communication en https\" title=\"Principe d'une communication en https\" style=\"border:1px solid black;\" width=\"50%\">\n",
    "<figcaption>Principe d'une communication en https</figcaption>\n",
    "</figure>\n"
   ]
  },
  {
   "cell_type": "code",
   "execution_count": 103,
   "id": "5d961d7d-00b1-4a70-8547-8b354f3c6a79",
   "metadata": {
    "tags": []
   },
   "outputs": [
    {
     "data": {
      "text/html": [
       "<iframe width=\"560\" height=\"315\" src=\"https://www.youtube.com/embed/1Yv8m398Fv0?si=JV-n3QLZqLSOunAz\" title=\"YouTube video player\" frameborder=\"0\" allow=\"accelerometer; autoplay; clipboard-write; encrypted-media; gyroscope; picture-in-picture; web-share\" referrerpolicy=\"strict-origin-when-cross-origin\" allowfullscreen></iframe>\n"
      ],
      "text/plain": [
       "<IPython.core.display.HTML object>"
      ]
     },
     "metadata": {},
     "output_type": "display_data"
    }
   ],
   "source": [
    "%%html\n",
    "<iframe width=\"560\" height=\"315\" src=\"https://www.youtube.com/embed/1Yv8m398Fv0?si=JV-n3QLZqLSOunAz\" title=\"YouTube video player\" frameborder=\"0\" allow=\"accelerometer; autoplay; clipboard-write; encrypted-media; gyroscope; picture-in-picture; web-share\" referrerpolicy=\"strict-origin-when-cross-origin\" allowfullscreen></iframe>"
   ]
  },
  {
   "cell_type": "markdown",
   "id": "30bf3d2c-3ec1-4263-b94a-484d01bf6270",
   "metadata": {},
   "source": []
  },
  {
   "cell_type": "code",
   "execution_count": 104,
   "id": "bc3a6ecf-b201-4f9f-a1e1-2bfdec2e4a3c",
   "metadata": {
    "tags": []
   },
   "outputs": [
    {
     "data": {
      "text/html": [
       "<iframe width=\"560\" height=\"315\" src=\"https://www.youtube.com/embed/7W7WPMX7arI?si=jlYWs-0bHQUdPTeY\" title=\"YouTube video player\" frameborder=\"0\" allow=\"accelerometer; autoplay; clipboard-write; encrypted-media; gyroscope; picture-in-picture; web-share\" referrerpolicy=\"strict-origin-when-cross-origin\" allowfullscreen></iframe>\n"
      ],
      "text/plain": [
       "<IPython.core.display.HTML object>"
      ]
     },
     "metadata": {},
     "output_type": "display_data"
    }
   ],
   "source": [
    "%%html\n",
    "<iframe width=\"560\" height=\"315\" src=\"https://www.youtube.com/embed/7W7WPMX7arI?si=jlYWs-0bHQUdPTeY\" title=\"YouTube video player\" frameborder=\"0\" allow=\"accelerometer; autoplay; clipboard-write; encrypted-media; gyroscope; picture-in-picture; web-share\" referrerpolicy=\"strict-origin-when-cross-origin\" allowfullscreen></iframe>"
   ]
  },
  {
   "cell_type": "markdown",
   "id": "9652cc02-4fb3-432c-8a27-025506f3f8c9",
   "metadata": {},
   "source": [
    "[Article Wikipedia sur le chiffrement asymétrique](https://fr.wikipedia.org/wiki/Cryptographie_asym%C3%A9trique)"
   ]
  },
  {
   "cell_type": "markdown",
   "id": "98435701-e77d-44d4-977b-831821d74e7c",
   "metadata": {},
   "source": [
    "[Accueil](../../../index.ipynb) > [Sommaire de Terminale](../../index.ipynb)"
   ]
  }
 ],
 "metadata": {
  "kernelspec": {
   "display_name": "Python 3 (ipykernel)",
   "language": "python",
   "name": "python3"
  },
  "language_info": {
   "codemirror_mode": {
    "name": "ipython",
    "version": 3
   },
   "file_extension": ".py",
   "mimetype": "text/x-python",
   "name": "python",
   "nbconvert_exporter": "python",
   "pygments_lexer": "ipython3",
   "version": "3.12.3"
  },
  "toc-autonumbering": true
 },
 "nbformat": 4,
 "nbformat_minor": 5
}
