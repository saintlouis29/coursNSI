{
 "cells": [
  {
   "cell_type": "markdown",
   "metadata": {},
   "source": [
    "[Accueil](../../../index.ipynb) > [Sommaire de Terminale](../../index.ipynb)"
   ]
  },
  {
   "cell_type": "markdown",
   "metadata": {},
   "source": [
    "# Protocoles de routage\n",
    "\n",
    "Ce chapitre est la continuité de la **découverte du réseau internet** découvert en SNT et poursuivi par les [**protocoles TCP/IP étudiés en première NSI**](../../../Premiere/6_Architecture/6_2_Reseau/index.ipynb\n",
    ").\n",
    "\n",
    "La partie pratique des protocoles de routage sera faite dans ce [TP](tp_rip.ipynb)."
   ]
  },
  {
   "cell_type": "markdown",
   "metadata": {},
   "source": [
    "## Quelques rappels\n",
    "\n",
    "### Le matériel du réseau\n",
    "\n",
    "Un réseau informatique est constitué de différents types de matériel :\n",
    "\n",
    "1. Les **hôtes** du réseau (PCs, portables, imprimante réseau, objet connectés...);\n",
    "2. Les **commutateurs** réseau (switch en anglais) qui permettent de relier entre eux les différents hôtes d'un même réseau;\n",
    "3. les **routeurs** qui permettent de relier plusieurs sous-réseaux.\n",
    "\n",
    "Ces matériels sont reliés par différents types de liaisons **filaires** ou **hertziennes**:\n",
    "- câbles ethernet\n",
    "- fibre optique\n",
    "- wifi\n",
    "- 3G/4G/5G\n",
    "- satellite\n",
    "...\n",
    "\n",
    "| une caméra wifi           | un commutateur (switch) | un routeur cisco 907                      | un câble ethernet    | fibres optiques    | \n",
    "| --------------------------| ----------------------- | ----------------------------------------- |--------------------- |------------------- |\n",
    "| ![](img/wifi_camera.jpg)  | ![](img/switch.jpg)     | ![un routeur cisco 907](img/cisco907.jpg) | ![](img/ethernet.jpg)| ![](img/fibre.jpg) |\n",
    "\n",
    "\n",
    "### Adressage IP\n",
    "\n",
    "Tout objet IP possède un adresse IP qui contient:\n",
    "- l'**adresse du réseau local** (extraite de l'IP par le **masque de réseau**)\n",
    "- un **numéro d'adresse** unique dans le réseau.\n",
    "\n",
    "**Exemples**:\n",
    "\n",
    "- Une adresse IP définie par 192.168.5.17/24 appartient au réseau 192.168.5.0 et son numéro au sein de ce réseau est 17.\n",
    "- Une adresse IP définie par 192.168.1.45/16 appartient au réseau 192.168.0.0 et son numéro au sein de ce réseau est 1.45.\n",
    "- Une adresse IP définie par 10.11.12.13/8 appartient au réseau 10.0.0.0 et son numéro au sein de ce réseau est 11.12.13.\n",
    "\n",
    "### Exemples de communications entre hôtes\n",
    "\n",
    "![](img/reseau1.png)\n",
    "\n",
    "- PC1 veut communiquer avec PC2\n",
    "\n",
    "PC1 et PC2 appartiennent au réseau 192.168.0.0, les paquets passeront donc uniquement par le switch1. On aura donc **PC1 -> Switch1 -> PC2**\n",
    "\n",
    "- PC3 veut communiquer avec PC4\n",
    "\n",
    "PC3 et PC4 appartiennent au réseau 10.0.0.0, les paquets passeront donc uniquement par le switch2. On aura donc **PC3 -> Switch2 -> PC4**\n",
    "\n",
    "- PC1 veut communiquer avec PC3\n",
    "\n",
    "PC1 et PC3 appartiennent à des réseaux différents, les paquets passeront donc par des routeurs.\n",
    "\n",
    "Plusieurs chemins sont possibles:\n",
    "\n",
    "- PC1 -> R1 -> R6 -> PC3\n",
    "- PC1 -> R1 -> R2 -> R3 -> R6 -> PC3\n",
    "- PC1 -> R1 -> R4 -> R3 -> R6 -> PC3\n",
    "- ...\n",
    "\n",
    "Mais quel chemin sera emprunté ?\n",
    "Comment un routeur connaît le prochain chemin à suivre ?\n",
    "\n",
    "Nous allons tout d'abord répondre à la deuxième question."
   ]
  },
  {
   "cell_type": "markdown",
   "metadata": {},
   "source": [
    "## Notions de routage.\n",
    "\n",
    "Le routage consiste à transmettre les données d'un réseau à un autre en prenant le 'bon' chemin.\n",
    "\n",
    "Un paquet de données qui doit joindre un destinataire possède **uniquement l'adresse IP de destination**, et n'a donc aucune information pour déterminer le chemin à suivre.\n",
    "\n",
    "Les routeurs et les hôtes gèrent une **table de routage**. La table de routage dresse :\n",
    "\n",
    "- la liste des adresses IP des réseaux connus du système (notamment le réseau local);\n",
    "- la passerelle à utiliser pour atteindre ce réseau;\n",
    "- une métrique (le coût nécessaire pour atteindre la destination);\n",
    "- l'interface réseau utilisée.\n",
    "\n",
    "**La détermination du chemin à emprunter est à la charge des routeurs du système.**\n",
    "\n",
    "**Exemple** :\n",
    "\n",
    "Considérons le réseau suivant:\n",
    "\n",
    "![](img/reseau2.png)\n",
    "\n",
    "Ce réseau est constitué de :\n",
    "\n",
    "- 3 hôtes\n",
    "- 1 commutateur\n",
    "- 6 routeurs (le routeur R6 est éteint)\n",
    "- 8 sous-réseaux\n",
    "\n",
    "Voici par exemple la table de routage du **routeur R1** dans le réseau suivant:\n",
    "\n",
    "```\n",
    "     1.0.0.0/24 is subnetted, 1 subnets\n",
    "C       1.1.1.0 is directly connected, GigabitEthernet2/0\n",
    "R    2.0.0.0/8 [120/1] via 1.1.1.2, 00:00:11, GigabitEthernet2/0\n",
    "R    3.0.0.0/8 [120/2] via 1.1.1.2, 00:00:11, GigabitEthernet2/0\n",
    "R    4.0.0.0/8 [120/3] via 1.1.1.2, 00:00:11, GigabitEthernet2/0\n",
    "R    20.0.0.0/8 [120/4] via 1.1.1.2, 00:00:11, GigabitEthernet2/0\n",
    "R    5.0.0.0/8 [120/4] via 1.1.1.2, 00:00:11, GigabitEthernet2/0\n",
    "     6.0.0.0/24 is subnetted, 1 subnets\n",
    "C       6.1.1.0 is directly connected, FastEthernet0/0\n",
    "     10.0.0.0/24 is subnetted, 1 subnets\n",
    "C       10.1.1.0 is directly connected, GigabitEthernet1/0\n",
    "```\n",
    "On peut réprésenter la table de routage du routeur R1 sous forme d'un tableau afin de mieux appréhender la signification de chaque ligne.\n",
    "\n",
    "| réseau à atteindre     | masque de réseau       | passerelle             | metrique                | interface               |\n",
    "| ---------------------- | ---------------------- | ---------------------- | ----------------------- | ----------------------- |\n",
    "| 1.1.1.0                | 255.255.255.0          |                        | 0                       | GigabitEthernet 2/0     |\n",
    "| 2.0.0.0                | 255.0.0.0              | 1.1.1.2                | 1                       | GigabitEthernet 2/0     |\n",
    "| 3.0.0.0                | 255.0.0.0              | 1.1.1.2                | 2                       | GigabitEthernet 2/0     |\n",
    "| 4.0.0.0                | 255.0.0.0              | 1.1.1.2                | 3                       | GigabitEthernet 2/0     |\n",
    "| 5.0.0.0                | 255.0.0.0              | 1.1.1.2                | 4                       | GigabitEthernet 2/0     |\n",
    "| 20.0.0.0               | 255.0.0.0              | 1.1.1.2                | 4                       | GigabitEthernet 2/0     |\n",
    "| 6.0.0.0                | 255.255.255.0          |                        | 0                       | FastEthernet0/0         |\n",
    "| 10.0.0.0               | 255.255.255.0          |                        | 0                       | GigabitEthernet1/0      |\n",
    "\n",
    "\n",
    "### Les types de routage\n",
    "\n",
    "On distingue deux types de routage.\n",
    "\n",
    "1. Le routage statique (ou fixe)\n",
    "2. Le routage dynamique (ou adaptatif)\n",
    "\n",
    "Le **routage statique** consiste à écrire 'manuellement' les tables de routage d'un réseau. Comme son nom l'indique, ce type de routage n'évolue pas : les routes sont fixes et tout changement doit être configuré par une intervention humaine. Limité aux petits réseaux qui évoluent peu, son  optimisation est effectuée par le concepteur du réseau. Il possède comme avantage de ne pas générer de traffic superflu pour la mise à jour des table et peut également être utilisé en **complément d'un routage dynamique** en cas de panne de ce dernier.\n",
    "\n",
    "Le **routage dynamique** quant à lui nécessite une mise à jour réguliere des tables de routage en fonction d'un **changement de topologie ou de charge** du réseau. Ces évolutions sont établies par des **algorithmes de routage**.\n",
    "\n",
    "Il existe plusieurs algorithmes de routage [voir lien wikipedia](https://fr.wikipedia.org/wiki/Interior_gateway_protocol).\n",
    "\n",
    "- RIPv1 (obsolète)\n",
    "- RIPv2\n",
    "- IGRP (protocole propriétaire Cisco - obsolète)\n",
    "- EIGRP (protocole propriétaire Cisco)\n",
    "- IS-IS\n",
    "- OSPF\n",
    "\n",
    "Les rôles de tous ces algorithmes sont: \n",
    "\n",
    "- d'établir la route optimale entre un point du réseau et toutes les destinations possibles;\n",
    "- d'éviter les boucles dans le réseau\n",
    "- de s'adapter le plus rapidement possible à un changement de topologie du réseau.\n",
    "\n",
    "Parmis tous ces algorithmes nous allons étudier le **protocole RIPv2** et le **protocole OSPF**.\n"
   ]
  },
  {
   "cell_type": "code",
   "execution_count": null,
   "metadata": {
    "tags": []
   },
   "outputs": [
    {
     "data": {
      "image/jpeg": "[encoded data removed]",
      "text/html": [
       "\n",
       "        <iframe\n",
       "            width=\"400\"\n",
       "            height=\"300\"\n",
       "            src=\"https://www.youtube.com/embed/sT9-IcbjqzI\"\n",
       "            frameborder=\"0\"\n",
       "            allowfullscreen\n",
       "            \n",
       "        ></iframe>\n",
       "        "
      ],
      "text/plain": [
       "<IPython.lib.display.YouTubeVideo at 0x7ffbc79fe620>"
      ]
     },
     "execution_count": 1,
     "metadata": {},
     "output_type": "execute_result"
    }
   ],
   "source": [
    "from IPython.display import YouTubeVideo\n",
    "YouTubeVideo(\"sT9-IcbjqzI\")"
   ]
  },
  {
   "cell_type": "markdown",
   "metadata": {},
   "source": [
    "## Le protocole RIP (version 2)\n",
    "\n",
    "Le protocole RIP (**R**outing **I**nformation **P**rotocol) appartient à la famille des protocoles de routage à **vecteur de distance** (*distance vector*). Dans ce type de protocole, les tables de routages sont établies sans connaitre le réseau dans sa globalité. La diffusion des routes se fait de noeud en noeud.\n"
   ]
  },
  {
   "cell_type": "code",
   "execution_count": null,
   "metadata": {
    "jupyter": {
     "source_hidden": true
    },
    "tags": []
   },
   "outputs": [
    {
     "data": {
      "image/jpeg": "[encoded data removed]",
      "text/html": [
       "\n",
       "        <iframe\n",
       "            width=\"400\"\n",
       "            height=\"300\"\n",
       "            src=\"https://www.youtube.com/embed/kzablGaqUXM\"\n",
       "            frameborder=\"0\"\n",
       "            allowfullscreen\n",
       "            \n",
       "        ></iframe>\n",
       "        "
      ],
      "text/plain": [
       "<IPython.lib.display.YouTubeVideo at 0x7f369df20640>"
      ]
     },
     "execution_count": 2,
     "metadata": {},
     "output_type": "execute_result"
    }
   ],
   "source": [
    "from IPython.display import YouTubeVideo\n",
    "YouTubeVideo(\"kzablGaqUXM\")"
   ]
  },
  {
   "cell_type": "markdown",
   "metadata": {},
   "source": [
    "### Un peu d'histoire\n",
    "\n",
    "L'algorithme de routage RIP, l'algorithme de Bellman-Ford ([voir lien wikipedia](https://fr.wikipedia.org/wiki/Algorithme_de_Bellman-Ford)), a été déployé pour la première fois dans un réseau en 1969. C'était l'algorithme de routage d'ARPANET.\n",
    "\n",
    "Une version qui utilise le protocole IP a été implémentée sur le système BSD comme le démon de routage. Puis d'autres implémentations différentes ont été créées. La norme [RFC 1058](https://www.rfc-editor.org/info/rfc1058) a été créée en 1988 pour unifier le protocole dans un standard unique."
   ]
  },
  {
   "cell_type": "markdown",
   "metadata": {},
   "source": [
    "### Fonctionnement général\n",
    "\n",
    "Reprenons notre exemple précédent:\n",
    "\n",
    "![](img/reseau2.png)\n",
    "\n",
    "Comment l'hôte PC1 peut communiquer avec l'hôte PC3?\n",
    "\n",
    "Au tout début le routeur R5 connait uniquement les réseaux auxquels il est directement connecté : 20.1.1.0, 5.1.1.0 et 4.1.1.0\n",
    "\n",
    "- Il envoie ces informations aux routeurs voisins, dont R4, qui va mettre à jour sa table de routage en ajoutant 1 à la distance. Pour R4, le réseau 20.1.1.0 possède donc une métrique de 1\n",
    "- R4 envoie des informations à R3 qui aura donc connaissance de ce réseau avec un métrique de 2\n",
    "- R3 envoie des informations à R2 qui aura donc connaissance de ce réseau avec un métrique de 3\n",
    "- R2 envoie des informations à R1 qui aura donc connaissance de ce réseau avec un métrique de 4\n",
    "\n",
    "Le réseau 20.1.1.0 existe dorénavant dans la table de routage de R1, il possède une métrique de 4 pour le routeur R1.\n",
    "\n",
    "La table de routage de R1 peut se résumer à ce tableau.\n",
    "\n",
    "| destination | passerelle | interface| métrique |\n",
    "| ----------- | ---------- | -------- | -------- |\n",
    "| 10.1.1.0    |            | g1/0     | 0        |\n",
    "| 1.1.1.0     |            | g2/0     | 0        |\n",
    "| 6.1.1.0     |            | f0/0     | 0        |\n",
    "| 2.1.1.0     | 1.1.1.0    | g2/0     | 1        |\n",
    "| 3.1.1.0     | 1.1.1.0    | g2/0     | 2        |\n",
    "| 4.1.1.0     | 1.1.1.0    | g2/0     | 3        |\n",
    "| 20.1.1.0    | 1.1.1.0    | g2/0     | 4        |\n",
    "| 5.1.1.0     | 1.1.1.0    | g2/0     | 4        |"
   ]
  },
  {
   "cell_type": "markdown",
   "metadata": {
    "tags": []
   },
   "source": [
    "### Algorithme utilisé\n",
    "\n",
    "Le protocole RIP utilise l'algorithme de **Bellman-Ford** qui calcule les plus courts chemins dans un graphe depuis un sommet. Contrairement à l'agorithme de Dijkstra, celui-ci est **facilement mis en oeuvre dans un environnement distribué** : le plus court chemin peut être déterminé en utilisant des informations locales.\n",
    "\n",
    "Voici le fonctionnement :\n",
    "\n",
    "Lorsqu’un routeur reçoit une route d'un des routeurs voisins, il la compare les informations de sa propre table de routage :\n",
    "\n",
    "- Si la destination n’existe pas, et que la métrique n’est pas infinie alors la route est ajoutée.\n",
    "- Si la destination reçue existe, et que la métrique obtenue est meilleure alors la table de routage est mise à jour.\n",
    "- Si la destination reçue existe, et que le routeur qui a envoyé la table est le routeur adjacent déjà connu, et que la métrique obtenue est différente, alors on met à jour la table de routage quelle que soit la valeur de la métrique.\n",
    "- Sinon on ne change rien."
   ]
  },
  {
   "cell_type": "markdown",
   "metadata": {
    "tags": []
   },
   "source": [
    "### Quelques caractéristiques du protocole RIP\n",
    "\n",
    "- chaque routeur envoie sa table de routage aux routeurs voisins, toutes les 30s en multicast 224.0.0.9;\n",
    "- la métrique la plus élevée possible est 15. RIP est donc utilisable uniquement dans les réseaux de diamètre 15;\n",
    "- Si un routeur ne reçoit aucune information d'une route dans les 180s alors la métrique passe à 16 (inatteignable);\n",
    "- Si un routeur ne reçoit aucune information d'une route dans les 240s alors la route est supprimée de la table de routage;\n",
    "- Le protocole RIP utilise le protocole de communication UDP.\n",
    "\n",
    "![](img/screenshotRIP.png)\n",
    "\n",
    "\n",
    "<div class=\"alert alert-info\">\n",
    "Le protocole RIP se base sur le nombre de sauts (hops) à effectuer. Il choisit donc le chemin le plus court mais pas forcément le plus rapide.\n",
    "En effet la bande passante disponible est totalement inconnue dans ce protocole.\n",
    "</div>\n",
    "\n",
    "### Avantages du protocole RIP\n",
    "- Facile à comprendre et configurer\n",
    "- Supporté par tous les routeurs\n",
    "\n",
    "### Inconvénients du protocole RIP\n",
    "\n",
    "- Sa seule métrique est le nombre de sauts (hops);\n",
    "- Le nombre maximum de sauts est 15;\n",
    "- Sa convergence est plûtot lente;\n",
    "- Consomme de la bande passante par ses actualisations toutes les 30s."
   ]
  },
  {
   "cell_type": "markdown",
   "metadata": {},
   "source": [
    "### Travaux pratiques\n",
    "\n",
    "Nous allons maintenant modéliser un réseau qui utilise le protocole RIP dans ce [TP RIP](./tp_rip.ipynb)."
   ]
  },
  {
   "cell_type": "markdown",
   "metadata": {},
   "source": [
    "### Liens externes\n",
    "\n",
    "- [une fiche récapitulative sur le protocole RIP](https://www.ciscomadesimple.be/wp-content/uploads/2011/04/CMSBE_F03_RIP.pdf)\n",
    "- [une vidéo sur le protocole RIP](https://youtu.be/eRl0an-a3m0)"
   ]
  },
  {
   "cell_type": "markdown",
   "metadata": {},
   "source": [
    "## Le protocole OSPF"
   ]
  },
  {
   "cell_type": "markdown",
   "metadata": {},
   "source": [
    "![](img/OSPF.png)\n",
    "\n",
    "le protocole OSFP (**O**pen **S**hortest **P**ath **F**irst) appartient à la famille des protocoles de routage à **état de liens**."
   ]
  },
  {
   "cell_type": "code",
   "execution_count": null,
   "metadata": {
    "jupyter": {
     "source_hidden": true
    },
    "tags": []
   },
   "outputs": [
    {
     "data": {
      "image/jpeg": "[encoded data removed]",
      "text/html": [
       "\n",
       "        <iframe\n",
       "            width=\"400\"\n",
       "            height=\"300\"\n",
       "            src=\"https://www.youtube.com/embed/-utHPKREZV8\"\n",
       "            frameborder=\"0\"\n",
       "            allowfullscreen\n",
       "        ></iframe>\n",
       "        "
      ],
      "text/plain": [
       "<IPython.lib.display.YouTubeVideo at 0x7f489c37b280>"
      ]
     },
     "execution_count": 1,
     "metadata": {},
     "output_type": "execute_result"
    }
   ],
   "source": [
    "from IPython.display import YouTubeVideo\n",
    "YouTubeVideo(\"-utHPKREZV8\")"
   ]
  },
  {
   "cell_type": "markdown",
   "metadata": {},
   "source": [
    "Dans cette famille, chaque routeur connait **la topologie complète du réseau**. Chaque routeur envoie à **tous** les routeurs du réseau les caractéristiques de son voisinage direct (adresses IP, caractéristiques physiques). Ces messages sont souvent appelés **messages hello**.\n",
    "\n",
    "![](img/hello.png)\n",
    "\n",
    "<div class=\"alert alert-warning\">\n",
    "Contrairement à RIP, OSPF n'échange des informations de routage que lorsqu'il y a un <b>changement</b> dans la topologie du réseau.\n",
    "</div>\n",
    "\n",
    "Les messages échangés ne concernent pas le nombre de sauts à effectuer vers une route mais plutôt le **coût des liaisons** vers les routeurs adjacents.\n",
    "\n",
    "Le protocole utilise l'algorithme de Dijktra ([voir cours](../../6_Algorithmique/6.2_Algorithmes_sur_les_graphes/index.ipynb#algo_dijkstra)) pour calculer 'le plus court chemin'.\n",
    "\n",
    "Bien evidemment dans un réseau informatique le plus court chemin n'a rien à voir avec la distance !!!\n",
    "\n",
    "Ici l'algorithme va déterminer, à partir d'un routeur du réseau, l'ensemble des routes ayant un **coût le plus faible**. La notion de coût est liée **au débit des liaisons**, plus précisement le coût est proportionnel à l'inverse du débit. \n",
    "\n",
    "$coût = \\frac{10^8}{débit}$\n",
    "\n",
    "- Pour un débit de 10 Mbits/s on a $coût = \\frac{10^8}{10^7}=10$\n",
    "- Pour un débit de 100 Mbits/s on a $coût = \\frac{10^8}{10^8}=1$\n",
    "- Pour un débit de 1 GBbits/s on a $coût = \\frac{10^8}{10^9}=10^{-1}=0.1$\n",
    "\n",
    "L'algorithme prilégiera les liaisons à coût les plus faibles c'est à dire les **liaisons à forte bande passante**.\n",
    "\n",
    "<div class=\"alert alert-warning\">Attention cette formule peut varier. Ici elle est définie pour avoir un <b>coût unitaire pour 100 Mbits/s</b>, la constante $10^8$ peut être différente.</div>"
   ]
  },
  {
   "cell_type": "markdown",
   "metadata": {},
   "source": [
    "### Exercice\n",
    "\n",
    "Dans le réseau ci-dessous, calculer les coûts des deux routes depuis le routeur 1, vers le routeur 5.\n",
    "\n",
    "![](img/reseau2.png)\n",
    "\n",
    "On prendra comme constante $10^9$ et on considère les débits suivants:\n",
    "\n",
    "- Pour une liaison fast-ethernet (f) : 100 Mbits/s\n",
    "- Pour une liaison gigabits-ethernet (g) : 1 Gbits/s\n",
    "\n",
    "**A faire**\n",
    "\n",
    "- Etablir les coûts de chaque liaison\n",
    "- Quelle route sera privilégiée par le protocole OSPF ?\n",
    "- Etablir la table de routage du routeur 1."
   ]
  },
  {
   "cell_type": "markdown",
   "metadata": {},
   "source": [
    "### Quelques caractéristiques du protocole OSPF\n",
    "\n",
    "- Les messages Hello sont envoyés en multicast sur 224.0.0.5;\n",
    "- Chaque routeur est identifié dans le reseau à l'aide d'un *router-id*;\n",
    "- Les routeurs sont segmentés en aires différentes;\n",
    "- Il existe 5 types de paquets OSPF;\n",
    "- OSPF est capable de répartir la charge sur plusieurs liens, pour autant que la métrique soit exactement identique pour chaque destination.\n",
    "\n",
    "### Avantages du protocole OSPF\n",
    "\n",
    "- C'est un standard ouvert, il est donc implémenté par de nombreux fabricants;\n",
    "- Temps de convergence court:\n",
    "- Il est économe en bande passante.\n",
    "\n",
    "### Inconvénients du protocole OSPF\n",
    "\n",
    "- Nécessite beaucoup de mémoire pour stocker la topologie complète du réseau;\n",
    "- Se limite à des topologies d'environ 1000 routeurs;\n",
    "- Sa configuration est complexe\n",
    "- Il ne permet pas de répartir la charge sur des routes de métriques différentes.\n",
    "\n",
    "Pour les plus curieux, la configuration de routeurs OSPF."
   ]
  },
  {
   "cell_type": "code",
   "execution_count": null,
   "metadata": {
    "jupyter": {
     "source_hidden": true
    },
    "tags": []
   },
   "outputs": [
    {
     "data": {
      "image/jpeg": "[encoded data removed]",
      "text/html": [
       "\n",
       "        <iframe\n",
       "            width=\"400\"\n",
       "            height=\"300\"\n",
       "            src=\"https://www.youtube.com/embed/6FeNi1djwc8\"\n",
       "            frameborder=\"0\"\n",
       "            allowfullscreen\n",
       "            \n",
       "        ></iframe>\n",
       "        "
      ],
      "text/plain": [
       "<IPython.lib.display.YouTubeVideo at 0x7f369df22140>"
      ]
     },
     "execution_count": 3,
     "metadata": {},
     "output_type": "execute_result"
    }
   ],
   "source": [
    "from IPython.display import YouTubeVideo\n",
    "YouTubeVideo(\"6FeNi1djwc8\")"
   ]
  },
  {
   "cell_type": "markdown",
   "metadata": {},
   "source": [
    "Pour les plus courageux, un [lien vers la simulation d'un réseau OSPF sur GNS3](https://www.ciscomadesimple.be/2010/11/14/gns3-ospf-lab-1ere-partie/). Attention il y a 4 parties..."
   ]
  },
  {
   "cell_type": "markdown",
   "metadata": {},
   "source": [
    "## Sources\n",
    "\n",
    "- https://interstices.info/internet-le-conglomerat-des-reseaux/\n",
    "- http://www.nicolasjean.com/pdf/essai_routage.pdf\n",
    "- https://pixees.fr/informatiquelycee/term/c11c.html\n",
    "- http://nsi4noobs.fr/IMG/pdf/c3_tnsi_routage.pdf\n",
    "- https://nc-lycees.netocentre.fr/s/TdgPXGwAEDnpSsg\n",
    "- http://stjonum.fr/T/architecture/a2.html\n",
    "- http://idum.fr/spip.php?article213#chap14\n"
   ]
  }
 ],
 "metadata": {
  "kernelspec": {
   "display_name": "Python 3 (ipykernel)",
   "language": "python",
   "name": "python3"
  },
  "language_info": {
   "codemirror_mode": {
    "name": "ipython",
    "version": 3
   },
   "file_extension": ".py",
   "mimetype": "text/x-python",
   "name": "python",
   "nbconvert_exporter": "python",
   "pygments_lexer": "ipython3",
   "version": "3.10.6"
  },
  "toc": {
   "base_numbering": 1,
   "nav_menu": {},
   "number_sections": true,
   "sideBar": true,
   "skip_h1_title": false,
   "title_cell": "Table of Contents",
   "title_sidebar": "Contents",
   "toc_cell": false,
   "toc_position": {},
   "toc_section_display": true,
   "toc_window_display": false
  },
  "toc-autonumbering": true
 },
 "nbformat": 4,
 "nbformat_minor": 4
}
