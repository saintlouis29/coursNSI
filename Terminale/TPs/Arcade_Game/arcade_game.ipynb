{
 "cells": [
  {
   "cell_type": "markdown",
   "id": "8b5103b7-3896-4e02-86f1-1acb7c424aab",
   "metadata": {},
   "source": [
    "# Programmation objet : Un jeu d'arcade\n",
    "\n",
    "```\n",
    "     ___ _ __   __ _  ___ ___  ___| |__  _ _ __\n",
    "    / __| '_ \\ / _` |/ __/ _ \\/ __| '_ \\| | '_ \\\n",
    "    \\__ \\ |_) | (_| | (_|  __/\\__ \\ | | | | |_) |\n",
    "    |___/ .__/ \\__,_|\\___\\___||___/_| |_|_| .__/\n",
    "        | |                               | |\n",
    "        |_|                               |_|\n",
    "                     `. ___\n",
    "                    __,' __`.                _..----....____\n",
    "        __...--.'``;.   ,.   ;``--..__     .'    ,-._    _.-'\n",
    "  _..-''-------'   `'   `'   `'     O ``-''._   (,;') _,'\n",
    ",'________________                          \\`-._`-','\n",
    " `._              ```````````------...___   '-.._'-:\n",
    "    ```--.._      ,.                     ````--...__\\-.\n",
    "            `.--. `-`                       ____    |  |`\n",
    "              `. `.                       ,'`````.  ;  ;`\n",
    "                `._`.        __________   `.      \\'__/`\n",
    "                   `-:._____/______/___/____`.     \\  `\n",
    "                               |       `._    `.    \\\n",
    "                               `._________`-.   `.   `.___\n",
    "                                                  `------'`\n",
    "\n",
    "```\n",
    "\n",
    "- Installer ou utiliser un python virtuel;\n",
    "- Faire un fork du dépôt [https://github.com/saintlouis29/arcade_game](https://github.com/saintlouis29/arcade_game);\n",
    "- Faire un git clone de votre nouveau dépôt sur votre ordinateur;\n",
    "- Installer ou utiliser un python virtuel;\n",
    "- Dans l'IDE : configurer l'interpréteur Python pour qu'il soit le python virtuel\n",
    "- Même chose dans le terminal ```source chemin/de/votre/python/virtuel/bin/activate```\n",
    "- Aller dans le dépôt cloné et l'installer ```pip3 install -e . ```\n",
    "- Executer le module spaceship.py, si tout s'est bien passé une fenêtre graphique avec un vaisseau apparaît.\n"
   ]
  },
  {
   "cell_type": "markdown",
   "id": "12227b64-b436-4c94-9da0-1642d730811f",
   "metadata": {},
   "source": [
    "## Organisation des modules\n",
    "\n",
    "Le module package se trouve dans le dossier ```src``` et se nomme ```arcade_game```.\n",
    "Les deux modules sont ```game.py``` et ```spaceship.py```\n",
    "\n",
    "\n",
    "On y trouve deux classes:\n",
    "- Game\n",
    "- Spaceship\n",
    "\n",
    "Dont voici les attributs et méthodes:\n",
    "\n",
    "```\n",
    "┌────────────────────┐      ┌────────────┐\n",
    "│Game                │      │Spaceship   │\n",
    "│====================│      │============│\n",
    "│w:int=128           │      │x:int       │\n",
    "│h:int=256           ├──┐   │y:int       │\n",
    "│spaceship:Spaceship │  └───●w:int=8     │\n",
    "│--------------------│      │h:int=8     │\n",
    "│update()            │      │------------│\n",
    "│draw()              │      │update()    │\n",
    "│                    │      │draw()      │\n",
    "└────────────────────┘      │            │\n",
    "                            └────────────┘\n",
    "```\n",
    "\n",
    "Ce projet a une seule dépendance [pyxel](https://www.pyxelstudio.net/), une librairie de jeu rétro dont voici la [documentation](https://github.com/kitao/pyxel)."
   ]
  },
  {
   "cell_type": "markdown",
   "id": "b30a40c0-9b7b-4f77-9c80-16001e76ed0b",
   "metadata": {},
   "source": [
    "## Notre vaisseau\n",
    "La classe de notre vaisseau comporte deux méthodes principales:\n",
    "- *update* : les actions de notre vaisseau seront appelées ici. Pour l'instant une seule action est appelée, _move\n",
    "- *draw* : uniquement la partie affichage\n",
    "\n",
    "Il faut bien comprendre que notre jeu peut \"vivre\" sans affichage, la majorité du code se trouvera dans la partie *update*.\n",
    "\n",
    "### Dépacement\n",
    "\n",
    "** A FAIRE **\n",
    "- Compléter la méthode *move* afin que le vaisseau puisse se déplacer dans les 2 directions (4 sens)\n",
    "- Empêcher le vaisseau de sortir de l'écran. On utilisera les attributs de largeur et hauteur du vaisseau et du jeu."
   ]
  },
  {
   "cell_type": "markdown",
   "id": "1ab927fb-4f1a-47d5-895e-8963515ffe6a",
   "metadata": {},
   "source": [
    "## Reférences\n",
    "\n",
    "Ce TP est fortement inspiré du [tutorial de la nuit du code](https://nuit-du-code.forge.apps.education.fr/DOCUMENTATION/PYTHON/01-presentation/)."
   ]
  }
 ],
 "metadata": {
  "kernelspec": {
   "display_name": "Python 3 (ipykernel)",
   "language": "python",
   "name": "python3"
  },
  "language_info": {
   "codemirror_mode": {
    "name": "ipython",
    "version": 3
   },
   "file_extension": ".py",
   "mimetype": "text/x-python",
   "name": "python",
   "nbconvert_exporter": "python",
   "pygments_lexer": "ipython3",
   "version": "3.12.3"
  }
 },
 "nbformat": 4,
 "nbformat_minor": 5
}
