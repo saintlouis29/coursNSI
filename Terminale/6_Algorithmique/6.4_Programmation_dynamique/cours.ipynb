{
 "cells": [
  {
   "cell_type": "markdown",
   "metadata": {},
   "source": [
    "[Accueil](../../../index.ipynb) > [Sommaire](../../index.ipynb) > [6.4 Programmation dynamique](index.ipynb)"
   ]
  },
  {
   "cell_type": "markdown",
   "metadata": {},
   "source": [
    "# Programmation dynamique\n",
    "\n",
    "<figure style=\"float:right\">\n",
    "    <img src=\"img/Richard_Ernest_Bellman.jpg\"\n",
    "         alt=\"Richard Bellman\"\n",
    "         title=\"Richard Bellman\"\n",
    "         style=\"border:1px solid black\"\n",
    "         >\n",
    "    <figcaption>Richard Bellman</figcaption>\n",
    "</figure>\n",
    "\n",
    "\n",
    "La **programmation dynamique** est à la fois une méthode d'**optimisation mathématique** et une méthode de **développement informatique**. Cette méthode a été inventée par Richard Bellman dans les années 50 et est utilisée dans de nombreux domaines ( Aerospatiale, Economie, Medecine...)\n",
    "La programmation dynamique consiste toujours à résoudre un problème en se basant sur **plusieurs sous-problèmes** et à utiliser une structure de données pour **stocker les résultats intermédiaires**.\n",
    "\n",
    "Si des sous problèmes sont inclus récursivement dans de plus grands problèmes, donc que la méthode de la programmation dynamique s'applique, alors il existe une relation entre le grand problème et les valeurs des sous-problèmes. Cette relation se nomme l'**équation de Bellman**.\n",
    "\n",
    "## Histoire\n",
    "\n",
    "Dans les années 50, **Richard Bellman** utilise le terme de *dynamic programming* pour décrire la façon de résoudre des problèmes en utilisant un ensemble de solutions successives optimales.\n",
    "\n",
    "Richard Bellman est né en 1920 à New York. Après des études de mathématiques, il est embauché à Los Alamos pour travailler sur le projet Manhattan. Après guerre il travaille chez [RAND Corporation](https://en.wikipedia.org/wiki/RAND_corporation), période pendant laquelle il développe la méthode de la programmation dynamique.\n",
    "\n",
    "Bellman explique le choix de \"programmation dynamique\" en ces termes:\n",
    "\n",
    "<cite>The 1950s were not good years for mathematical research. We had a very interesting gentleman in Washington named Wilson. He was Secretary of Defense, and he actually had a pathological fear and hatred of the word \"research\". I’m not using the term lightly; I’m using it precisely. His face would suffuse, he would turn red, and he would get violent if people used the term research in his presence. You can imagine how he felt, then, about the term mathematical. The RAND Corporation was employed by the Air Force, and the Air Force had Wilson as its boss, essentially. Hence, I felt I had to do something to shield Wilson and the Air Force from the fact that I was really doing mathematics inside the RAND Corporation. What title, what name, could I choose? In the first place I was interested in planning, in decision making, in thinking. But planning, is not a good word for various reasons. I decided therefore to use the word \"programming\". I wanted to get across the idea that this was dynamic, this was multistage, this was time-varying. I thought, let's kill two birds with one stone. Let's take a word that has an absolutely precise meaning, namely dynamic, in the classical physical sense. It also has a very interesting property as an adjective, and that is it's impossible to use the word dynamic in a pejorative sense. Try thinking of some combination that will possibly give it a pejorative meaning. It's impossible. Thus, I thought dynamic programming was a good name. It was something not even a Congressman could object to. So I used it as an umbrella for my activities.</cite>\n",
    "\n",
    "Plus tard il s'intéresse à la biologie et à la médecine. En 1973 on lui diagnostique une tumeur au cerveau. Après l'ablation, il est handicapé mais cela ne l'empêche pas d'ajouter de nombreux articles scientifiques à son oeuvre prolifique.\n",
    "\n",
    "Plusieurs algorithmes et équations portent son nom:\n",
    "\n",
    "- L'équation de [Hamilton-Jacobi-Bellman](https://en.wikipedia.org/wiki/Hamilton%E2%80%93Jacobi%E2%80%93Bellman_equation).\n",
    "- L'algorithme de [Bellman-Ford](https://en.wikipedia.org/wiki/Bellman%E2%80%93Ford_algorithm)\n",
    "\n",
    "Richard Bellman est décédé en 1984 en Californie à l'age de 63 ans.\n",
    "\n",
    "sources [Wikipedia](https://en.wikipedia.org/wiki/Richard_Bellman)"
   ]
  },
  {
   "cell_type": "markdown",
   "metadata": {},
   "source": [
    "## Un exemple simple : la suite de Fibonacci\n",
    "\n",
    "Nous allons illustrer la programmation dynamique sur le calcul de la suite de Fibonnaci qui s'exprime de cette façon :\n",
    "\n",
    "$\n",
    "\\left\\{\n",
    "\\begin{array}{ll}\n",
    "U_0=0\\\\\n",
    "U_1=1\\\\\n",
    "U_n=U_{n-1}+U_{n-2}\n",
    "\\end{array}\n",
    "\\right.\n",
    "$\n",
    "\n",
    "<div class=\"alert alert-info\">\n",
    "\n",
    "La programmation dynamique, à l'instar de la méthode *diviser pour régner*, résoud les problèmes en **combinant les solutions des sous-problèmes**. Cependant, dans le *diviser pour régner*, les sous-problèmes sont **indépendants** du problème. Dans la programmation dynamique, il **existe une dépendance** entre les problèmes et les sous-problémes.\n",
    "    \n",
    "</div>\n"
   ]
  },
  {
   "cell_type": "markdown",
   "metadata": {},
   "source": [
    "L'algorithme suivant est inéfficace car on doit résoudre plusieurs fois le même problème:\n",
    "\n",
    "```\n",
    "fonction fibonacci(n)\n",
    "   si n = 0 ou n = 1\n",
    "         retourner n\n",
    "   sinon\n",
    "         retourner fibonacci(n-1) + fibonacci(n-2)\n",
    "```\n",
    "\n",
    "Voici ci-dessous le graphe de dépendance du calcul de $U_{5}$. Ce graphe n'est pas un arbre, cela illustre que les **sous problèmes se chevauchent**.\n",
    "\n",
    "Nous avions déjà étudié ce problème lors de notre [découverte de la récursivité](../../5_langages_programmation/Recursivite/recursivite.ipynb#Fibonacci)"
   ]
  },
  {
   "cell_type": "code",
   "execution_count": 1,
   "metadata": {
    "jupyter": {
     "source_hidden": true
    },
    "tags": []
   },
   "outputs": [
    {
     "data": {
      "image/png": "[encoded data removed]",
      "text/plain": [
       "<Figure size 360x360 with 1 Axes>"
      ]
     },
     "metadata": {},
     "output_type": "display_data"
    }
   ],
   "source": [
    "import matplotlib.pyplot as plt\n",
    "import networkx as nx\n",
    "\n",
    "options = {\n",
    "    \"font_size\": 15,\n",
    "    \"node_size\": 800,\n",
    "    \"node_color\": \"#A0CBE2\",\n",
    "    \"edgecolors\": \"tab:blue\",\n",
    "    \"alpha\": 0.9,\n",
    "    \"linewidths\": 2,\n",
    "    \"width\": 2,\n",
    "}\n",
    "\n",
    "G = nx.DiGraph(name = \"Graphe de dépendance de F5\")\n",
    "G.add_node(5, pos=(1,2))\n",
    "G.add_node(4, pos=(0,2))\n",
    "G.add_node(3, pos=(1,1))\n",
    "G.add_node(2, pos=(0,1))\n",
    "G.add_node(1, pos=(1,0))\n",
    "G.add_node(0, pos=(0,0))\n",
    "G.add_edges_from([(5, 4), (5, 3), (4, 3), (4, 2), (3, 2), (3, 1), (2, 1) , (2, 0)])\n",
    "labeldict = {}\n",
    "labeldict[5] = \"U5\"\n",
    "labeldict[4] = \"U4\"\n",
    "labeldict[3] = \"U3\"\n",
    "labeldict[2] = \"U2\"\n",
    "labeldict[1] = \"U1\"\n",
    "labeldict[0] = \"U0\"\n",
    "pos=nx.get_node_attributes(G,'pos')\n",
    "\n",
    "plt.figure(figsize=(5,5))\n",
    "ax = plt.gca()\n",
    "ax.margins(0.20)\n",
    "ax.set_title('Graphe de dépendance de F5')\n",
    "\n",
    "nx.draw(G,pos, labels=labeldict, with_labels = True, **options)\n"
   ]
  },
  {
   "cell_type": "markdown",
   "metadata": {},
   "source": [
    "Il existe deux approches principales pour implémenter la programmation dynamique :\n",
    "\n",
    "1. La méthode **ascendante** (Bottom-Up)\n",
    "2. La méthode **descendante** (Top-Down)\n",
    "\n",
    "### Méthode ascendante\n",
    "\n",
    "Cette méthode consiste à calculer les problèmes les plus petits, puis, de proche en proche, on calcule le problème global. Il s'agit ici d'un **algorithme itératif**."
   ]
  },
  {
   "cell_type": "code",
   "execution_count": 1,
   "metadata": {},
   "outputs": [
    {
     "data": {
      "text/plain": [
       "12586269025"
      ]
     },
     "execution_count": 1,
     "metadata": {},
     "output_type": "execute_result"
    }
   ],
   "source": [
    "def fibonacci(n):\n",
    "    memo = {}\n",
    "    memo[0] = 0\n",
    "    memo[1] = 1\n",
    "    for i in range(2,n+1):\n",
    "        memo[i] = memo[i-1] + memo[i-2]\n",
    "    return memo[n]\n",
    "\n",
    "fibonacci(50)"
   ]
  },
  {
   "cell_type": "markdown",
   "metadata": {},
   "source": [
    "Avantages : **Pas de récusion**.\n",
    "\n",
    "Inconvénients : Nécessite une **structure de stockage** pouvant être gourmande en mémoire."
   ]
  },
  {
   "cell_type": "markdown",
   "metadata": {},
   "source": [
    "### Méthode descendante\n",
    "\n",
    "Dans la méthode descendante, on écrit un **algorithme récursif** en utilisant la **mémoïsation** afin de ne pas calculer plusieurs fois le même problème.\n",
    "\n",
    "Voici l'algorithme en pseudo-code:\n",
    "\n",
    "```\n",
    "fonction fibonacci(n)\n",
    "   si F[n] n'est pas défini\n",
    "      si n = 0 ou n = 1\n",
    "         F[n] := n\n",
    "      sinon\n",
    "         F[n] := fibonacci(n-1) + fibonacci(n-2)\n",
    "   retourner F[n]\n",
    "```\n",
    "Implémenter cet algorithme en Python"
   ]
  },
  {
   "cell_type": "code",
   "execution_count": 7,
   "metadata": {},
   "outputs": [
    {
     "data": {
      "text/plain": [
       "12586269025"
      ]
     },
     "execution_count": 7,
     "metadata": {},
     "output_type": "execute_result"
    }
   ],
   "source": [
    "def fibonacci(n, memo = None):\n",
    "    if memo is None:\n",
    "        memo = {}\n",
    "    if memo.get(n, None) is None:\n",
    "        if n==0 or n==1:\n",
    "            memo[n] = n\n",
    "        else:\n",
    "            memo[n] = fibonacci(n-1, memo) + fibonacci(n-2, memo)\n",
    "        #print(memo)\n",
    "    return memo[n]\n",
    "\n",
    "fibonacci(50)   "
   ]
  },
  {
   "cell_type": "markdown",
   "metadata": {},
   "source": [
    "Avantages : Évite les recalculs inutiles.\n",
    "\n",
    "Inconvénients : Peut entraîner une profondeur de récursion élevée."
   ]
  },
  {
   "cell_type": "markdown",
   "metadata": {},
   "source": [
    "**Exercice**:\n",
    "\n",
    "- Vérifier qu'on peut calculer de grands rangs dans la suite;\n",
    "- A la vue du nombre d'appels récursifs, vérifier que la complexité temporelle T peut s'exprimer sous $T(n)=\\Theta(n)=n$, c'est à dire que la **complexité temporelle est linéaire**."
   ]
  },
  {
   "cell_type": "markdown",
   "metadata": {},
   "source": [
    "## Application 1 : [TP rendu de monnaie](tp1.ipynb)"
   ]
  }
 ],
 "metadata": {
  "kernelspec": {
   "display_name": "Python 3 (ipykernel)",
   "language": "python",
   "name": "python3"
  },
  "language_info": {
   "codemirror_mode": {
    "name": "ipython",
    "version": 3
   },
   "file_extension": ".py",
   "mimetype": "text/x-python",
   "name": "python",
   "nbconvert_exporter": "python",
   "pygments_lexer": "ipython3",
   "version": "3.12.3"
  },
  "toc": {
   "base_numbering": 1,
   "nav_menu": {},
   "number_sections": true,
   "sideBar": true,
   "skip_h1_title": false,
   "title_cell": "Table of Contents",
   "title_sidebar": "Contents",
   "toc_cell": false,
   "toc_position": {},
   "toc_section_display": true,
   "toc_window_display": false
  }
 },
 "nbformat": 4,
 "nbformat_minor": 4
}
