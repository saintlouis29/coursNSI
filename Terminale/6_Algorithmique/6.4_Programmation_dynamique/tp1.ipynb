{
 "cells": [
  {
   "cell_type": "markdown",
   "metadata": {},
   "source": [
    "[Accueil](../../../index.ipynb) > [Sommaire](../../index.ipynb) > [6.4 Programmation dynamique](index.ipynb)"
   ]
  },
  {
   "cell_type": "markdown",
   "metadata": {},
   "source": [
    "# TP Rendu de monnaie\n",
    "\n",
    "L'optimisation du **rendu de monnaie** a déjà été traitée en première grâce [aux algorithmes gloutons](../../../Premiere/8_Algorithmique/5_algorithme_glouton.ipynb).\n",
    "\n",
    "**Nous allons voir que la résolution par des algorithmes gloutons ne donne pas toujours la solution optimale et parfois ne trouve pas la solution...**\n",
    "\n",
    "- Vous avez à votre disposition différentes pièces de monnaie;\n",
    "- Vous devez rendre une certaine somme en minimisant le nombre de pièces rendues.\n",
    "\n",
    "La solution par l'algorithme glouton est la suivante:\n",
    "\n",
    "- Prendre la plus grande pièce possible;\n",
    "- Recommencer l'opération jusqu'à ce que la somme à rendre soit nulle."
   ]
  },
  {
   "cell_type": "markdown",
   "metadata": {},
   "source": [
    "**Exemple 1**:\n",
    "\n",
    "Vous avez à votre disposition les pièces suivantes:\n",
    "\n",
    "- 2 centimes\n",
    "- 5 centimes\n",
    "- 10 centimes\n",
    "- 50 centimes.\n",
    "\n",
    "Vous devez rendre **11** centimes.\n",
    "\n",
    "On applique l'algorithme glouton:\n",
    "\n",
    "- On utilise une pièce de 10 centimes;\n",
    "- Il reste 1 centime à rendre, mais nous ne disposons pas de cette pièce...\n",
    "\n",
    "Pourtant la solution existe : 1 pièce de 5 et 3 pièces de 2.\n",
    "\n",
    "**Exemple 2**:\n",
    "\n",
    "Dans l’ancien système monétaire britannique qui avait cours avant 1971, **la livre sterling était divisée en 20 shillings** divisés chacun en 12 pence (pluriel de penny).\n",
    "\n",
    "La valeur des différentes pièces existantes était 1, 3, 4, 6, 12, 24, 30, 60, 120, 240 et 252 pence. Depuis 1971 c’est un système décimal qui est utilisé avec les mêmes valeurs que dans le système de l’euro.\n",
    "\n",
    "Si on applique l'algorithme glouton pour rendre 49 pence on trouve:\n",
    "\n",
    "- 1 pièce de 30 pence (reste 19)\n",
    "- 1 pièce de 12 pence (reste 7)\n",
    "- 1 pièce de 6 pence (reste 1)\n",
    "- 1 pièce de 1 penny (reste 0)\n",
    "\n",
    "On a donc utilisé 4 pièces.\n",
    "\n",
    "Pourtant la solution optimale est 2 pièces de 24 et 1 pièce de 1, soit 3 pièces.\n",
    "\n",
    "<div class=\"alert alert-info\">Dans certains cas un algorithme glouton trouvera une solution, mais celle ci ne sera pas forcément optimale.</div>"
   ]
  },
  {
   "cell_type": "code",
   "execution_count": null,
   "metadata": {},
   "outputs": [],
   "source": [
    "from math import inf\n",
    "\n",
    "def rendu_monnaie_glouton(pieces, rendu):\n",
    "    \"\"\"\n",
    "    Solution gloutonne\n",
    "    Retourne: (nombre de pièces, liste des pièces utilisées)\n",
    "    \"\"\"\n",
    "    pieces_triees = sorted(pieces, reverse=True)\n",
    "    pieces_utilisees = []\n",
    "    total = 0\n",
    "\n",
    "    for piece in pieces_triees:\n",
    "        while total + piece <= rendu:\n",
    "            pieces_utilisees.append(piece)\n",
    "            total += piece\n",
    "\n",
    "    if total == rendu:\n",
    "        return len(pieces_utilisees), pieces_utilisees\n",
    "    else:\n",
    "        return inf, []  # Aucune solution trouvée"
   ]
  },
  {
   "cell_type": "code",
   "execution_count": null,
   "metadata": {},
   "outputs": [],
   "source": [
    "# Exemple 1\n",
    "pieces = [2, 5, 10, 50]\n",
    "rendu_monnaie_glouton(pieces, 11)"
   ]
  },
  {
   "cell_type": "code",
   "execution_count": null,
   "metadata": {},
   "outputs": [],
   "source": [
    "# Exemple 2\n",
    "pieces = [1, 3, 4, 6, 12, 24, 30, 60, 120, 240, 252]\n",
    "rendu_monnaie_glouton(pieces, 49)"
   ]
  },
  {
   "cell_type": "markdown",
   "metadata": {},
   "source": [
    "## Modélisation du problème.\n",
    "\n",
    "On a: \n",
    "\n",
    "- $x$ la **somme à rendre**;\n",
    "- $N(x)$ **le nombre de pièces** à rendre.\n",
    "\n",
    "Si je suis capable de rendre $x$ centimes avec $N(x)$ pièces, combien de pièces sont nécéssaires pour rendre x-p? (p étant la valeur d'une pièce)\n",
    "\n",
    "Je dispose des pièces suivantes ${p_1, p_2, p_3,...., p_n}$. \n",
    "\n",
    "Si je suis capable de rendre $x$ centimes alors je suis capable de rendre:\n",
    "\n",
    "- $x-p_1$ si $x \\geq p_1$\n",
    "- $x-p_2$ si $x \\geq p_2$\n",
    "- ...\n",
    "- $x-p_i$ si $x \\geq p_i$\n",
    "- ...\n",
    "- $x-p_n$ si $x \\geq p_n$\n",
    "\n",
    "Autrement dit $N(x) = 1 + N(x-p_i)\\;\\forall\\;x\\;\\geq\\;p_i$\n",
    "\n",
    "**Exemples** : \n",
    "\n",
    "- Il me faudra une pièce de moins pour rendre 15 centimes que 20 centimes, si je dispose d'une pièce de 5 centimes.\n",
    "- Il me faudra une pièce de moins pour rendre 10 centimes que 20 centimes, si je dispose d'une pièce de 10 centimes.\n",
    "\n",
    "Ce qui nous intéresse c'est le **nombre minimum de pièces** parmi toutes les valeurs de $N(x-p_i)$.\n",
    "\n",
    "La relation de récurrence pour notre problème d'optimisation est donc:\n",
    "\n",
    "$\n",
    "N(x)=\n",
    "\\left\\{\n",
    "    \\begin{array}{ll}\n",
    "        0\\;si\\; x=0 \\\\\n",
    "        1+min(N(x-p_i))\\; avec\\;1\\leq i <n\\;et\\;p_i\\leq\\;x\n",
    "    \\end{array}\n",
    "\\right.\n",
    "$"
   ]
  },
  {
   "cell_type": "markdown",
   "metadata": {},
   "source": [
    "### Première solution : la force brute\n",
    "\n",
    "<div class=\"alert alert-info\">\n",
    "\n",
    "**A faire** : Implémenter cette solution en Python\n",
    "\n",
    "</div>\n",
    "\n",
    "pseudo code:\n",
    "```\n",
    "fonction rendu_monnaie_brute(pieces, rendu, pieces_utilisees=None)\n",
    "    si pieces_utilisees est None:\n",
    "        pieces_utilisees <- Liste vide\n",
    "    #cas d'arrêt\n",
    "    si le rendu est nul, on retourne 0\n",
    "\n",
    "    #cas général\n",
    "    nb_min <- infini\n",
    "    meilleure_combinaison <- liste vide\n",
    "\n",
    "    pour chaque pièce\n",
    "        si la pièce est inférieure au rendu\n",
    "            nb_pieces, combinaison <- rendu_monnaie(pieces, rendu - piece, pieces_utilisees + piece)\n",
    "            nb_pieces <- nb_pieces + 1\n",
    "            si nb_pieces est inférieur à nb_min:\n",
    "                nb_min <- nb_pieces\n",
    "                meilleure_combinaison <- combinaison\n",
    "            fin de si\n",
    "        fin de si\n",
    "    fin pour\n",
    "    on retourne nb_min, meilleure_combinaison\n",
    "\n",
    "```"
   ]
  },
  {
   "cell_type": "code",
   "execution_count": null,
   "metadata": {},
   "outputs": [],
   "source": [
    "from math import inf\n",
    "\n",
    "def rendu_monnaie_brute(pieces:list, rendu:int, pieces_utilisees=None)-> tuple:\n",
    "    \"\"\"\n",
    "    Solution par force brute récursive\n",
    "    pieces (list): les pieces disponibles, triées en ordre décroissant\n",
    "    rendu (int) : le rendu\n",
    "    pieces_utilisees : la liste des pièces utilisées triées de façon décroissante\n",
    "    #memo : le dictionnaire de mémoïsation\n",
    "    Retourne: (nombre de pièces, liste des pièces utilisées)\n",
    "    \"\"\"\n",
    "\n",
    "    if pieces_utilisees is None:\n",
    "        pieces_utilisees = []\n",
    "    # Cas d'arrêt\n",
    "    if rendu == 0:\n",
    "        return 0, pieces_utilisees\n",
    "\n",
    "    # A FAIRE"
   ]
  },
  {
   "cell_type": "code",
   "execution_count": null,
   "metadata": {},
   "outputs": [],
   "source": [
    "# Exemple 1\n",
    "pieces = [2, 5, 10, 50]\n",
    "pieces = sorted(pieces, reverse=True)\n",
    "rendu_monnaie_brute(pieces, 11)"
   ]
  },
  {
   "cell_type": "markdown",
   "metadata": {},
   "source": [
    "### Observation de l'arbre d'appel récursif\n",
    "\n",
    "- Construire l'arbre des appels récursif pour un rendu de 9.\n",
    "- Existe t-il des redondances dans l'arbre ?\n",
    "- Essayez pour le rendu de 90 centimes.\n",
    "- Quels sont les avantages et inconvénients de cet algorithme par **force brute** ?"
   ]
  },
  {
   "cell_type": "markdown",
   "metadata": {},
   "source": [
    "### Ajout de mémoïsation\n",
    "\n",
    "S'inspirer de la fonction *rendu_monnaie_brute* pour créer la fonction *rendu_monnaie_memo* qui utilise la mémoïsation\n",
    "\n",
    "- Avant chaque calcul, vérifier si la clé est présente dans le dictionnaire memo\n",
    "- Pour chaque calcul enregistrer dans le dictionnaire le résultat obtenu (nb_min, pieces_utilisees)\n"
   ]
  },
  {
   "cell_type": "code",
   "execution_count": null,
   "metadata": {},
   "outputs": [],
   "source": [
    "# A coder"
   ]
  },
  {
   "cell_type": "code",
   "execution_count": null,
   "metadata": {},
   "outputs": [],
   "source": [
    "# Exemple 2\n",
    "pieces = [1, 3, 4, 6, 12, 24, 30, 60, 120, 240, 252]\n",
    "pieces = sorted(pieces, reverse=True)\n",
    "rendu_monnaie_memo(pieces, 399)"
   ]
  },
  {
   "cell_type": "markdown",
   "metadata": {},
   "source": [
    "### Comparaison des performances\n",
    "Effectuons le calcul optimal des rendus de 5 à 30 par force brute, avec et sans mémoïsation."
   ]
  },
  {
   "cell_type": "code",
   "execution_count": null,
   "metadata": {},
   "outputs": [],
   "source": [
    "from timeit import timeit\n",
    "import matplotlib.pyplot as plt\n",
    "\n",
    "pieces = [1, 3, 4, 6, 12, 24, 30, 60, 120, 240, 252]\n",
    "pieces = sorted(pieces, reverse=True)\n",
    "temps_brute = []\n",
    "temps_memo = []\n",
    "montants = range(5,30, 2)\n",
    "for montant in montants:\n",
    "    temps_brute.append(timeit('rendu_monnaie_brute(pieces, montant)', globals=globals(), number=2))\n",
    "    temps_memo.append(timeit('rendu_monnaie__memo(pieces, montant)', globals=globals(), number=2))\n",
    "\n",
    "plt.plot(montants, temps_brute, label=\"Sans mémoïsation\")\n",
    "plt.plot(montants, temps_memo, label=\"Avec mémoïsation\")\n",
    "plt.legend()\n",
    "plt.show()"
   ]
  },
  {
   "cell_type": "markdown",
   "metadata": {},
   "source": [
    "La courbe sans memoïsation doit clairement montrer l'explosion combinatoire.\n",
    "\n",
    "**A Faire**:\n",
    "Dans le code ci-dessus,\n",
    "- Désactiver l'appel et la représentation sans mémoïsation;\n",
    "- Augmenter l'intervalle des rendus (par exemple de 100 à 1000);\n",
    "- Augmenter le nombre de tests (number=10) afin de lisser la courbe;\n",
    "- Observer le type de courbe obtenue.\n",
    "\n",
    "Vu la courbe, quelle semble être la complexité temporelle de la fonction de force brute avec mémoïsation?"
   ]
  },
  {
   "cell_type": "markdown",
   "metadata": {},
   "source": [
    "**A faire**:\n",
    "\n",
    "Essayer le rendu pour 49 pence."
   ]
  },
  {
   "cell_type": "code",
   "execution_count": null,
   "metadata": {},
   "outputs": [],
   "source": [
    "# Voici le systeme des pences\n",
    "P=[1, 3, 4, 6, 12, 24, 30, 60, 120, 240, 252]\n"
   ]
  },
  {
   "cell_type": "markdown",
   "metadata": {},
   "source": [
    "Solution (un peu dégueu) pour afficher la liste des pièces utilisées."
   ]
  },
  {
   "cell_type": "markdown",
   "metadata": {},
   "source": [
    "## Corrections"
   ]
  },
  {
   "cell_type": "code",
   "execution_count": null,
   "metadata": {},
   "outputs": [],
   "source": [
    "from math import inf\n",
    "\n",
    "def rendu_monnaie_brute(pieces:list, rendu:int, pieces_utilisees=None)-> tuple:\n",
    "    \"\"\"\n",
    "    Solution par force brute récursive\n",
    "    pieces (list): les pieces disponibles, triées en ordre décroissant\n",
    "    rendu (int) : le rendu\n",
    "    pieces_utilisees : la liste des pièces utilisées triées de façon décroissante\n",
    "    #memo : le dictionnaire de mémoïsation\n",
    "    Retourne: (nombre de pièces, liste des pièces utilisées)\n",
    "    \"\"\"\n",
    "\n",
    "    if pieces_utilisees is None:\n",
    "        pieces_utilisees = []\n",
    "    # Cas d'arrêt\n",
    "    if rendu == 0:\n",
    "        return 0, pieces_utilisees\n",
    "\n",
    "    nb_min = inf # initialisation à l'infini\n",
    "    meilleure_combinaison = []\n",
    "    pieces = sorted(pieces, reverse=True) # on trie pour être sûr\n",
    "    for piece in pieces:\n",
    "        if piece <= rendu:\n",
    "            # Appel récursif\n",
    "            nb_pieces, combinaison = rendu_monnaie_brute(\n",
    "                pieces,\n",
    "                rendu - piece,\n",
    "                pieces_utilisees + [piece]\n",
    "            )\n",
    "\n",
    "            nb_pieces += 1  # On compte la pièce courante\n",
    "\n",
    "            if nb_pieces < nb_min:\n",
    "                nb_min = nb_pieces\n",
    "                meilleure_combinaison = combinaison\n",
    "\n",
    "    return nb_min, meilleure_combinaison\n",
    "\n",
    "def rendu_monnaie_memo(pieces, rendu, pieces_utilisees=None, memo=None):\n",
    "    \"\"\"\n",
    "    Solution par force brute récursive avec mémoïsation\n",
    "    pieces (list): les pieces disponibles, triées en ordre décroissant\n",
    "    rendu (int) : le rendu\n",
    "    pieces_utilisees : la liste des pièces utilisées triées de façon décroissante\n",
    "    memo : le dictionnaire de mémoïsation\n",
    "    Retourne: (nombre de pièces, liste des pièces utilisées)\n",
    "    \"\"\"\n",
    "    # Si memo est None, l'initialiser à dictionnaire vide\n",
    "    if memo is None:\n",
    "        memo = {}\n",
    "\n",
    "    if pieces_utilisees is None:\n",
    "        pieces_utilisees = []\n",
    "\n",
    "    # Cas d'arrêt\n",
    "    if rendu == 0:\n",
    "        return 0, pieces_utilisees\n",
    "\n",
    "    # Vérification si le résultat du rendu est présent dans memo\n",
    "    if rendu in memo:\n",
    "        return memo[rendu]\n",
    "\n",
    "    nb_min = inf # initialisation à l'infini\n",
    "    meilleure_combinaison = []\n",
    "\n",
    "    for piece in pieces:\n",
    "        if piece <= rendu:\n",
    "            # Appel récursif\n",
    "            nb_pieces, combinaison = rendu_monnaie_memo(\n",
    "                pieces,\n",
    "                rendu - piece,\n",
    "                pieces_utilisees + [piece],\n",
    "                memo = memo,\n",
    "            )\n",
    "\n",
    "            nb_pieces += 1  # On compte la pièce courante\n",
    "\n",
    "            if nb_pieces < nb_min:\n",
    "                nb_min = nb_pieces\n",
    "                meilleure_combinaison = combinaison\n",
    "\n",
    "    #stockage du resultat dans le memo\n",
    "    memo[rendu]=(nb_min, meilleure_combinaison)\n",
    "\n",
    "    return nb_min, meilleure_combinaison"
   ]
  }
 ],
 "metadata": {
  "kernelspec": {
   "display_name": "Python 3 (ipykernel)",
   "language": "python",
   "name": "python3"
  },
  "language_info": {
   "codemirror_mode": {
    "name": "ipython",
    "version": 3
   },
   "file_extension": ".py",
   "mimetype": "text/x-python",
   "name": "python",
   "nbconvert_exporter": "python",
   "pygments_lexer": "ipython3",
   "version": "3.10.12"
  },
  "toc": {
   "base_numbering": 1,
   "nav_menu": {},
   "number_sections": true,
   "sideBar": true,
   "skip_h1_title": false,
   "title_cell": "Table of Contents",
   "title_sidebar": "Contents",
   "toc_cell": false,
   "toc_position": {},
   "toc_section_display": true,
   "toc_window_display": false
  }
 },
 "nbformat": 4,
 "nbformat_minor": 4
}
