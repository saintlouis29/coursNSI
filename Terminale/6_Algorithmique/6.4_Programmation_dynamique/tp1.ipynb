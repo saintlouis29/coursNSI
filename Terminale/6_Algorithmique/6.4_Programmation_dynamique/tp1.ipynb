{
 "cells": [
  {
   "cell_type": "markdown",
   "metadata": {},
   "source": [
    "[Accueil](../../../index.ipynb) > [Sommaire](../../index.ipynb) > [6.4 Programmation dynamique](index.ipynb)"
   ]
  },
  {
   "cell_type": "markdown",
   "metadata": {},
   "source": [
    "# TP Rendu de monnaie\n",
    "\n",
    "L'optimisation du **rendu de monnaie** a déjà été traitée en première grâce [aux algorithmes gloutons](../../../Premiere/8_Algorithmique/5_algorithme_glouton.ipynb).\n",
    "\n",
    "**Nous allons voir que la résolution par des algorithmes gloutons ne donne pas toujours la solution optimale et parfois ne trouve pas la solution...**\n",
    "\n",
    "- Vous avez à votre disposition différentes pièces de monnaie;\n",
    "- Vous devez rendre une certaine somme en minimisant le nombre de pièces rendues.\n",
    "\n",
    "La solution par l'algorithme glouton est la suivante:\n",
    "\n",
    "- Prendre la plus grande pièce possible;\n",
    "- Recommencer l'opération jusqu'à ce que la somme à rendre soit nulle."
   ]
  },
  {
   "cell_type": "markdown",
   "metadata": {},
   "source": [
    "**Exemple 1**:\n",
    "\n",
    "Vous avez à votre disposition les pièces suivantes:\n",
    "\n",
    "- 2 centimes\n",
    "- 5 centimes\n",
    "- 10 centimes\n",
    "- 50 centimes.\n",
    "\n",
    "Vous devez rendre **11** centimes.\n",
    "\n",
    "On applique l'algorithme glouton:\n",
    "\n",
    "- On utilise une pièce de 10 centimes;\n",
    "- Il reste 1 centime à rendre, mais nous ne disposons pas de cette pièce...\n",
    "\n",
    "Pourtant la solution existe : 1 pièce de 5 et 3 pièces de 2.\n",
    "\n",
    "**Exemple 2**:\n",
    "\n",
    "Dans l’ancien système monétaire britannique qui avait cours avant 1971, **la livre sterling était divisée en 20 shillings** divisés chacun en 12 pence (pluriel de penny).\n",
    "\n",
    "La valeur des différentes pièces existantes était 1, 3, 4, 6, 12, 24, 30, 60, 120, 240 et 252 pence. Depuis 1971, c’est un système décimal qui est utilisé avec les mêmes valeurs que dans le système de l’euro.\n",
    "\n",
    "Si on applique l'algorithme glouton pour rendre 49 pence on trouve:\n",
    "\n",
    "- 1 pièce de 30 pence (reste 19)\n",
    "- 1 pièce de 12 pence (reste 7)\n",
    "- 1 pièce de 6 pence (reste 1)\n",
    "- 1 pièce de 1 penny (reste 0)\n",
    "\n",
    "On a donc utilisé 4 pièces.\n",
    "\n",
    "Pourtant la solution optimale est 2 pièces de 24 et 1 pièce de 1, soit 3 pièces.\n",
    "\n",
    "<div class=\"alert alert-info\">Dans certains cas un algorithme glouton trouvera une solution, mais celle ci ne sera pas forcément optimale.</div>"
   ]
  },
  {
   "cell_type": "markdown",
   "metadata": {},
   "source": [
    "## Modélisation du problème.\n",
    "\n",
    "On a: \n",
    "\n",
    "- $x$ la **somme à rendre**;\n",
    "- $N(x)$ **le nombre de pièces** à rendre.\n",
    "\n",
    "Si je suis capable de rendre $x$ centimes avec $N(x)$ pièces, combien de pièces sont nécéssaires pour rendre x-p? (p étant la valeur d'une pièce)\n",
    "\n",
    "Je dispose des pièces suivantes ${p_1, p_2, p_3,...., p_n}$. \n",
    "\n",
    "Si je suis capable de rendre $x$ centimes alors je suis capable de rendre:\n",
    "\n",
    "- $x-p_1$ si $x \\geq p_1$\n",
    "- $x-p_2$ si $x \\geq p_2$\n",
    "- ...\n",
    "- $x-p_i$ si $x \\geq p_i$\n",
    "- ...\n",
    "- $x-p_n$ si $x \\geq p_n$\n",
    "\n",
    "Autrement dit $N(x) = 1 + N(x-p_i)\\;\\forall\\;x\\;\\geq\\;p_i$\n",
    "\n",
    "**Exemples** : \n",
    "\n",
    "- Il me faudra une pièce de moins pour rendre 15 centimes que 20 centimes, si je dispose d'une pièce de 5 centimes.\n",
    "- Il me faudra une pièce de moins pour rendre 10 centimes que 20 centimes, si je dispose d'une pièce de 10 centimes.\n",
    "\n",
    "Ce qui nous intéresse c'est le **nombre minimum de pièces** parmi toutes les valeurs de $N(x-p_i)$.\n",
    "\n",
    "La relation de récurrence pour notre problème d'optimisation est donc:\n",
    "\n",
    "$\n",
    "N(x)=\n",
    "\\left\\{\n",
    "    \\begin{array}{ll}\n",
    "        0\\;si\\; x=0 \\\\\n",
    "        1+min(N(x-p_i))\\; avec\\;1\\leq i <n\\;et\\;p_i\\leq\\;x\n",
    "    \\end{array}\n",
    "\\right.\n",
    "$\n",
    "\n",
    "### Première solution : la force brute.\n",
    "\n",
    "<div class=\"alert alert-info\">\n",
    "\n",
    "**A faire** : Implémenter cette solution en Python\n",
    "\n",
    "</div>\n",
    "\n",
    "pseudo code:\n",
    "```\n",
    "fonction rendu_monnaie(pieces, rendu)\n",
    "    nb_min <- infini\n",
    "    #cas d'arrêt\n",
    "    si le rendu est nul, on retourne 0\n",
    "    #cas général\n",
    "    pour chaque pièce\n",
    "        si la pièce est inférieure au rendu\n",
    "            nb_pieces <- 1 + rendu_monnaie(pieces, rendu - piece)\n",
    "            si nb_pieces est inférieur à nb_min:\n",
    "                nb_min <- nb_pieces\n",
    "            fin de si\n",
    "        fin de si\n",
    "    fin pour\n",
    "    on retourne nb_min\n",
    "\n",
    "```"
   ]
  },
  {
   "cell_type": "code",
   "execution_count": 1,
   "metadata": {},
   "outputs": [
    {
     "data": {
      "text/plain": [
       "4"
      ]
     },
     "execution_count": 1,
     "metadata": {},
     "output_type": "execute_result"
    }
   ],
   "source": [
    "pieces = [2, 5, 10, 50, 100]\n",
    "from math import inf as infinity\n",
    "\n",
    "def rendu_monnaie(pieces, rendu):\n",
    "    \"\"\"\n",
    "    pieces : la liste des pièces disponibles\n",
    "    rendu : le montant à rendre\n",
    "    Retourne le nombre minimal de pièces à rendre\n",
    "    \"\"\"\n",
    "    if rendu<= 0 :\n",
    "        return infinity\n",
    "    if rendu in pieces :\n",
    "        return 1\n",
    "    else :\n",
    "        mini = infinity\n",
    "        for piece in pieces:\n",
    "            nb = rendu_monnaie(pieces, rendu - piece)\n",
    "            if  nb < mini:\n",
    "                mini = nb\n",
    "        return mini + 1\n",
    "        \n",
    "    \n",
    "rendu_monnaie(P, 11)"
   ]
  },
  {
   "cell_type": "markdown",
   "metadata": {},
   "source": [
    "### Observation de l'arbre d'appel récursif\n",
    "\n",
    "- Construire l'arbre des appels récursif pour un rendu de 9.\n",
    "- Existe t-il des redondances dans l'arbre ?\n",
    "- Essayez pour le rendu de 90 centimes.\n",
    "- Quels sont les avantages et inconvénients de cet algorithme par **force brute** ?"
   ]
  },
  {
   "cell_type": "markdown",
   "metadata": {},
   "source": [
    "### Utilisation de la programmation dynamique : mémoïsation\n",
    "\n",
    "Nous allons, cette fois-ci, utiliser la mémoïsation afin de ne pas recalculer des solutions déjà calculées.\n",
    "\n",
    "Une fois la fonction écrite, calculer le nombre de pièces optimal pour rendre 1,71€.\n"
   ]
  },
  {
   "cell_type": "code",
   "execution_count": 1,
   "metadata": {},
   "outputs": [
    {
     "data": {
      "text/plain": [
       "9"
      ]
     },
     "execution_count": 1,
     "metadata": {},
     "output_type": "execute_result"
    }
   ],
   "source": [
    "from math import inf as infinity\n",
    "\n",
    "P = [2, 5, 10, 50, 100]\n",
    "\n",
    "def rendu_monnaie_memo(P,rendu, memo = None):\n",
    "    \"\"\"\n",
    "    Détermine le nombre minimal de pièces\n",
    "    à rendre.\n",
    "\n",
    "    Algorithme récursif avec mémoïsation.\n",
    "    \"\"\"\n",
    "    if memo == None:\n",
    "        memo = {}\n",
    "        \n",
    "    if rendu<= 0 :\n",
    "        return infinity\n",
    "    if rendu in P :\n",
    "        return 1\n",
    "    else :\n",
    "        mini = infinity\n",
    "        for piece in P:\n",
    "            if rendu - piece in memo.keys():\n",
    "                nb = memo[rendu - piece]\n",
    "            else:\n",
    "                nb = rendu_monnaie_memo(P, rendu - piece, memo = memo)\n",
    "                memo[rendu - piece] = nb\n",
    "            if  nb < mini:\n",
    "                mini = nb\n",
    "        return mini + 1\n",
    "\n",
    "rendu_monnaie_memo(P, 199)"
   ]
  },
  {
   "cell_type": "markdown",
   "metadata": {},
   "source": [
    "**A faire**:\n",
    "\n",
    "Essayer le rendu pour 49 pence."
   ]
  },
  {
   "cell_type": "code",
   "execution_count": null,
   "metadata": {},
   "outputs": [],
   "source": [
    "# Voici le systeme des pences\n",
    "P=[1, 3, 4, 6, 12, 24, 30, 60, 120, 240, 252]\n"
   ]
  },
  {
   "cell_type": "markdown",
   "metadata": {},
   "source": [
    "Solution (un peu dégueu) pour afficher la liste des pièces utilisées."
   ]
  },
  {
   "cell_type": "code",
   "execution_count": 2,
   "metadata": {},
   "outputs": [
    {
     "data": {
      "text/plain": [
       "(5, [5, 2, 2, 2, 2])"
      ]
     },
     "execution_count": 2,
     "metadata": {},
     "output_type": "execute_result"
    }
   ],
   "source": [
    "P = [2, 5, 10, 50, 100]\n",
    "\n",
    "def rendu_monnaie(P,x):\n",
    "    \"\"\"\n",
    "    P : la liste des pièces disponibles\n",
    "    x : le montant à rendre\n",
    "    Retourne le nombre minimal de pièces à rendre\n",
    "    \"\"\"\n",
    "    # On initialise le minimum à l'infini\n",
    "    nb_min = float('inf')\n",
    "    l_pieces = []\n",
    "\n",
    "    # cas d'arrêt\n",
    "    if x == 0:\n",
    "        return 0, []\n",
    "    \n",
    "    # cas général\n",
    "    for piece in P:\n",
    "        if piece <= x:\n",
    "            nb, pieces = rendu_monnaie(P, x-piece)\n",
    "            nb_pieces = 1 + nb\n",
    "            pieces.append(piece)\n",
    "            if nb_pieces < nb_min:\n",
    "                # affectation de la nouvelle valeur mini dans nb_min\n",
    "                nb_min = nb_pieces\n",
    "                l_pieces = pieces\n",
    "    # On retourne le nombre mini trouvé\n",
    "    return nb_min, l_pieces\n",
    "        \n",
    "        \n",
    "    \n",
    "rendu_monnaie(P, 13)"
   ]
  },
  {
   "cell_type": "code",
   "execution_count": null,
   "metadata": {},
   "outputs": [],
   "source": []
  }
 ],
 "metadata": {
  "kernelspec": {
   "display_name": "Python 3 (ipykernel)",
   "language": "python",
   "name": "python3"
  },
  "language_info": {
   "codemirror_mode": {
    "name": "ipython",
    "version": 3
   },
   "file_extension": ".py",
   "mimetype": "text/x-python",
   "name": "python",
   "nbconvert_exporter": "python",
   "pygments_lexer": "ipython3",
   "version": "3.12.3"
  },
  "toc": {
   "base_numbering": 1,
   "nav_menu": {},
   "number_sections": true,
   "sideBar": true,
   "skip_h1_title": false,
   "title_cell": "Table of Contents",
   "title_sidebar": "Contents",
   "toc_cell": false,
   "toc_position": {},
   "toc_section_display": true,
   "toc_window_display": false
  }
 },
 "nbformat": 4,
 "nbformat_minor": 4
}
