{
 "cells": [
  {
   "cell_type": "markdown",
   "metadata": {},
   "source": [
    "[Accueil](../../index.ipynb) > [Sommaire Première](../index.ipynb)"
   ]
  },
  {
   "cell_type": "markdown",
   "metadata": {},
   "source": [
    "# 8.5 Algorithmique : Algorithme glouton\n",
    "\n",
    "![Monsieur glouton](./img/glouton.jpg)\n"
   ]
  },
  {
   "cell_type": "markdown",
   "metadata": {},
   "source": [
    "## Définition\n",
    "\n",
    "Un algorithme glouton (*greedy algorithm*) est un algorithme qui réalise, étape par étape, un choix optimum local, jamais remis en cause, afin d'obtenir un résultat global optimum. Cependant un algorithme glouton ne fournit pas toujours le meilleur résultat possible.\n"
   ]
  },
  {
   "cell_type": "markdown",
   "metadata": {},
   "source": [
    "## Exemple du rendu de monnaie\n",
    "\n",
    "<figure style=\"float:right\">\n",
    "    <img src=\"img/8.5_monnaies.jpg\"\n",
    "         alt=\"Monnaie européenne\"\n",
    "         title=\"Monnaie européenne\"\n",
    "         style=\"border:1px solid black\"\n",
    "         >\n",
    "    <figcaption>Le système de monnaie européenne.</figcaption>\n",
    "</figure>\n",
    "On dipose des pièces/billets suivants exprimés en euros: 1, 2, 5, 10, 20, 50, 100, 200, 500 en quantité illimitée.\n",
    "\n",
    "On imagine un rendu à effectuer de 49€. Quelles pièces peuvent être rendues ?\n",
    "\n",
    "- Solution 1:\n",
    "  - Deux billets de 20€\n",
    "  - Un billet 5€\n",
    "  - Deux pièces de 2€\n",
    "- Solution 2:\n",
    "  - 49 pièces de 1€\n",
    "\n",
    "Il existe une grande quantité de solutions pour rendre la monnaie.\n",
    "\n",
    "Si maintenant il est demandé de rendre la monnaie avec le **minimum de pièces**, ceci est un **problème d'optimisation**, et dans ce cas, la solution 1 est optimale. \n",
    "  \n",
    "Sans s'en rendre compte, tout individu met en oeuvre un algorithme glouton pour rendre la monnaie.\n",
    "\n",
    "Voici l'algorithme en pseudo code:\n",
    "```\n",
    "mettre dans la variables monnaie la liste de pieces/billets dans l'ordre décroissant\n",
    "initialiser la solution à une liste vide\n",
    "initialiser l'indice à 0\n",
    "tant que le rendu est positif:\n",
    "    si la pièce d'indice i est supérieure au rendu:\n",
    "        incrémenter l'indice\n",
    "    sinon:\n",
    "        ajouter la pièce au resultat\n",
    "        soutraire la pièce au rendu\n",
    "retourner le résultat.\n",
    "```\n",
    "\n",
    "Implémenter cet algorithme et vérifier qu'il retourne bien la solution optimale\n"
   ]
  },
  {
   "cell_type": "code",
   "execution_count": 8,
   "metadata": {},
   "outputs": [
    {
     "data": {
      "text/plain": [
       "[20, 20, 5, 2, 2]"
      ]
     },
     "execution_count": 8,
     "metadata": {},
     "output_type": "execute_result"
    }
   ],
   "source": [
    "monnaie = [500, 200, 100, 50, 20, 10, 5, 2, 1]\n",
    "\n",
    "def rendu_monnaie(monnaie, rendu):\n",
    "    resultat = []\n",
    "    # a vous de coder\n",
    "    return resultat\n",
    "\n",
    "rendu_monnaie(monnaie, 49)"
   ]
  },
  {
   "cell_type": "markdown",
   "metadata": {},
   "source": [
    "Vous remarquerez avec vos différents essais que l'algorithme glouton retourne à chaque fois la solution optimale. On dit que ce système de monnaie est **canonique**.\n",
    "\n",
    "Tous les systèmes de monnaie n'ont pas été canoniques. Ainsi, avant la réforme de 1971, les britanniques utilisaient le système 1,3,6,12,24,30\n",
    "\n",
    "Faites des essais avec ce système de monnaie pour montrer qu'il n'est pas **canonique**."
   ]
  },
  {
   "cell_type": "code",
   "execution_count": null,
   "metadata": {},
   "outputs": [],
   "source": [
    "monnaie = [30, 24, 12, 6, 3, 1]\n",
    "rendu_monnaie(monnaie, 49)"
   ]
  },
  {
   "cell_type": "markdown",
   "metadata": {},
   "source": [
    "Pour ce système de monnaie, la recherche de la solution optimale passe par la **programmation dynamique** étudiée en classe de Terminale.\n",
    "\n",
    "Pour les plus curieux (vraiment curieux!!!), savoir si un système est canonique, a été édutié par  Kozen et Zaks qui ont pondu l'[algorithme de  Kozen et Zaks](http://www.cs.cornell.edu/~kozen/Papers/change.pdf)."
   ]
  },
  {
   "cell_type": "markdown",
   "metadata": {},
   "source": [
    "## Optimisation du nombre de carrés dans un rectangle\n",
    "\n",
    "[voir source](https://github.com/glassus/nsi/blob/master/Premiere/Theme05_Algorithmique/06_Algorithmes_gloutons.ipynb)\n",
    "\n",
    "On considère un rectangle de dimension 11 sur 13 (figure 0). On veut remplir ce rectangle avec le minimum de carrés.\n",
    "\n",
    "![illustration](img/carres1.png)\n",
    "\n",
    "Un algorithme glouton va chercher à positionner d'abord le plus grand carré possible puis va effectuer la même opération dans le rectangle restant, etc... etc...\n",
    "On arrive à la solution de la figure 1, soit 8 carrés.\n",
    "\n",
    "La solution optimale est la figure 2. Mais combien de calculs ont été nécessaires pour arriver à 6 carrés ? (honnêtement je ne sais pas...)\n",
    "\n",
    "Un algorithme glouton va-t-il toujours passer à côté de la solution optimale? Non, nous l'avons vu dans l'exemple du rendu de monnaie.\n",
    "\n",
    "Dans le cas suivant, un rectangle de 10x15, l'algorithme glouton trouve la solution optimale:\n",
    "\n",
    "![illustration](img/carres2.png)\n"
   ]
  },
  {
   "cell_type": "markdown",
   "metadata": {},
   "source": [
    "## Exemple du sac à dos\n",
    "\n",
    "Le problème du sac à dos, parfois noté problème KP (*Knapsack Problem*) est un problème d'**optimisation combinatoire**.\n",
    "\n",
    "Ce problème consiste à trouver la combinaison d'éléments la plus précieuse à mettre dans un sac à dos, étant donné un ensemble d'éléments décrits par leurs **poids** et leurs **valeurs**. Il faut **maximiser** la valeur totale tout en ne dépassant pas le poids de charge maximal du sac à dos.\n",
    "\n",
    "### Méthodes de résolution\n",
    "\n",
    "Il existe deux catégories de résolution des problèmes d'optimisation combinatoire.\n",
    "\n",
    "1. Les méthodes exactes\n",
    "2. Les méthodes approchées\n",
    "\n",
    "Les méthodes exactes donnent la solution optimale au prix d'un calcul long si les combinaisons possibles sont nombreuses.\n",
    "\n",
    "Les méthodes approchées, appelées également **heuristiques**, permettent d'obtenir une solution approchée, donc pas nécessairement optimale, mais avec un calcul plus rapide.\n",
    "\n",
    "#### Les méthodes exactes\n",
    "\n",
    "La plus intuitive, est la **brut force** : on explore toutes les combinaisons possibles. (Procédé d'exploration systématique)\n",
    "\n",
    "Cela revient à parcourir un arbre, dans lequel, à chaque embranchement, on choisit d'ajouter ou non l'objet courant.\n",
    "\n",
    "Une fois tous les chemins explorés, on élimine les solutions qui ne respectent pas la contrainte, et on choisit la solution optimale parmi les solutions restantes.\n",
    "\n",
    "![arbre binaire d'exploration](img/Arbre_binaire_exploration.svg.png)\n",
    "\n",
    "Problème : si il y a 20 objets et deux choix possibles pour chaque objet, cela donne $2^{20} = 1.048.576$ possibilités!!!\n",
    "\n",
    "**L'exploration de l'ensemble des combinaisons n'est donc pas réaliste si le nombre d'objets est élevé.**\n",
    "\n",
    "Il existe d'autres algorithmes qui retournent la solution optimale comme, par exemple, la [procédure par séparation et évaluation](https://interstices.info/le-probleme-du-sac-a-dos/) qui permet de limiter le parcours de l'arbre des possibilités.\n",
    "\n",
    "#### Les méthodes approchées\n",
    "\n",
    "Dans les méthodes approchées, on peut citer deux familles d'algorithmes:\n",
    "- La programmation dynamique\n",
    "- Les algorithmes gloutons\n",
    "\n",
    "### Applications\n",
    "\n",
    "Le problème du sac à dos peut paraitre anecdotique mais il concerne de nombreux domaines:\n",
    "\n",
    "- la cryptographie\n",
    "- gestion de portefeuille : en économie, trouver le meilleur rapport entre risque et rendement;\n",
    "- le chargement de bateau, d'avion ou de fusée;\n",
    "- la découpe de matériaux (minimisation des chutes)\n",
    "- ...\n",
    "\n",
    "Mais bon... place au [TP](5_TP_glouton.ipynb)"
   ]
  },
  {
   "cell_type": "markdown",
   "metadata": {},
   "source": [
    "[Accueil](../../index.ipynb) > [Sommaire Première](../index.ipynb)"
   ]
  }
 ],
 "metadata": {
  "kernelspec": {
   "display_name": "Python 3 (ipykernel)",
   "language": "python",
   "name": "python3"
  },
  "language_info": {
   "codemirror_mode": {
    "name": "ipython",
    "version": 3
   },
   "file_extension": ".py",
   "mimetype": "text/x-python",
   "name": "python",
   "nbconvert_exporter": "python",
   "pygments_lexer": "ipython3",
   "version": "3.10.6"
  }
 },
 "nbformat": 4,
 "nbformat_minor": 4
}
