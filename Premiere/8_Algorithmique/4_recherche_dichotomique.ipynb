{
 "cells": [
  {
   "cell_type": "markdown",
   "metadata": {},
   "source": [
    "[Retour au sommaire](../index.ipynb)"
   ]
  },
  {
   "cell_type": "markdown",
   "metadata": {},
   "source": [
    "# 8.4 Algorithmique : Recherche dichotomique\n",
    "\n",
    "Afin de rechercher la présence (ou non) d'un élément dans une liste **triée par ordre croissant**, le premier algorithme qui vient à l'esprit est de parcourir les éléments de la liste un par un."
   ]
  },
  {
   "cell_type": "markdown",
   "metadata": {},
   "source": [
    "## 8.4.1 Algorithme naïf\n",
    "\n",
    "### pseudo code\n",
    "\n",
    "```\n",
    "//variables d'entrée\n",
    "value: Valeur cherchée (entier)\n",
    "table : liste de N entiers triés\n",
    "\n",
    "//resultat\n",
    "Retourne l'indice de l'élément dans la table, -1 si la valeur n'est pas trouvée\n",
    "result : Entier\n",
    "\t\t\t \n",
    "//initialisation\n",
    "retour ← -1\n",
    "i ← 0 #indice dans la liste\n",
    "\n",
    "//Boucle de recherche\n",
    "// La condition début inférieur à fin permet d'éviter de faire\n",
    "// une boucle infinie si 'val' n'existe pas dans le tableau.\n",
    "Tant que i < N et retour est faux:\n",
    "\tsi table[i] == value:\n",
    "\t\tresult ← i\n",
    "\ti ← i+1\t\t\t\t  \n",
    "return result\n",
    "```\n",
    "\n",
    "### Implémentation en Python:"
   ]
  },
  {
   "cell_type": "code",
   "execution_count": null,
   "metadata": {},
   "outputs": [],
   "source": [
    "def search_value(value, table):\n",
    "    \"\"\"\n",
    "    value: Valeur cherchée (entier)\n",
    "    table : liste de N entiers triés\n",
    "    Retourne l'indice de l'élément dans la table, -1 si la valeur n'est pas trouvée\n",
    "    \"\"\"\n",
    "    # Initialisation\n",
    "    result = -1\n",
    "    i = 0\n",
    "    n = len(table)\n",
    "    # on continue si l'indice n'a pas atteint la fin et que le resultat = -1 (ou l'opposé avec un not)\n",
    "    pass\n",
    "\n",
    "\n",
    "#--------------------------------\n",
    "#      ASSERTS\n",
    "#--------------------------------\n",
    "\n",
    "values = []\n",
    "search = 10\n",
    "expected = -1\n",
    "result = search_value(search, values)\n",
    "assert expected==result, f\"Searching {search} in {values} should return {expected}, instead it returned {result}.\"\n",
    "\n",
    "values = [1,2,5,6,7,8,9,10]\n",
    "search = 3\n",
    "expected = -1\n",
    "result = search_value(search, values)\n",
    "assert expected==result, f\"Searching {search} in {values} should return {expected}, instead it returned {result}.\"\n",
    "\n",
    "values = [1,2,5,6,7,8,9,10]\n",
    "search = 10\n",
    "expected = 7\n",
    "result = search_value(search, values)\n",
    "assert expected==result, f\"Searching {search} in {values} should return {expected}, instead it returned {result}.\"\n"
   ]
  },
  {
   "cell_type": "markdown",
   "metadata": {},
   "source": [
    "### Exercice\n",
    "\n",
    "Implémenter cette fonction en utilisant une boucle *for*."
   ]
  },
  {
   "cell_type": "code",
   "execution_count": null,
   "metadata": {},
   "outputs": [],
   "source": [
    "## implémentation avec un for\n",
    "def search_value2(value, table):\n",
    "    \"\"\"\n",
    "    value: Valeur cherchée (entier)\n",
    "    table : liste de N entiers triés\n",
    "    Retourne l'indice de l'élément dans la table, -1 si la valeur n'est pas trouvée\n",
    "    \"\"\"\n",
    "    pass\n",
    "\n",
    "#--------------------------------\n",
    "#      ASSERTS\n",
    "#--------------------------------\n",
    "\n",
    "values = []\n",
    "search = 10\n",
    "expected = -1\n",
    "result = search_value(search, values)\n",
    "assert expected==result, f\"Searching {search} in {values} should return {expected}, instead it returned {result}.\"\n",
    "\n",
    "values = [1,2,5,6,7,8,9,10]\n",
    "search = 3\n",
    "expected = -1\n",
    "result = search_value(search, values)\n",
    "assert expected==result, f\"Searching {search} in {values} should return {expected}, instead it returned {result}.\"\n",
    "\n",
    "values = [1,2,5,6,7,8,9,10]\n",
    "search = 10\n",
    "expected = 7\n",
    "result = search_value(search, values)\n",
    "assert expected==result, f\"Searching {search} in {values} should return {expected}, instead it returned {result}.\"\n"
   ]
  },
  {
   "cell_type": "markdown",
   "metadata": {},
   "source": [
    "### complexité temporelle.\n",
    "\n",
    "Plaçons nous dans le pire des cas, c'est à dire que l'élément n'est pas dans la liste de longueur *n*.\n",
    "Il faut alors effectuer *n* comparaisons.\n",
    "\n",
    "<div class=\"alert alert-info\">\n",
    "\n",
    "Le coût temporel de l'algorithme séquentiel est donc **linéaire**.\n",
    "\n",
    "On note $T(n) = \\Theta(n)$.    \n",
    "</div>\n",
    "\n",
    "\n",
    "**Remarques**\n",
    "\n",
    "- Cet algorithme est facilement améliorable, on peut par exemple retourner -1 si la valeur est plus petite que le premier élément du tableau ou si elle est plus grande que le dernier élément.\n",
    "    \n",
    "- Mais le pire des cas est \"l'élément est en dernière position\", revient également à faire *n* comparaisons."
   ]
  },
  {
   "cell_type": "markdown",
   "metadata": {},
   "source": [
    "### Relevé de mesures\n",
    "\n",
    "Représentons le temps nécessaire pour la recherche d'un élément dans le pire des cas (L'élément recherché est le dernier de la liste, ou n'est pas présent).\n",
    "\n",
    "Si la représentation du temps en fonction du nombre d'éléments est une droite passant par l'origine, les mesures confirmeront la théorie."
   ]
  },
  {
   "cell_type": "code",
   "execution_count": null,
   "metadata": {},
   "outputs": [],
   "source": [
    "import random\n",
    "import string\n",
    "import matplotlib.pyplot as plt\n",
    "from time import process_time\n",
    "\n",
    "lettres = string.ascii_lowercase\n",
    "\n",
    "def create_mots(N, l=3):\n",
    "    \"\"\"Renvoie une liste de N mots ayant l lettres triés par ordre croissant \"\"\"\n",
    "    L = []\n",
    "    # on rend le générateur prédictible en imposant une graine fixe\n",
    "    #random.seed(2022)\n",
    "    for i in range(N):\n",
    "        mot = ''.join(random.choice(lettres) for i in range(l))\n",
    "        L.append(mot)\n",
    "    L.sort() # on trie la liste\n",
    "    return L\n",
    "\n",
    "def mesure(n):\n",
    "    \"\"\"\n",
    "    Retourne le temps moyen (en ms) pour effectuer la recherche du dernier élément dans une liste triée de n éléments\n",
    "    \"\"\"\n",
    "    liste = create_mots(n, l=5)\n",
    "    somme = 0\n",
    "    for i in range(10):\n",
    "        start = process_time()\n",
    "        search_value(liste[-1], liste)\n",
    "        end = process_time()\n",
    "        somme += end-start\n",
    "    return 1000*somme/10 # on effectue la moyenne des temps\n",
    "\n",
    "results = []\n",
    "for i in range(1000, 10000, 200):\n",
    "    t = mesure(i)\n",
    "    results.append((i, t))\n",
    "\n",
    "plt.figure(figsize=(10, 10))\n",
    "plt.xlabel(\"nombre d'éléments dans la liste\")\n",
    "plt.xlabel(\"durée (ms)\")\n",
    "\n",
    "x = [r[0] for r in results]\n",
    "y = [r[1] for r in results]\n",
    "plt.scatter(x, y, label='Mesures pour la recherche séquentielle')\n",
    "\n",
    "x_max = x[-1]\n",
    "y_max = y[-1]\n",
    "coef_dir = y_max/x_max\n",
    "y1=[v*coef_dir for v in x]\n",
    "plt.plot(x, y1, label='courbe théorique')\n",
    "\n",
    "plt.legend()\n",
    "plt.title(\"Durée de recherche en fonction du nombre d'éléments\")\n",
    "plt.grid(True)\n",
    "plt.show()"
   ]
  },
  {
   "cell_type": "markdown",
   "metadata": {
    "tags": []
   },
   "source": [
    "## 8.4.2 La recherche dichotomique\n",
    "\n",
    "### Définition\n",
    "\n",
    "La **recherche dichotomique**, ou **recherche par dichotomie** (en anglais : *binary search*), est un algorithme de recherche qui permet de trouver la position d'un élément dans un **tableau trié**.\n",
    "\n",
    "Le principe est le suivant : comparer l'élément avec la valeur de la case au milieu du tableau ; si les valeurs sont égales, la tâche est accomplie, sinon on recommence dans la moitié pertinente du tableau.\n",
    "\n",
    "[Source wikipedia](https://fr.wikipedia.org/wiki/Recherche_dichotomique)"
   ]
  },
  {
   "cell_type": "markdown",
   "metadata": {
    "tags": []
   },
   "source": [
    "### Explications animées\n",
    "\n",
    "- [Vidéo explicative sur la dichotomie (10 min)](https://www.youtube.com/watch?v=ULr_8ocz0AU)\n",
    "\n",
    "- [Animation javascript](https://professeurb.github.io/articles/dichoto/)"
   ]
  },
  {
   "cell_type": "markdown",
   "metadata": {
    "tags": []
   },
   "source": [
    "### Algorithme en pseudo code\n",
    "\n",
    "**variables d'entrée**:\n",
    "\n",
    "- value: Valeur cherchée\n",
    "- table : liste triée par ordre croissant\n",
    "\n",
    "**resultat**\n",
    "\n",
    "Retourne l'indice de l'élément dans la table, -1 si la valeur n'est pas trouvée\n",
    "\n",
    "result : Entier\n",
    "\n",
    "\n",
    "- on initialise l'indice de gauche *i* à 0.\n",
    "- on initialise l'indice de droite *j* à la position du dernier élément de la liste.\n",
    "- tant que la différence entre j et i est positive:\n",
    "    - on détermine l'indice *median*.\n",
    "    - Si la valeur d'indice *médian* est inférieure, on cherche dans la partie gauche (j devient median-1).\n",
    "    - Si la valeur d'indice *médian* est supérieure, on cherche dans la partie drotie (i devient median+1).\n",
    "    - sinon on retourne m (la valeur est trouvée).\n",
    "- quand la boucle est finie (non trouvé) on retourne -1."
   ]
  },
  {
   "cell_type": "markdown",
   "metadata": {
    "tags": []
   },
   "source": [
    "### Implémentation en Python\n",
    "\n",
    "**Exercice**:\n",
    "\n",
    "Implémenter la fonction en Python"
   ]
  },
  {
   "cell_type": "code",
   "execution_count": null,
   "metadata": {},
   "outputs": [],
   "source": [
    "def search_value_dicho(value, table):\n",
    "    \"\"\"\n",
    "    value: Valeur cherchée\n",
    "    table : liste triée par ordre croissant\n",
    "    Retourne l'indice de l'élément dans la table, -1 si la valeur n'est pas trouvée\n",
    "    \"\"\"\n",
    "    i = 0 # Indice de la partie gauche\n",
    "    j = len(table)-1 # Indice de la partie droite\n",
    "    # code à compléter\n",
    "    pass\n",
    "\n",
    "\n",
    "liste = create_mots(2**3, l=3)\n",
    "print(liste)\n",
    "print(search_value_dicho(liste[-1], liste))"
   ]
  },
  {
   "cell_type": "markdown",
   "metadata": {
    "tags": []
   },
   "source": [
    "### Variant de boucle\n",
    "\n",
    "<div class=\"alert alert-info\">\n",
    "\n",
    "**Définition**\n",
    "\n",
    "On appelle **variant de boucle** toute quantité *v* vérifiant:\n",
    "- $ v \\in \\mathbf{N}$\n",
    "- $v$ décroit strictement à chaque passage dans la boucle\n",
    "    \n",
    "Un variant de boucle sert à prouver la **terminaison d'une boucle**, c'est-à-dire que l’on sort nécessairement de la boucle au bout d’un nombre fini d’itérations.\n",
    "</div>"
   ]
  },
  {
   "cell_type": "markdown",
   "metadata": {
    "jp-MarkdownHeadingCollapsed": true,
    "tags": []
   },
   "source": [
    "### Terminaison de l'algorithme\n",
    "\n",
    "L'objectif est de démontrer que la boucle while se termine.\n",
    "\n",
    "Pour ce faire on va démontrer que j-i est un **variant de boucle**.\n",
    "\n",
    "**Première étape** : $ j-i \\in \\mathbf{N}$ ?\n",
    "\n",
    "Au début de la boucle $j-i=len(T)-1-0$ \n",
    "\n",
    "- Si le tableau est vide, on n'entre pas dans la boucle.\n",
    "- Sinon $ j-i \\in \\mathbf{N}$\n",
    "\n",
    "A chaque itération soit j devient m-1 soit i devient m+1 avec $ m \\in \\mathbf{N}$ on peut donc conclure que **$ j-i \\in \\mathbf{N}$ tout au long de l'algorithme**.\n",
    "\n",
    "**Deuxième étape** : démontrons que j-i décroit à chaque tour dans la boucle.\n",
    "\n",
    "On note $ n \\in \\mathbf{N}$ le nième tour dans la boucle.\n",
    "\n",
    "On note E  la fonction partie entière.\n",
    "\n",
    "Pour tout x, on a $\\underline{x-1 < E(x)\\leqslant x}$ par exemple si x=6.5 on a bien $5.5<6 \\leqslant 6.5$, si x=6 on a bien $5<6 \\leqslant 6$\n",
    "\n",
    "On peut donc écrire \n",
    "\n",
    "- (1) : $\\underline{E(x)\\leqslant x}$\n",
    "\n",
    "- (2) : $\\underline{-E(x)<1-x}$\n",
    "\n",
    "1. Si la valeur est à gauche: (seul l'indice j change )\n",
    "\n",
    "$j_{n+1}-i_{n+1} = j_{n+1}-i_{n}$\n",
    "\n",
    "$j_{n+1}-i_{n+1} = E(\\frac{j_n+i_n}{2})-1-i_{n}$\n",
    "\n",
    "d'après l'inéquation (1):\n",
    "\n",
    "$j_{n+1}-i_{n+1} \\leqslant \\frac{j_n+i_n}{2}-1-i_{n}$\n",
    "\n",
    "$j_{n+1}-i_{n+1} \\leqslant \\frac{j_n}{2}+\\frac{i_n}{2}-i_{n}-1$\n",
    "\n",
    "$j_{n+1}-i_{n+1} \\leqslant \\frac{j_n}{2}-\\frac{i_n}{2}-1$\n",
    "\n",
    "$j_{n+1}-i_{n+1} < \\frac{j_n}{2}-\\frac{i_n}{2}$\n",
    "\n",
    "$j_{n+1}-i_{n+1} < {j_n}-{i_n}$ La valeur $j_{n+1}-i_{n+1}$ a donc décru.\n",
    "\n",
    "2. Si la valeur est à droite: (seul l'indice i change )\n",
    "\n",
    "$j_{n+1}-i_{n+1} = j_{n}-i_{n+1}$\n",
    "\n",
    "$j_{n+1}-i_{n+1} = j_{n}-[E(\\frac{j_n+i_n}{2})+1]$\n",
    "\n",
    "$j_{n+1}-i_{n+1} = j_{n}-E(\\frac{j_n+i_n}{2})-1$\n",
    "\n",
    "d'après l'inéquation (2):\n",
    "\n",
    "$j_{n+1}-i_{n+1} < j_{n}+1-\\frac{j_n+i_n}{2}-1$\n",
    "\n",
    "$j_{n+1}-i_{n+1} < j_{n}-\\frac{j_n+i_n}{2}$\n",
    "\n",
    "$j_{n+1}-i_{n+1} < j_{n}-\\frac{j_n}{2}-\\frac{i_n}{2}$\n",
    "\n",
    "$j_{n+1}-i_{n+1} < \\frac{j_n}{2}-\\frac{i_n}{2}$\n",
    "\n",
    "$j_{n+1}-i_{n+1} < {j_n}-{i_n}$ La valeur $j_{n+1}-i_{n+1}$ a donc décru.\n",
    "\n",
    "3. Si la valeur est égale à T[m] on sort de l'algo.\n",
    "\n",
    "\n",
    "On a prouvé que $j_n-i_n$ est strictement décroissant et est un entier naturel, **c'est donc un variant de boucle**.\n",
    " \n",
    "L'algorithme se termine donc. \n"
   ]
  },
  {
   "cell_type": "markdown",
   "metadata": {},
   "source": [
    "### Coût temporel de l'algorithme\n",
    "\n",
    "voici une liste triée de 8 mots.\n",
    "\\['aes', 'fcp', 'gwi', 'kgi', 'lds', 'lgj', 'nhq', 'unb'\\]\n",
    "\n",
    "Effectuer 'manuellement' la recherche dichotomique du mot 'unb'\n",
    "Combien de fois faut-il boucler ?\n",
    "\n",
    "Voici une liste de 16 mots.\n",
    "\\['apy', 'bgh', 'bym', 'cqm', 'ctv', 'fso', 'hjc', 'irx', 'kmw', 'nnl', 'pfh', 'rcr', 'rkm', 'wzh', 'zlg', 'zvg'\\]\n",
    "\n",
    "Effectuer 'manuellement' la recherche dichotomique du mot 'zvg'\n",
    "Combien de fois faut-il boucler ?\n",
    "\n",
    "Voici un tableau comparatif entre la recherche séquentielle et la recherche dichotomique\n",
    "\n",
    "| Nombre d'éléments dans la liste                   | 2 | 4 | 8 | 16 | 32 | 64 | 128 | 256 |\n",
    "|---------------------------------------------------|---|---|---|----|----|----|-----|-----|\n",
    "| Nombre de boucles pour la recherche séquentielle  | 2 | 4 | 8 | 16 | 32 | 64 | 128 | 256 |\n",
    "| Nombre de boucles pour la recherche dichotomique  | 1 | 2 | 3 | 4  | 5  | 6  | 7   | 8   |\n",
    "\n",
    "Pour trouver le nombre de boucles dans pour une recherche dichotomique on utilise le **logarithme en base 2** qui se note $log_2$\n",
    "\n",
    "<div class=\"alert alert-info\">\n",
    "\n",
    "Le coût temporel de l'algorithme de dichotomie est donc **logarithmique**.\n",
    "\n",
    "On note $T(n) = \\Theta(log_2(n))$.    \n",
    "</div>    \n"
   ]
  },
  {
   "cell_type": "code",
   "execution_count": null,
   "metadata": {},
   "outputs": [],
   "source": [
    "from math import log2\n",
    "\n",
    "print(f\"log2(8) = {log2(8)} car 8=2^3\")\n",
    "print(f\"log2(16) = {log2(16)} car 16=2^4\")"
   ]
  },
  {
   "cell_type": "markdown",
   "metadata": {},
   "source": [
    "Et pour une liste comportant un million de valeurs triées, dans le pire des cas combien de boucles sont nécessaires ?"
   ]
  },
  {
   "cell_type": "code",
   "execution_count": null,
   "metadata": {},
   "outputs": [],
   "source": [
    "log2(1000000)"
   ]
  },
  {
   "cell_type": "markdown",
   "metadata": {},
   "source": [
    "Eh oui, il suffit de faire boucler 20 fois dans le pire des cas.\n",
    "\n",
    "### Mesures et graphique"
   ]
  },
  {
   "cell_type": "code",
   "execution_count": null,
   "metadata": {
    "scrolled": true
   },
   "outputs": [],
   "source": [
    "import matplotlib.pyplot as plt\n",
    "from time import process_time\n",
    "from prettytable import PrettyTable\n",
    "from math import log2\n",
    "\n",
    "def mesure(n):\n",
    "    \"\"\"\n",
    "    Retourne le temps moyen (en ms) pour effectuer la recherche du dernier élément dans une liste triée de n éléments\n",
    "    \"\"\"\n",
    "    liste = create_mots(n, l=5)\n",
    "    somme = 0\n",
    "    nombre_essais = 10\n",
    "    for i in range(nombre_essais):\n",
    "        start = process_time()\n",
    "        search_value_dicho(liste[-1], liste)\n",
    "        end = process_time()\n",
    "        somme += end-start\n",
    "    return 1000000*somme/nombre_essais # on effectue la moyenne des temps en nanoseconde\n",
    "\n",
    "results = []\n",
    "for i in range(1, 20):\n",
    "    nombre = 2**i # on passe en puissance de 2\n",
    "    t = mesure(nombre)\n",
    "    results.append((nombre, t))\n",
    "\n",
    "    \n",
    "plt.figure(figsize=(12, 8))\n",
    "plt.xlabel(\"nombre d'éléments dans la liste\")\n",
    "plt.ylabel(\"durée (ns)\")\n",
    "x = [r[0] for r in results]\n",
    "y = [r[1] for r in results]\n",
    "plt.scatter(x, y, label='Mesures')\n",
    "# détermination des valeurs théoriques en se basant sur la dernière mesure\n",
    "max_log2 = log2(x[-1])\n",
    "max_releve = y[-1]\n",
    "y1 = [max_releve*log2(r[0])/max_log2 for r in results]\n",
    "plt.plot(x, y1, label='Courbe théorique')\n",
    "\n",
    "plt.legend()\n",
    "plt.title(\"Durée de recherche en fonction du nombre d'éléments\")\n",
    "plt.grid(True)\n",
    "plt.show()\n"
   ]
  },
  {
   "cell_type": "markdown",
   "metadata": {},
   "source": [
    "### Conclusion\n",
    "\n",
    "Nous avons vu que la recherche dichotomique d'un élément dans une liste triée est très efficace.\n",
    "\n",
    "Ce type d'algorithme qu'on appelle **'diviser pour régner'** peut être utilisé dans d'autres contextes comme\n",
    "\n",
    "- le tri d'un tableau ( [tri fusion](https://fr.wikipedia.org/wiki/Tri_fusion) et [tri rapide](https://fr.wikipedia.org/wiki/Tri_rapide) )\n",
    "- La multiplication de grands nombres ([Algorithme de Karatsuba](https://fr.wikipedia.org/wiki/Algorithme_de_Karatsuba))\n",
    "- Rechercher les [deux points les plus rapprochés](https://fr.wikipedia.org/wiki/Recherche_des_deux_points_les_plus_rapproch%C3%A9s)\n",
    "- ..."
   ]
  },
  {
   "cell_type": "markdown",
   "metadata": {},
   "source": [
    "### Autres ressources\n",
    "\n",
    "- [Vidéo de l'école Saint Exupéry de Nantes](https://www.youtube.com/watch?v=JdwWMnU04pQ)"
   ]
  },
  {
   "cell_type": "markdown",
   "metadata": {},
   "source": [
    "[Retour au sommaire](../index.ipynb)"
   ]
  }
 ],
 "metadata": {
  "kernelspec": {
   "display_name": "Python 3 (ipykernel)",
   "language": "python",
   "name": "python3"
  },
  "language_info": {
   "codemirror_mode": {
    "name": "ipython",
    "version": 3
   },
   "file_extension": ".py",
   "mimetype": "text/x-python",
   "name": "python",
   "nbconvert_exporter": "python",
   "pygments_lexer": "ipython3",
   "version": "3.12.3"
  }
 },
 "nbformat": 4,
 "nbformat_minor": 4
}
