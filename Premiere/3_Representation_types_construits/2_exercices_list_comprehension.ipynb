{
 "cells": [
  {
   "cell_type": "markdown",
   "id": "9f80210e-51da-4ead-b992-acd0ec33057b",
   "metadata": {},
   "source": [
    "[Accueil](../../index.ipynb) > [Sommaire Première](../index.ipynb) > [Les tableaux](2_tableaux_indexes.ipynb)"
   ]
  },
  {
   "cell_type": "markdown",
   "id": "9b89f484-7253-4b33-a5fc-2c7997494833",
   "metadata": {},
   "source": [
    "# Exercices sur les listes par compréhension"
   ]
  },
  {
   "cell_type": "markdown",
   "id": "8558f201-64e4-4970-8680-29d07c03d3e0",
   "metadata": {},
   "source": [
    "<span id=\"Syntaxe_basique\"></span>\n",
    "## Syntaxe basique\n",
    "\n",
    "Voir [le cours sur la syntaxe basique](2_tableaux_indexes.ipynb#comprehension_list) d'une liste par compréhension."
   ]
  },
  {
   "cell_type": "markdown",
   "id": "ec164b97-91eb-46b8-9173-1fae40fdd8a8",
   "metadata": {},
   "source": [
    "\n",
    "### Exercice A1\n",
    "<div id=\"a1\"></div>\n",
    "\n",
    "Ecrire une fonction qui ajoute *n* à chaque nombre d'une liste de nombres.\n",
    "\n",
    "- Ecrire la fonction *ajoute_n(liste_nombres)* de façon \"traditionnelle\";\n",
    "- Ecrire cette même fonction en utilisant les listes par compréhension."
   ]
  },
  {
   "cell_type": "code",
   "execution_count": null,
   "id": "fa8255da-3988-44d6-8fda-2e068058a186",
   "metadata": {},
   "outputs": [],
   "source": [
    "def ajoute_n(liste_nombres:list[int], n:int)->list[int]:\n",
    "    \"\"\"\n",
    "    liste_nombres : Une liste de nombres (\n",
    "    n (int) : le nombre à ajouter\n",
    "    retourne cette même liste de nombres avec chaque nombre + n\n",
    "    \"\"\"\n",
    "    raise NotImplementedError(f\"Fonction {ajoute_n.__name__} à implémenter.\")\n",
    "\n",
    "\n",
    "nombres = [2, 3, 4, -8, -4, -2, 5, -9]\n",
    "result = ajoute_n(nombres, 10)\n",
    "expected = [12, 13, 14, 2, 6, 8, 15, 1]\n",
    "assert result == expected, f\"Le résultat aurait dû être {expected} mais vaut {result}\"\n",
    "\n",
    "autres_nombres = [10, -10, 20, -1]\n",
    "result = ajoute_n(autres_nombres, -1)\n",
    "expected = [9, -11, 19, -2]\n",
    "assert result == expected, f\"Le résultat aurait dû être {expected} mais vaut {result}\""
   ]
  },
  {
   "cell_type": "markdown",
   "id": "f817243a-8b1d-47c5-9c0c-2aa834f15415",
   "metadata": {},
   "source": [
    "Maintenant avec une *list comprehension*."
   ]
  },
  {
   "cell_type": "code",
   "execution_count": null,
   "id": "d873604a-0226-4d52-8140-616d49323e7c",
   "metadata": {},
   "outputs": [],
   "source": [
    "def ajoute_n(liste_nombres, n):\n",
    "    \"\"\"\n",
    "    liste_nombres : Une liste de nombres\n",
    "    n (int/float) : le nombre à ajouter\n",
    "    retourne cette même liste de nombres avec chaque nombre + n\n",
    "    \"\"\"\n",
    "    raise NotImplementedError(f\"Fonction {ajoute_n.__name__} à implémenter.\")\n",
    "\n",
    "\n",
    "nombres = [2, 3, 4, -8, -4, -2, 5, -9]\n",
    "result = ajoute_n(nombres, 10)\n",
    "expected = [12, 13, 14, 2, 6, 8, 15, 1]\n",
    "assert result == expected, f\"Le résultat aurait dû être {expected} mais vaut {result}\"\n",
    "\n",
    "autres_nombres = [10, -10, 20, -0.5]\n",
    "result = ajoute_n(autres_nombres, -1)\n",
    "expected = [9, -11, 19, -1.5]\n",
    "assert result == expected, f\"Le résultat aurait dû être {expected} mais vaut {result}\""
   ]
  },
  {
   "cell_type": "markdown",
   "id": "c3783e38-99d4-473c-91c5-b03e27cd19d7",
   "metadata": {},
   "source": [
    "### Exercice A2\n",
    "\n",
    "Retourner une liste de  0 à n tuples, chaque tuple contenant un nombre et son carré : \n",
    "\n",
    "```\n",
    "[(0, 0),\n",
    " (1, 1),\n",
    " (2, 4),\n",
    " (3, 9),\n",
    " (4, 16),\n",
    " ...,\n",
    " (n, n**2)\n",
    "]\n",
    "```\n",
    "en utilisant la méthode traditionnelle et les listes par compréhension."
   ]
  },
  {
   "cell_type": "code",
   "execution_count": null,
   "id": "31e8ecf8-00d2-4f9b-869f-113eeb2f8b91",
   "metadata": {},
   "outputs": [],
   "source": [
    "def liste_nombre_et_carre(n:int)->list[(int, int)]:\n",
    "    \"\"\"\n",
    "    n : un entier positif ou nul\n",
    "    retourne une liste de tuple dont le premier élément est le nombre, le deuxième son carré.\n",
    "    \"\"\"\n",
    "    raise NotImplementedError(f\"Fonction {liste_nombre_et_carre.__name__} à implémenter.\")\n",
    "\n",
    "result = liste_nombre_et_carre(5)\n",
    "expected = [(0, 0), (1, 1), (2, 4), (3, 9), (4, 16), (5, 25)]\n",
    "assert result == expected, f\"Le résultat aurait dû être {expected} mais vaut {result}\"\n",
    "\n",
    "result = liste_nombre_et_carre(8)\n",
    "expected = [(0, 0), (1, 1), (2, 4), (3, 9), (4, 16), (5, 25), (6, 36), (7, 49), (8, 64)]\n",
    "assert result == expected, f\"Le résultat aurait dû être {expected} mais vaut {result}\"\n"
   ]
  },
  {
   "cell_type": "markdown",
   "id": "f363cf3d-4d1e-46c8-85c5-e60283918741",
   "metadata": {},
   "source": [
    "Maintenant avec une *list comprehension*."
   ]
  },
  {
   "cell_type": "code",
   "execution_count": null,
   "id": "074164e6-cd30-4e9e-8883-cdd60ba90f81",
   "metadata": {},
   "outputs": [],
   "source": [
    "def liste_nombre_et_carre(n:int)->list[tuple[int, int]]:\n",
    "    \"\"\"\n",
    "    n : un entier positif ou nul\n",
    "    retourne une liste de tuple dont le premier élément est le nombre, le deuxième son carré.\n",
    "    \"\"\"\n",
    "    raise NotImplementedError(f\"Fonction {liste_nombre_et_carre.__name__} à implémenter\")\n",
    "\n",
    "result = liste_nombre_et_carre(5)\n",
    "expected = [(0, 0), (1, 1), (2, 4), (3, 9), (4, 16), (5, 25)]\n",
    "assert result == expected, f\"Le résultat aurait dû être {expected} mais vaut {result}\"\n",
    "\n",
    "result = liste_nombre_et_carre(8)\n",
    "expected = [(0, 0), (1, 1), (2, 4), (3, 9), (4, 16), (5, 25), (6, 36), (7, 49), (8, 64)]\n",
    "assert result == expected, f\"Le résultat aurait dû être {expected} mais vaut {result}\""
   ]
  },
  {
   "cell_type": "markdown",
   "id": "c8b7a95e-6ea3-4d3b-b05d-5d3bbc5932c3",
   "metadata": {},
   "source": [
    "### Exercice A3\n",
    "\n",
    "Ecrire la fonction *trace* qui calcule la trace d'une matrice carrée."
   ]
  },
  {
   "cell_type": "code",
   "execution_count": null,
   "id": "ff2cca87-e07a-4117-a214-6c9c4d01b6d4",
   "metadata": {},
   "outputs": [],
   "source": [
    "\n",
    "def trace(matrix:list[list[int]])->int:\n",
    "    \"\"\"\n",
    "    Retourne la trace de la matrice (la somme des nombres de la diagonale)\n",
    "    \"\"\"\n",
    "    raise NotImplementedError(f\"Fonction {trace.__name__} à implémenter\")\n",
    "    \n",
    "# ----------- premier test -----------\n",
    "matrice1 =[\n",
    "    [1, 2, 3, 4],\n",
    "    [5, 6, 7, 8],\n",
    "    [0, 2, 4, 8],\n",
    "    [1, 3, 5, 7]\n",
    "]\n",
    "    \n",
    "result = trace(matrice1)\n",
    "expected = 1+6+4+7\n",
    "assert result == expected, f\"Le résultat aurait dû être {expected} mais vaut {result}.\"\n",
    "\n",
    "# ----------- deuxième test -----------\n",
    "matrice2 =[\n",
    "    [1, 2, 3],\n",
    "    [1, 3, 5],\n",
    "    [2, 4, 9]\n",
    "]\n",
    "\n",
    "result = trace(matrice2)\n",
    "expected = 1+3+9\n",
    "assert result == expected, f\"Le résultat aurait dû être {expected} mais vaut {result}.\"\n"
   ]
  },
  {
   "cell_type": "markdown",
   "id": "bfc73f3d-3382-4453-9107-62e818af56d1",
   "metadata": {},
   "source": [
    "<span id=\"Syntaxe_avec_condition\"></span>\n",
    "## Syntaxe avec condition\n",
    "\n",
    "Voir [le cours sur la syntaxe avec condition](2_tableaux_indexes.ipynb#Syntaxe_avec_condition) d'une liste par compréhension."
   ]
  },
  {
   "cell_type": "markdown",
   "id": "1e07734e-6e22-4aab-8d28-8858641fcffd",
   "metadata": {},
   "source": [
    "### Exercice B1\n",
    "\n",
    "Retourner la liste des nombres positifs parmi une liste de nombres."
   ]
  },
  {
   "cell_type": "code",
   "execution_count": null,
   "id": "c29ae877-8ec9-4468-8310-3bf64504bcae",
   "metadata": {},
   "outputs": [],
   "source": [
    "def positive_numbers(numbers:list[int])->list[int]:\n",
    "    \"\"\"\n",
    "    numbers (list) : une liste de nombres\n",
    "    Retourne les nombres strictement positifs parmi numbers\n",
    "    \"\"\"\n",
    "    raise NotImplementedError(f\"Fonction {positive_numbers.__name__} à implémenter\")\n",
    "\n",
    "nombres = [-1, 2, 6, -5, 0, 1.5, -2.5, 3, -9]\n",
    "result = positive_numbers(nombres)\n",
    "expected = [2, 6, 1.5, 3]\n",
    "assert result == expected, f\"Le résultat aurait dû être {expected} mais vaut {result}.\""
   ]
  },
  {
   "cell_type": "markdown",
   "id": "8d9d4068-dc34-4f8a-9120-2a985c1f1a67",
   "metadata": {},
   "source": [
    "### Exercice B2\n",
    "\n",
    "Retourner une phrase sans ses voyelles.\n",
    "Vous utiliserez la fonction join()"
   ]
  },
  {
   "cell_type": "code",
   "execution_count": null,
   "id": "91ba82c8-27c5-48a9-951d-4f4999f5295b",
   "metadata": {},
   "outputs": [],
   "source": [
    "'?'.join(['a','b','1','2'])"
   ]
  },
  {
   "cell_type": "code",
   "execution_count": null,
   "id": "40caa621-46a8-485c-a808-e60a4d6ed818",
   "metadata": {},
   "outputs": [],
   "source": [
    "''.join(['a','b','1','2'])"
   ]
  },
  {
   "cell_type": "code",
   "execution_count": null,
   "id": "1181895f-4820-42c3-90f3-d8eda584e1e2",
   "metadata": {},
   "outputs": [],
   "source": [
    "def sentence_without_vowels(sentence:str)->str:\n",
    "    \"\"\"\n",
    "    Retourne la phrase sans ses voyelles.\n",
    "    \"\"\"\n",
    "    vowels = 'aeiouy'\n",
    "    raise NotImplementedError(f\"Fonction {sentence_without_vowels.__name__} à implémenter\")\n",
    "\n",
    "phrase = 'Lists comprehension are GOOD for your mental health.'\n",
    "result = sentence_without_vowels(phrase)\n",
    "expected = \"Lsts cmprhnsn r GOOD fr r mntl hlth.\"\n",
    "assert result == expected, f'Le résultat aurait dû être \"{expected}\" mais vaut \"{result}\".'"
   ]
  },
  {
   "cell_type": "markdown",
   "id": "6bfcde69-da21-450e-b56c-c594f0f6ef29",
   "metadata": {},
   "source": [
    "### Exercice B3\n",
    "\n",
    "1. Créer la fonction *mots_capitale* qui créer une liste de mots avec une majuscule au début ( utiliser la fonction *title()* sur une string)\n",
    "2. Créer la fonction *mots_sup_5* qui contient les mots qui ont plus que 5 caractères\n",
    "3. Créer la fonction *nb_letters* qui contient le nombre de lettres de chaque mot : \\[6, 4, ...\\]\n",
    "4. Créer la fonction *mots_inverses* qui retourne la liste des mots inversés : \\['1tom','2tom', ...\\]"
   ]
  },
  {
   "cell_type": "code",
   "execution_count": null,
   "id": "2350d1f1-1190-46c3-95c4-55d87c16cd86",
   "metadata": {},
   "outputs": [],
   "source": [
    "# vous pourrez tester vos fonctions avec, par exemple, ces mots.\n",
    "fruits = ['mangue', 'kiwi', 'framboise', 'fraise', 'ananas', 'mandarine', 'banane', 'pomme', 'poire']"
   ]
  },
  {
   "cell_type": "code",
   "execution_count": null,
   "id": "cd26ae09-9cd0-4ed3-87a9-cf74a5a4568e",
   "metadata": {},
   "outputs": [],
   "source": [
    "# a vous de coder"
   ]
  },
  {
   "cell_type": "markdown",
   "id": "2c42ca0c-d2ed-4659-962b-5d52715c76cc",
   "metadata": {},
   "source": [
    "[Accueil](../../index.ipynb) > [Sommaire Première](../index.ipynb) > [Les tableaux](2_tableaux_indexes.ipynb)"
   ]
  }
 ],
 "metadata": {
  "kernelspec": {
   "display_name": "Python 3 (ipykernel)",
   "language": "python",
   "name": "python3"
  },
  "language_info": {
   "codemirror_mode": {
    "name": "ipython",
    "version": 3
   },
   "file_extension": ".py",
   "mimetype": "text/x-python",
   "name": "python",
   "nbconvert_exporter": "python",
   "pygments_lexer": "ipython3",
   "version": "3.12.3"
  }
 },
 "nbformat": 4,
 "nbformat_minor": 5
}
