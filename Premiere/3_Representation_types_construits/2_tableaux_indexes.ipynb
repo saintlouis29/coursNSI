{
 "cells": [
  {
   "cell_type": "markdown",
   "metadata": {},
   "source": [
    "[Accueil](../../index.ipynb) > [Sommaire Première](../index.ipynb)"
   ]
  },
  {
   "cell_type": "markdown",
   "metadata": {},
   "source": [
    "# 3.2 Types constuits : les tableaux\n",
    "\n",
    "A l’instar des tuples, les tableaux sont des **collections ordonnées** d’éléments, la différence notable est qu’ils sont **mutables** : on peut **modifier** le contenu mais également **ajouter** ou **supprimer** des éléments du tableau.\n",
    "\n",
    "Dans le langage informatique :\n",
    "\n",
    "- un **tableau** (array en anglais) est une collection ordonnée d'éléments **de même type**.\n",
    "- une **liste** (list en anglais) est une collection ordonnée d'éléments **pouvant être de types différents**.\n",
    "\n",
    "<div class=\"alert alert-info\">En Python le type construit le plus couramment employé est la liste. Il existe également un type <a href=\"https://docs.python.org/3/library/array.html\">tableau</a> mais que nous n'utiliserons pas dans ce cours.</div>\n",
    "\n",
    "<div class=\"alert alert-info\">Dans la suite du cours, j'emploierai parfois le terme <i>tableau</i>, parfois <i>liste</i>.</div>"
   ]
  },
  {
   "cell_type": "markdown",
   "metadata": {},
   "source": [
    "## Points communs avec les tuples\n",
    "\n",
    "Les tableaux partagent beaucoup de points communs avec les tuples :\n",
    "\n",
    "- On accède aux éléments par index;\n",
    "- les slices fonctionnent de la même manière;\n",
    "- les fonctions min, max, len, sum... peuvent être appliquées sur un tableau;\n",
    "- les opérateurs + et * fonctionnent également;\n",
    "- on peut boucler sur un tableau avec le 'for'."
   ]
  },
  {
   "cell_type": "markdown",
   "metadata": {},
   "source": [
    "## Création d'un tableau\n",
    "\n",
    "Les tableaux peuvent s'instancier comme les tuples à la différence qu'on utilise des \\[ \\] et non des ( )."
   ]
  },
  {
   "cell_type": "code",
   "execution_count": null,
   "metadata": {},
   "outputs": [],
   "source": [
    "mon_tableau_vide = []  # création d'un tableau vide\n",
    "type(mon_tableau_vide) # Python va afficher que le type est 'List'"
   ]
  },
  {
   "cell_type": "code",
   "execution_count": null,
   "metadata": {},
   "outputs": [],
   "source": [
    "mon_tableau1 = ['Fiml', 'La vie de Brian', 'Terry Jones'] # création d'un tableau 'à la main'\n",
    "mon_tableau1[0]"
   ]
  },
  {
   "cell_type": "code",
   "execution_count": null,
   "metadata": {},
   "outputs": [],
   "source": [
    "mon_tableau1[0] = 'Film' # je peux modifier le contenu\n",
    "mon_tableau1"
   ]
  },
  {
   "cell_type": "code",
   "execution_count": null,
   "metadata": {},
   "outputs": [],
   "source": [
    "t = ['Ni! ']*10\n",
    "t"
   ]
  },
  {
   "cell_type": "code",
   "execution_count": null,
   "metadata": {},
   "outputs": [],
   "source": [
    "t1 = ['a', 'b', 'c']\n",
    "t1 + ['d'] # addition de 2 tableaux"
   ]
  },
  {
   "cell_type": "markdown",
   "metadata": {},
   "source": [
    "## remplissage d'un tableau\n",
    "Contrairement aux tuples les tableaux sont mutables. On peut, par exemple, ajouter des éléments."
   ]
  },
  {
   "cell_type": "code",
   "execution_count": null,
   "metadata": {},
   "outputs": [],
   "source": [
    "lettres = []  # création d'un tableau vide\n",
    "ma_chaine = 'Ministry of silly walks' #voir vidéo sur https://www.dailymotion.com/video/xmbzbq\n",
    "for letter in ma_chaine.lower(): # je boucle sur chaque lettre de ma_chaine passée en minuscule\n",
    "    if letter not in lettres:    # si la lettre n'est pas présente dans mon tableau\n",
    "        lettres.append(letter)   # je l'ajoute\n",
    "\n",
    "lettres"
   ]
  },
  {
   "cell_type": "markdown",
   "metadata": {},
   "source": [
    "## Modification d'une liste\n",
    "\n",
    "Contrairement aux tuples, les listes sont **mutables**, elles possèdent donc beaucoup plus de **méthodes** (fonctions)\n",
    "\n",
    "<div class=\"alert alert-info\">Pour connaitre les méthodes d'un objet, on utilise le builtin dir().</div>"
   ]
  },
  {
   "cell_type": "code",
   "execution_count": null,
   "metadata": {},
   "outputs": [],
   "source": [
    "l = ['un','deux', 'trois']\n",
    "dir(l)"
   ]
  },
  {
   "cell_type": "markdown",
   "metadata": {},
   "source": [
    "Ne tenir compte que des méthodes qui ne commencent pas par '__'"
   ]
  },
  {
   "cell_type": "code",
   "execution_count": null,
   "metadata": {},
   "outputs": [],
   "source": [
    "[m for m in dir(l) if not m.startswith('__')] # voici une liste par comprehension, nous verrons cela un peu plus bas dans ce chapitre."
   ]
  },
  {
   "cell_type": "markdown",
   "metadata": {},
   "source": [
    "<div class=\"alert alert-info\">Pour lire la documentation d’une méthode:</div>"
   ]
  },
  {
   "cell_type": "code",
   "execution_count": null,
   "metadata": {},
   "outputs": [],
   "source": [
    "print(l.pop.__doc__)"
   ]
  },
  {
   "cell_type": "markdown",
   "metadata": {},
   "source": [
    "**A faire**\n",
    "\n",
    "Entraînez vous à comprendre le fonctionnement des méthodes suivantes:\n",
    "\n",
    "- append\n",
    "- count\n",
    "- extend\n",
    "- insert\n",
    "- pop\n",
    "- remove\n",
    "- sort"
   ]
  },
  {
   "cell_type": "markdown",
   "metadata": {},
   "source": [
    "## Des tableaux de tableaux\n",
    "\n",
    "Les tableaux peuvent contenir tous les types simples possibles (int, float, string, boolean) mais également des tableaux ou des tuples."
   ]
  },
  {
   "cell_type": "code",
   "execution_count": null,
   "metadata": {},
   "outputs": [],
   "source": [
    "exemple = [[2, 4, 5, \"Bonjour\"],\n",
    "           [6, 8, -1, \"Allo\"],\n",
    "           [8, 5, 1, \"Truc\"],\n",
    "           ]"
   ]
  },
  {
   "cell_type": "markdown",
   "metadata": {},
   "source": [
    "## Exercices\n",
    "\n",
    "Des [exercices sur les listes](2_exercices_list.ipynb)."
   ]
  },
  {
   "cell_type": "markdown",
   "metadata": {},
   "source": [
    "<div id=\"comprehension_list\"></div>\n",
    "\n",
    "## Tableaux construits par compréhension\n",
    "\n",
    "Il existe une manière beaucoup plus compacte de créer des tableaux : par **compréhension**.\n",
    "\n",
    "On dénomme cette technique une **liste par compréhension**. (*comprehension list*).\n",
    "\n",
    "<div class = \"alert alert-info\">Les listes par compréhension peuvent être utilisées lorsque qu'on veut <b>créer une nouvelle liste à partir d'un itérable</b> (liste, tuple, string, range...).</div>\n",
    "\n",
    "### Avantages par rapport à une boucle\n",
    "\n",
    "- exécution plus rapide;\n",
    "- exécution nécéssitant moins de mémoire;\n",
    "- code plus compact;\n",
    "- une fois habitué, permet de lire et d'écrire plus facilement ce que l'on désire comme transformation."
   ]
  },
  {
   "cell_type": "markdown",
   "metadata": {},
   "source": [
    "<span id=\"Syntaxe_basique\"></span>\n",
    "### Syntaxe basique\n",
    "<code>nouvelle_liste = [expression(element) for element in iterable]</code>\n",
    "\n",
    "### Un premier exemple basique\n",
    "\n",
    "Donner la liste des 10 premiers carrés.\n",
    "\n",
    "En utilisant la notation \"traditionnelle\", cela donnerait:"
   ]
  },
  {
   "cell_type": "code",
   "execution_count": null,
   "metadata": {},
   "outputs": [],
   "source": [
    "def premiers_carres(n:int)->list[int]:\n",
    "    \"\"\"\n",
    "    n (integer) : un nombre entier positif\n",
    "    retourne la liste des n premiers carrés\n",
    "    \"\"\"\n",
    "    result = []                # on initialise une liste vide pour le résultat\n",
    "    for n in range(n):         # on boucle sur les n premiers nombres\n",
    "        result.append(n**2)    # on ajoute le carré à la liste\n",
    "    return result              # on retourne la liste\n",
    "\n",
    "premiers_carres(10)"
   ]
  },
  {
   "cell_type": "markdown",
   "metadata": {},
   "source": [
    "Cette fonction peut s'écrire de façon plus compacte:"
   ]
  },
  {
   "cell_type": "code",
   "execution_count": null,
   "metadata": {},
   "outputs": [],
   "source": [
    "def premiers_carres(n):\n",
    "    \"\"\"\n",
    "    n (integer) : un nombre entier positif\n",
    "    retourne la liste des n premiers carrés\n",
    "    \"\"\"\n",
    "    return [v**2 for v in range(n)]\n",
    "premiers_carres(10)"
   ]
  },
  {
   "cell_type": "markdown",
   "metadata": {},
   "source": [
    "<span id=\"Syntaxe_avec_condition\"></span>\n",
    "\n",
    "### Syntaxe avec condition\n",
    "\n",
    "Il y a possibilité d'ajouter **une condition**. La syntaxe est la suivante:\n",
    "\n",
    "![](img/list-comprehension.png)\n",
    "\n",
    "<code>nouvelle_liste = [expression(element) for element in iterable <b>if condition</b>]</code>\n",
    "\n",
    "Cette fonctionnalité est importante si vous désirez **filtrer des valeurs indésirables**.\n",
    "\n",
    "**Exemple**:\n",
    "\n",
    "Voici, ci-dessous, une liste de prénoms. Créer la liste des prénoms, en **majuscules** (transformation) , qui ont **4 lettres ou moins** (filtre)."
   ]
  },
  {
   "cell_type": "code",
   "execution_count": null,
   "metadata": {},
   "outputs": [],
   "source": [
    "prenoms = ['Zoé', 'Lucas', 'Yves', 'Arthur', 'Christelle', 'Bob'] # La liste d'origine\n",
    "prenoms_courts = [p.upper() for p in prenoms if len(p) <= 4]      # Création de la nouvelle liste\n",
    "prenoms_courts"
   ]
  },
  {
   "cell_type": "markdown",
   "metadata": {},
   "source": [
    "Voici l'équivalent avec une **boucle for**."
   ]
  },
  {
   "cell_type": "code",
   "execution_count": null,
   "metadata": {},
   "outputs": [],
   "source": [
    "prenoms = ['Zoé', 'Lucas', 'Yves', 'Arthur', 'Christelle', 'Bob'] # La liste d'origine\n",
    "prenoms_courts = []\n",
    "for p in prenoms:\n",
    "    if len(p) <= 4:\n",
    "        prenoms_courts.append(p.upper())\n",
    "prenoms_courts"
   ]
  },
  {
   "cell_type": "markdown",
   "metadata": {},
   "source": [
    "**Remarque:**\n",
    "\n",
    "Si le filtre est long à écrire, on peut le 'déporter' dans une **fonction** afin d'améliorer la lisibilité. Il faut que la fonction retourne un booléen. (Vrai ou Faux)"
   ]
  },
  {
   "cell_type": "code",
   "execution_count": null,
   "metadata": {},
   "outputs": [],
   "source": [
    "prenoms = ['Zoé', 'Lucas', 'Yves', 'Arthur', 'Christelle', 'Bob'] # La liste d'origine\n",
    "\n",
    "def is_prenom_court(un_prenom):\n",
    "    \"\"\"On pourrait imaginer que cette fonction nécessite 100 lignes de code\"\"\"\n",
    "    return len(un_prenom) <= 4\n",
    "    \n",
    "prenoms_courts = [p.upper() for p in prenoms if is_prenom_court(p)]\n",
    "prenoms_courts"
   ]
  },
  {
   "cell_type": "markdown",
   "metadata": {},
   "source": [
    "### Exercices\n",
    "\n",
    "Voici des exercices sur les listes par compréhension:\n",
    "\n",
    "- Des [exercices sur les listes par compréhension **sans** condition](2_exercices_list_comprehension.ipynb#Syntaxe_basique).\n",
    "- Des [exercices sur les listes par compréhension **avec** condition](2_exercices_list_comprehension.ipynb#Syntaxe_avec_condition)."
   ]
  },
  {
   "cell_type": "markdown",
   "metadata": {},
   "source": [
    "### Pour aller plus loin\n",
    "\n",
    "#### Double boucle\n",
    "\n",
    "Il est possible d'utiliser une double boucle."
   ]
  },
  {
   "cell_type": "code",
   "execution_count": null,
   "metadata": {},
   "outputs": [],
   "source": [
    "prenoms = [\"marie\", \"pierre\", \"jean\", \"édouard\"]\n",
    "\n",
    "[\"-\".join([x.title(), y.title()]) for x in prenoms for y in prenoms if x != y]"
   ]
  },
  {
   "cell_type": "markdown",
   "metadata": {},
   "source": [
    "Cette ligne de code est équivalente à ceci:"
   ]
  },
  {
   "cell_type": "code",
   "execution_count": null,
   "metadata": {},
   "outputs": [],
   "source": [
    "prenoms = [\"marie\", \"pierre\", \"jean\", \"édouard\"]\n",
    "\n",
    "prenoms_composes = []\n",
    "for p1 in prenoms:\n",
    "    for p2 in prenoms:\n",
    "        if p1 != p2:\n",
    "            prenoms_composes.append('-'.join([p1.title(), p2.title()]))\n",
    "\n",
    "\n",
    "\n",
    "prenoms_composes"
   ]
  },
  {
   "cell_type": "markdown",
   "metadata": {},
   "source": [
    "#### listes par compréhension imbriquées\n",
    "\n",
    "Il est évidemment possible d'insérer une liste par compréhension dans une liste par compréhension..."
   ]
  },
  {
   "cell_type": "code",
   "execution_count": null,
   "metadata": {},
   "outputs": [],
   "source": [
    "# voici une liste de listes (de longueurs variables)\n",
    "\n",
    "ma_liste = [[1, 2, 3],\n",
    "            [0, -2],\n",
    "            [0, 2, 4, 8],\n",
    "            [-2, 8, 10, 16, -8],\n",
    "            [-7]]\n",
    "\n",
    "# on veut retourner cette même liste avec chaque nombre au carré si ce nombre est pair\n",
    "\n",
    "[[x**2 for x in sublist if x%2 == 0] for sublist in ma_liste]"
   ]
  },
  {
   "cell_type": "markdown",
   "metadata": {},
   "source": [
    "## TP Stéganographie\n",
    "\n",
    "Maintenant que nous savons utiliser les éléments essentiels de Python (condition, boucle, tableau....) il est temps de faire le [TP Stéganographie](../TPs/Steganographie.ipynb)"
   ]
  },
  {
   "cell_type": "markdown",
   "metadata": {},
   "source": [
    "[Accueil](../../index.ipynb) > [Sommaire Première](../index.ipynb)"
   ]
  }
 ],
 "metadata": {
  "kernelspec": {
   "display_name": "Python 3 (ipykernel)",
   "language": "python",
   "name": "python3"
  },
  "language_info": {
   "codemirror_mode": {
    "name": "ipython",
    "version": 3
   },
   "file_extension": ".py",
   "mimetype": "text/x-python",
   "name": "python",
   "nbconvert_exporter": "python",
   "pygments_lexer": "ipython3",
   "version": "3.12.3"
  }
 },
 "nbformat": 4,
 "nbformat_minor": 4
}
