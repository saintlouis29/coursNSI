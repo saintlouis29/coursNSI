{
 "cells": [
  {
   "cell_type": "markdown",
   "id": "727b8de2-fd69-4fb3-8ea5-60c3a2f38a52",
   "metadata": {},
   "source": [
    "[Accueil](../../index.ipynb) > [Sommaire Première](../index.ipynb) > [Les tableaux](2_tableaux_indexes.ipynb)"
   ]
  },
  {
   "cell_type": "markdown",
   "id": "9c25caf6-8625-444c-8e11-a4eebec4b10e",
   "metadata": {},
   "source": [
    "# La suite de Conway\n",
    "\n",
    "Connaissez vous cette suite de nombres?\n",
    "\n",
    "- 1\n",
    "- 11\n",
    "- 21\n",
    "- 1211\n",
    "- 111221\n",
    "- 312212\n",
    "- 1311221112\n",
    "- ...\n",
    "\n",
    "Cette suite est plus compréhensible lorsqu'on écrit le terme suivant en **lisant le terme courant**:\n",
    "\n",
    "- 1\n",
    "- 11 (un 1)\n",
    "- 21 (deux 1)\n",
    "- 1211 (un 2, deux 1)\n",
    "- 111221 (trois 1, deux 2, un 1)\n",
    "- 312212 (1 trois, un 1, deux 2, un 1, un 2)\n",
    "- 1311221112 (1 trois, deux 1, deux 2, trois 1, un 2)\n",
    "- ...\n",
    "- \n",
    " ![](https://upload.wikimedia.org/wikipedia/commons/9/9f/Fonction_Conway.png)\n",
    "\n",
    "Article Wikipedia sur [la suite de Conway](https://fr.wikipedia.org/wiki/Suite_de_Conway).\n",
    "\n",
    "Nous allons utiliser les listes pour cette suite:\n",
    "\n",
    "- LIGNE_0 = \\[1]\n",
    "- LIGNE_1 = \\[1, 1]\n",
    "- LIGNE_2 = \\[2, 1]\n",
    "- LIGNE_3 = \\[1, 2, 1, 1]\n",
    "- LIGNE_4 = \\[1, 1, 1, 2, 2, 1]\n",
    "- LIGNE_5 = \\[3, 1, 2, 2, 1, 1]\n",
    "- LIGNE_6 = \\[1, 3, 1, 1, 2, 2, 2, 1]\n",
    "\n",
    "Compléter une première fonction *next_line* qui prend en paramètre une liste de nombres et retourne la liste suivante de la suite de Conway."
   ]
  },
  {
   "cell_type": "code",
   "execution_count": null,
   "id": "86eeb393-43d8-42a4-823a-1540ad872300",
   "metadata": {},
   "outputs": [],
   "source": [
    "def next_line(line:list[int])->list[int]:\n",
    "    previous = ...\n",
    "    counter = ...\n",
    "    result = ...\n",
    "    for numeral in line:\n",
    "        if numeral == previous:\n",
    "            counter += ...\n",
    "        else:\n",
    "            result.append(...)\n",
    "            result.append(...)\n",
    "            previous = ...\n",
    "            counter = 1\n",
    "    # En fin de boucle on ajoute les résultats obtenus lors de la dernière itération\n",
    "    result.append(...)\n",
    "    result.append(...)\n",
    "    return result\n",
    "# ------------------------------------------------------------\n",
    "# les tests\n",
    "# ------------------------------------------------------------\n",
    "\n",
    "for une_liste, expected in (([1], [1, 1]), \n",
    "                            ([1, 1], [2, 1]),\n",
    "                            ([3, 1, 2, 2, 1, 1], [1, 3, 1, 1, 2, 2, 2, 1]),\n",
    "                            ([1, 3, 1, 1, 2, 2, 2, 1],[1, 1, 1, 3, 2, 1, 3, 2, 1, 1])\n",
    "                           ):\n",
    "    result = next_line(une_liste)\n",
    "    assert expected == result, f\"La ligne qui suit {une_liste} aurait dû être {expected} mais retourne {result}.\""
   ]
  },
  {
   "cell_type": "markdown",
   "id": "6a18c250-7df8-4425-ba39-66f0a2f548f4",
   "metadata": {},
   "source": [
    "Ecrire la fonction *conway(n:int)->int* qui retourne le nombre correspondant à la valeur du nième terme.\n",
    "\n",
    "Vous pouvez utilisez cette solution :\n",
    "- une liste par compréhension pour convertir la liste de nombre en liste de string.\n",
    "- la fonction *join* afin de joindre les chaines de caractères\n",
    "- un transtypage en entier afin de retourner un nombre\n",
    "\n",
    "Ou celle ci:\n",
    "\n",
    "$[1, 1, 1, 2, 2, 1] => 1 \\times 10^5 + 1 \\times 10^4 + 1 \\times 10^3 + 2 \\times 10^2+ 2 \\times 10^1 + 1 \\times 10^0$     "
   ]
  },
  {
   "cell_type": "code",
   "execution_count": null,
   "id": "c85126c9-b100-41c2-bcca-65ab79720e8f",
   "metadata": {},
   "outputs": [],
   "source": [
    "def conway(n:int)->int:\n",
    "    \"\"\"\n",
    "    \"\"\"\n",
    "    current = [1]\n",
    "    for i in range(n):\n",
    "        current = next_line(current)\n",
    "    return ...\n",
    "\n",
    "# ------------------------------------------------------------\n",
    "# les tests\n",
    "# ------------------------------------------------------------\n",
    "\n",
    "for n, expected in ((0, 1),\n",
    "                    (1, 11),\n",
    "                    (6, 13112221),\n",
    "                    (15, 132113213221133112132113311211131221121321131211132221123113112221131112311332111213211322211312113211),\n",
    "                   ):\n",
    "    result = conway(n)\n",
    "    assert expected == result, f\"Le resultat de conway({n}) aurait du être {expected} mais retourne {result}.\"\n",
    "\n",
    "# ------------------------------------------------------------\n",
    "# On affiche les premiers résultats\n",
    "# ------------------------------------------------------------\n",
    "\n",
    "for i in range(17):\n",
    "    print(f\"{i} -> {conway(i)}\")"
   ]
  },
  {
   "cell_type": "markdown",
   "id": "7fcd1007-f2ed-4be2-9742-2430ae852dad",
   "metadata": {},
   "source": [
    "[Accueil](../../index.ipynb) > [Sommaire Première](../index.ipynb) > [Les tableaux](2_tableaux_indexes.ipynb)"
   ]
  }
 ],
 "metadata": {
  "kernelspec": {
   "display_name": "Python 3 (ipykernel)",
   "language": "python",
   "name": "python3"
  },
  "language_info": {
   "codemirror_mode": {
    "name": "ipython",
    "version": 3
   },
   "file_extension": ".py",
   "mimetype": "text/x-python",
   "name": "python",
   "nbconvert_exporter": "python",
   "pygments_lexer": "ipython3",
   "version": "3.12.3"
  }
 },
 "nbformat": 4,
 "nbformat_minor": 5
}
