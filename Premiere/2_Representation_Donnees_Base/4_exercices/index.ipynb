{
 "cells": [
  {
   "cell_type": "markdown",
   "id": "d029de3c-eca4-44b6-b9ce-3549f9ba6c82",
   "metadata": {},
   "source": [
    "[Accueil](../../../index.ipynb) > [Sommaire Première](../../index.ipynb) > [Valeurs booléennes](../4_Valeurs_booleennes.ipynb)"
   ]
  },
  {
   "cell_type": "markdown",
   "id": "e7ebeeab-63e8-4880-8ed8-53b459035893",
   "metadata": {},
   "source": [
    "# Exercices\n",
    "\n",
    "A Faire..."
   ]
  },
  {
   "cell_type": "markdown",
   "id": "5e194bc7-6aae-4151-90a3-e3c269695acd",
   "metadata": {},
   "source": [
    "[Accueil](../../../index.ipynb) > [Sommaire Première](../../index.ipynb) > [Valeurs booléennes](../4_Valeurs_booleennes.ipynb)"
   ]
  }
 ],
 "metadata": {
  "kernelspec": {
   "display_name": "Python 3 (ipykernel)",
   "language": "python",
   "name": "python3"
  },
  "language_info": {
   "codemirror_mode": {
    "name": "ipython",
    "version": 3
   },
   "file_extension": ".py",
   "mimetype": "text/x-python",
   "name": "python",
   "nbconvert_exporter": "python",
   "pygments_lexer": "ipython3",
   "version": "3.10.12"
  }
 },
 "nbformat": 4,
 "nbformat_minor": 5
}
