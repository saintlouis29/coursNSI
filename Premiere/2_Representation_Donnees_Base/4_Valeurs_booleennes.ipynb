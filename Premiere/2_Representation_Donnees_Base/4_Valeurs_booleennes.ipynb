{
 "cells": [
  {
   "cell_type": "markdown",
   "metadata": {},
   "source": [
    "[Accueil](../../index.ipynb) > [Sommaire Première](../index.ipynb)"
   ]
  },
  {
   "cell_type": "markdown",
   "metadata": {},
   "source": [
    "# Valeurs booléennes"
   ]
  },
  {
   "cell_type": "markdown",
   "metadata": {},
   "source": [
    "## Un peu d'histoire\n",
    "<figure style= \"float: left; margin:5px\">\n",
    "  <p><img src=\"img/George_Boole.jpg\"\n",
    "          alt=\"Portrait de George Boole\" title=\"Portrait de George Boole\"\n",
    "style=\"border:2px solid black;\">\n",
    "  <figcaption>George Boole (1815-1864)</figcaption>\n",
    "</figure>\n",
    "\n",
    "<figure style= \"float: right; margin:5px\">\n",
    "  <p><img src=\"img/ClaudeShannon.jpg\"\n",
    "          alt=\"Portrait de Claude Shannon\" title=\"Portrait de Claude Shannon\"\n",
    "style=\"border:2px solid black;\">\n",
    "  <figcaption>Claude Shannon (1916-2001)</figcaption>\n",
    "</figure>\n",
    "\n",
    "George Boole (1815-1864) est un logicien, mathématicien et philosophe britannique. Il est le créateur de la logique moderne, fondée sur une structure algébrique que l'on appelle **algèbre de Boole** en son honneur. (Source [Wikipedia](https://fr.wikipedia.org/wiki/George_Boole)). Bien plus tard, Claude Shannon (1916-2001) concrétise l'algèbre de Boole avec des relais (vrai pour fermé et faux pour ouvert). Cette découverte sera le début de l'ère informatique. Les machines seront d'abord créées avec des **relais électriques** puis par des **transistors**, toujours présents dans les ordinateurs actuels.\n",
    "\n",
    "<div style=\"clear:both\"></div>"
   ]
  },
  {
   "cell_type": "markdown",
   "metadata": {},
   "source": [
    "Nous avons déjà étudié les types des [nombres entiers](1_Representation_entiers_naturels.ipynb) ou des [nombres relatifs](2_Representation_entiers_relatifs.ipynb). Dans ce cours nous allons étudier le **type booléen**.\n",
    "\n",
    "Les booléens ne peuvent prendre que **2 valeurs** dont la syntaxe varie selon les domaines étudiés ou langages de programmation :\n",
    "1. VRAI (1, True, true...)\n",
    "2. FAUX (0, False, false...)\n",
    "\n",
    "Ces 2 valeurs permettent de modéliser des situations à 2 états (Vrai/Faux, Allumé/Eteint, Marche/Arrêt...)"
   ]
  },
  {
   "cell_type": "markdown",
   "metadata": {},
   "source": [
    "## Algèbre de Boole\n",
    "\n",
    "Nous venons de voir que la valeur d'une variable dans l'algèbre de Boole ne peut prendre que 2 valeurs {0 , 1}. On note $B$ cet ensemble pour le reste du cours.\n",
    "\n",
    "### Opérateurs de base\n",
    "\n",
    "Comme dans tout algèbre, il existe des **opérateurs** pour ces valeurs.\n",
    "\n",
    "Il existe 3 opérateurs **fondamentaux** dans cet algèbre qui peuvent prendre plusieurs notations selon les domaines étudiés."
   ]
  },
  {
   "cell_type": "markdown",
   "metadata": {
    "jp-MarkdownHeadingCollapsed": true,
    "tags": []
   },
   "source": [
    "#### L'opérateur NON (NOT)\n",
    "\n",
    "**Définition**:\n",
    "<div class=\"alert alert-info\">Soit $a$ une variable appartenant à $B$, l'opérateur de négation sur $a$, noté  $¬a$ ou $\\overline{a}$ et qui se lit <i>\"non a\"</i> est défini par $\\overline{0}=1$ et $\\overline{1}=0$.</div>\n",
    "\n",
    "[Page Wikipedia de la fonction NON](https://fr.wikipedia.org/wiki/Fonction_NON)\n",
    "\n",
    "<table><tr><td>\n",
    "<table style=\"border:1px solid black\">\n",
    "    <thead>\n",
    "        <tr>\n",
    "            <th colspan=\"2\">Table de vérité de l'opérateur NOT</th>\n",
    "        </tr>\n",
    "    </thead>\n",
    "    <tbody>\n",
    "        <tr>\n",
    "            <td style=\"border:1px solid black\">a</td>\n",
    "            <td style=\"border:1px solid black\">$out=\\overline{a}$</td>\n",
    "        </tr>\n",
    "        <tr>\n",
    "            <td style=\"border:1px solid black\">0</td>\n",
    "            <td style=\"border:1px solid black\">1</td>\n",
    "        </tr>\n",
    "        <tr>\n",
    "            <td style=\"border:1px solid black\">1</td>\n",
    "            <td style=\"border:1px solid black\">0</td>\n",
    "        </tr>\n",
    "    </tbody>\n",
    "</table>\n",
    "</td><td>\n",
    "<p>Dans des circuits logiques, cet opérateur est normalisé selon deux formes:</p>\n",
    "\n",
    "<table style=\"border:1px solid black\">\n",
    "    <thead>\n",
    "        <tr>\n",
    "            <th style=\"border:1px solid black\"><img src=\"img/american_flag.png\"> Symbole américain</th>\n",
    "            <th style=\"border:1px solid black\"><img src=\"img/europe_flag.png\"> Symbole européen</th>\n",
    "        </tr>\n",
    "    </thead>\n",
    "    <tbody>\n",
    "        <tr>\n",
    "            <td style=\"border:1px solid black\"><img src=\"img/not_americain.png\"></td>\n",
    "            <td style=\"border:1px solid black\"><img src=\"img/not_europeen.png\"></td>\n",
    "        </tr>\n",
    "    </tbody>\n",
    "</table>\n",
    "</td></tr></table>"
   ]
  },
  {
   "cell_type": "markdown",
   "metadata": {},
   "source": [
    "#### L'opérateur ET (AND) : la conjection\n",
    "\n",
    "**Définition**:\n",
    "<div class=\"alert alert-info\">L'opérateur de <b>conjonction</b>, noté & ou . qui se lit <i>et</i>, est une fonction définie sur B² et à valeurs dans B. Cet opérateur est défini par $a.b=1$ si et seulement si a=1 et b=1.</div>\n",
    "\n",
    "[Page Wikipedia de la fonction ET](https://fr.wikipedia.org/wiki/Fonction_ET)\n",
    "\n",
    "<table><tr><td>\n",
    "\n",
    "<table style=\"border:1px solid black\">\n",
    "    <thead>\n",
    "        <tr>\n",
    "            <th colspan=\"3\">Table de vérité de l'opérateur ET</th>\n",
    "        </tr>\n",
    "    </thead>\n",
    "    <tbody>\n",
    "        <tr>\n",
    "            <td style=\"border:1px solid black\">a</td>\n",
    "            <td style=\"border:1px solid black\">b</td>\n",
    "            <td style=\"border:1px solid black\">out=a.b</td>\n",
    "        </tr>\n",
    "        <tr>\n",
    "            <td style=\"border:1px solid black\">0</td>\n",
    "            <td style=\"border:1px solid black\">0</td>\n",
    "            <td style=\"border:1px solid black\">0</td>\n",
    "        </tr>\n",
    "        <tr>\n",
    "            <td style=\"border:1px solid black\">0</td>\n",
    "            <td style=\"border:1px solid black\">1</td>\n",
    "            <td style=\"border:1px solid black\">0</td>\n",
    "        </tr>\n",
    "        <tr>\n",
    "            <td style=\"border:1px solid black\">1</td>\n",
    "            <td style=\"border:1px solid black\">0</td>\n",
    "            <td style=\"border:1px solid black\">0</td>\n",
    "        </tr>\n",
    "        <tr>\n",
    "            <td style=\"border:1px solid black\">1</td>\n",
    "            <td style=\"border:1px solid black\">1</td>\n",
    "            <td style=\"border:1px solid black\">1</td>\n",
    "        </tr>\n",
    "    </tbody>\n",
    "</table>\n",
    "</td><td>\n",
    "<p>Le symbole utilisé dans les circuits logiques est:</p>\n",
    "\n",
    "<table style=\"border:1px solid black\">\n",
    "    <thead>\n",
    "        <tr>\n",
    "            <th style=\"border:1px solid black\"><img src=\"img/american_flag.png\"> Symbole américain</th>\n",
    "            <th style=\"border:1px solid black\"><img src=\"img/europe_flag.png\"> Symbole européen</th>\n",
    "        </tr>\n",
    "    </thead>\n",
    "    <tbody>\n",
    "        <tr>\n",
    "            <td style=\"border:1px solid black\"><img src=\"img/and_americain.png\"></td>\n",
    "            <td style=\"border:1px solid black\"><img src=\"img/and_europeen.png\"></td>\n",
    "        </tr>\n",
    "    </tbody>\n",
    "</table>\n",
    "</td></tr></table>\n"
   ]
  },
  {
   "cell_type": "markdown",
   "metadata": {},
   "source": [
    "#### L'opérateur OU (OR) : la disjonction\n",
    "\n",
    "**Définition**:\n",
    "<div class=\"alert alert-info\">L'opérateur de <b>disjonction</b>, noté | ou + qui se lit <i>ou</i>, est une fonction définie sur B² et à valeurs dans B. Cet opérateur est défini par $a+b=1$ si et seulement si au moins un des deux valeurs est égale à 1.</div>\n",
    "\n",
    "[Page Wikipedia de la fonction OU](https://fr.wikipedia.org/wiki/Fonction_OU)\n",
    "\n",
    "\n",
    "<table><tr><td>\n",
    "\n",
    "<table style=\"border:1px solid black\">\n",
    "    <thead>\n",
    "        <tr>\n",
    "            <th colspan=\"3\">Table de vérité de l'opérateur OU</th>\n",
    "        </tr>\n",
    "    </thead>\n",
    "    <tbody>\n",
    "        <tr>\n",
    "            <td style=\"border:1px solid black\">a</td>\n",
    "            <td style=\"border:1px solid black\">b</td>\n",
    "            <td style=\"border:1px solid black\">out=a+b</td>\n",
    "        </tr>\n",
    "        <tr>\n",
    "            <td style=\"border:1px solid black\">0</td>\n",
    "            <td style=\"border:1px solid black\">0</td>\n",
    "            <td style=\"border:1px solid black\">0</td>\n",
    "        </tr>\n",
    "        <tr>\n",
    "            <td style=\"border:1px solid black\">0</td>\n",
    "            <td style=\"border:1px solid black\">1</td>\n",
    "            <td style=\"border:1px solid black\">1</td>\n",
    "        </tr>\n",
    "        <tr>\n",
    "            <td style=\"border:1px solid black\">1</td>\n",
    "            <td style=\"border:1px solid black\">0</td>\n",
    "            <td style=\"border:1px solid black\">1</td>\n",
    "        </tr>\n",
    "        <tr>\n",
    "            <td style=\"border:1px solid black\">1</td>\n",
    "            <td style=\"border:1px solid black\">1</td>\n",
    "            <td style=\"border:1px solid black\">1</td>\n",
    "        </tr>\n",
    "    </tbody>\n",
    "</table>\n",
    "</td><td>\n",
    "\n",
    "<p>Le symbole utilisé dans les circuits logiques est:</p>\n",
    "\n",
    "<table style=\"border:1px solid black\">\n",
    "    <thead>\n",
    "        <tr>\n",
    "            <th style=\"border:1px solid black\"><img src=\"img/american_flag.png\"> Symbole américain</th>\n",
    "            <th style=\"border:1px solid black\"><img src=\"img/europe_flag.png\"> Symbole européen</th>\n",
    "        </tr>\n",
    "    </thead>\n",
    "    <tbody>\n",
    "        <tr>\n",
    "            <td style=\"border:1px solid black\"><img src=\"img/or_americain.png\"></td>\n",
    "            <td style=\"border:1px solid black\"><img src=\"img/or_europeen.png\"></td>\n",
    "        </tr>\n",
    "    </tbody>\n",
    "</table>\n",
    "</td></tr></table>"
   ]
  },
  {
   "cell_type": "markdown",
   "metadata": {},
   "source": [
    "**Blague**\n",
    "<blockquote>\n",
    "<p>\n",
    "    L'amie d'une logicienne lui rend visite à la maternité.\n",
    "    <ul>\n",
    "        <li>l'amie : \"Alors? C'est une fille ou un garçon?\"</li>\n",
    "        <li>la logicielle \"Oui.\"</li>\n",
    "    </ul>\n",
    "</p>\n",
    "</blockquote>\n",
    "\n",
    "**Analyse de la blague**\n",
    "\n",
    "Notons :\n",
    "- $F$ : une fille \n",
    "- $G$ : un garçon\n",
    "\n",
    "on a $G=\\overline{F}$\n",
    "\n",
    "La question de l'ami revient à écrire $F + \\overline{F}$\n",
    "\n",
    "Si on fait la table de vérité:\n",
    "\n",
    "<table style=\"border:1px solid black\">\n",
    "    <thead>\n",
    "        <tr>\n",
    "            <th colspan=\"3\">Table de vérité de l'opérateur $F + \\overline{F}$</th>\n",
    "        </tr>\n",
    "    </thead>\n",
    "    <tbody>\n",
    "        <tr>\n",
    "            <td style=\"border:1px solid black\">$F$</td>\n",
    "            <td style=\"border:1px solid black\">$\\overline{F}$</td>\n",
    "            <td style=\"border:1px solid black\">$F + \\overline{F}$</td>\n",
    "        </tr>\n",
    "        <tr>\n",
    "            <td style=\"border:1px solid black\">0</td>\n",
    "            <td style=\"border:1px solid black\">1</td>\n",
    "            <td style=\"border:1px solid black\">1</td>\n",
    "        </tr>\n",
    "        <tr>\n",
    "            <td style=\"border:1px solid black\">1</td>\n",
    "            <td style=\"border:1px solid black\">0</td>\n",
    "            <td style=\"border:1px solid black\">1</td>\n",
    "        </tr>\n",
    "    </tbody>\n",
    "</table>\n",
    "\n",
    "On voit que c'est toujours vrai, donc \"OUI\".\n",
    "\n",
    "Sans passer par une table de vérité, c'est forcément une fille ou un garçon, donc la réponse est oui."
   ]
  },
  {
   "cell_type": "markdown",
   "metadata": {},
   "source": [
    "### Opérateurs complémentaires\n",
    "\n",
    "Bien que toutes les opérations logiques puissent être écrites avec les opérateurs de base, on utilise également d'autres opérateurs."
   ]
  },
  {
   "cell_type": "markdown",
   "metadata": {},
   "source": [
    "#### L'opérateur OU EXCLUSIF (XOR)\n",
    "\n",
    "<div class=\"alert alert-info\">\n",
    "<b>Définition</b>:\n",
    "\n",
    "L'opérateur OU EXCLUSIF, noté ⊕, qui se lit <i>\"ou exclusif\"</i>, est une fonction définie sur B² et à valeurs dans B. Cet opérateur est défini par $a⊕b=1$ si et seulement si les deux opérandes ont des valeurs distinctes.\n",
    "</div>\n",
    "\n",
    "[Page Wikipedia de la fonction OU EXCLUSIF](https://fr.wikipedia.org/wiki/Fonction_OU_exclusif)\n",
    "\n",
    "<table><tr><td>\n",
    "\n",
    "<table style=\"border:1px solid black\">\n",
    "    <thead>\n",
    "        <tr>\n",
    "            <th colspan=\"3\">Table de vérité de l'opérateur OU EXCLUSIF</th>\n",
    "        </tr>\n",
    "    </thead>\n",
    "    <tbody>\n",
    "        <tr>\n",
    "            <td style=\"border:1px solid black\">a</td>\n",
    "            <td style=\"border:1px solid black\">b</td>\n",
    "            <td style=\"border:1px solid black\">out=a⊕b</td>\n",
    "        </tr>\n",
    "        <tr>\n",
    "            <td style=\"border:1px solid black\">0</td>\n",
    "            <td style=\"border:1px solid black\">0</td>\n",
    "            <td style=\"border:1px solid black\">0</td>\n",
    "        </tr>\n",
    "        <tr>\n",
    "            <td style=\"border:1px solid black\">0</td>\n",
    "            <td style=\"border:1px solid black\">1</td>\n",
    "            <td style=\"border:1px solid black\">1</td>\n",
    "        </tr>\n",
    "        <tr>\n",
    "            <td style=\"border:1px solid black\">1</td>\n",
    "            <td style=\"border:1px solid black\">0</td>\n",
    "            <td style=\"border:1px solid black\">1</td>\n",
    "        </tr>\n",
    "        <tr>\n",
    "            <td style=\"border:1px solid black\">1</td>\n",
    "            <td style=\"border:1px solid black\">1</td>\n",
    "            <td style=\"border:1px solid black\">0</td>\n",
    "        </tr>\n",
    "    </tbody>\n",
    "</table>\n",
    "</td><td>\n",
    "\n",
    "<p>Le symbole utilisé dans les circuits logiques est:</p>\n",
    "\n",
    "<table style=\"border:1px solid black\">\n",
    "    <thead>\n",
    "        <tr>\n",
    "            <th style=\"border:1px solid black\"><img src=\"img/american_flag.png\"> Symbole américain</th>\n",
    "            <th style=\"border:1px solid black\"><img src=\"img/europe_flag.png\"> Symbole européen</th>\n",
    "        </tr>\n",
    "    </thead>\n",
    "    <tbody>\n",
    "        <tr>\n",
    "            <td style=\"border:1px solid black\"><img src=\"img/xor_americain.png\"></td>\n",
    "            <td style=\"border:1px solid black\"><img src=\"img/xor_europeen.png\"></td>\n",
    "        </tr>\n",
    "    </tbody>\n",
    "</table>\n",
    "</td>\n",
    "    <td>\n",
    "        <p>Vous prendrez du fromage ou du dessert ?</p>\n",
    "        <p>J'irai en vacances à la mer ou à la montagne.</p>\n",
    "    </td>\n",
    "</tr></table>"
   ]
  },
  {
   "cell_type": "markdown",
   "metadata": {},
   "source": [
    "#### Opérateur NON ET (NAND)\n",
    "\n",
    "<div class=\"alert alert-info\">\n",
    "<b>Définition</b>:\n",
    "\n",
    "L'opérateur NON-ET, est une fonction définie sur B² et à valeurs dans B. Son résultat est VRAI seulement si au moins l'un des deux opérandes est FAUX.\n",
    "</div>\n",
    "\n",
    "[Page Wikipedia de la fonction NON ET](https://fr.wikipedia.org/wiki/Fonction_NON-ET)\n",
    "\n",
    "<table><tr><td>\n",
    "\n",
    "<table style=\"border:1px solid black\">\n",
    "    <thead>\n",
    "        <tr>\n",
    "            <th colspan=\"3\">Table de vérité de l'opérateur NON ET</th>\n",
    "        </tr>\n",
    "    </thead>\n",
    "    <tbody>\n",
    "        <tr>\n",
    "            <td style=\"border:1px solid black\">a</td>\n",
    "            <td style=\"border:1px solid black\">b</td>\n",
    "            <td style=\"border:1px solid black\">\\begin{eqnarray}out=\\overline{a.b}\\end{eqnarray}</td>\n",
    "        </tr>\n",
    "        <tr>\n",
    "            <td style=\"border:1px solid black\">0</td>\n",
    "            <td style=\"border:1px solid black\">0</td>\n",
    "            <td style=\"border:1px solid black\">1</td>\n",
    "        </tr>\n",
    "        <tr>\n",
    "            <td style=\"border:1px solid black\">0</td>\n",
    "            <td style=\"border:1px solid black\">1</td>\n",
    "            <td style=\"border:1px solid black\">1</td>\n",
    "        </tr>\n",
    "        <tr>\n",
    "            <td style=\"border:1px solid black\">1</td>\n",
    "            <td style=\"border:1px solid black\">0</td>\n",
    "            <td style=\"border:1px solid black\">1</td>\n",
    "        </tr>\n",
    "        <tr>\n",
    "            <td style=\"border:1px solid black\">1</td>\n",
    "            <td style=\"border:1px solid black\">1</td>\n",
    "            <td style=\"border:1px solid black\">0</td>\n",
    "        </tr>\n",
    "    </tbody>\n",
    "</table>\n",
    "</td><td>\n",
    "\n",
    "<p>Le symbole utilisé dans les circuits logiques est:</p>\n",
    "\n",
    "<table style=\"border:1px solid black\">\n",
    "    <thead>\n",
    "        <tr>\n",
    "            <th style=\"border:1px solid black\"><img src=\"img/american_flag.png\"> Symbole américain</th>\n",
    "            <th style=\"border:1px solid black\"><img src=\"img/europe_flag.png\"> Symbole européen</th>\n",
    "        </tr>\n",
    "    </thead>\n",
    "    <tbody>\n",
    "        <tr>\n",
    "            <td style=\"border:1px solid black\"><img src=\"img/nand_americain.png\"></td>\n",
    "            <td style=\"border:1px solid black\"><img src=\"img/nand_europeen.png\"></td>\n",
    "        </tr>\n",
    "    </tbody>\n",
    "</table>\n",
    "</td>\n",
    "</tr></table>"
   ]
  },
  {
   "cell_type": "markdown",
   "metadata": {},
   "source": [
    "#### Opérateur NON OR (NOR)\n",
    "\n",
    "<div class=\"alert alert-info\">\n",
    "<b>Définition</b>:\n",
    "\n",
    "L'opérateur NON-OU, est une fonction définie sur B² et à valeurs dans B. Son résultat est VRAI seulement si les deux opérandes sont FAUX.\n",
    "</div>\n",
    "\n",
    "[Page Wikipedia de la fonction NON OU](https://fr.wikipedia.org/wiki/Fonction_NON-OU)\n",
    "\n",
    "<table><tr><td>\n",
    "\n",
    "<table style=\"border:1px solid black\">\n",
    "    <thead>\n",
    "        <tr>\n",
    "            <th colspan=\"3\">Table de vérité de l'opérateur NON OU</th>\n",
    "        </tr>\n",
    "    </thead>\n",
    "    <tbody>\n",
    "        <tr>\n",
    "            <td style=\"border:1px solid black\">a</td>\n",
    "            <td style=\"border:1px solid black\">b</td>\n",
    "            <td style=\"border:1px solid black\">\\begin{eqnarray}out=\\overline{a+b}\\end{eqnarray}</td>\n",
    "        </tr>\n",
    "        <tr>\n",
    "            <td style=\"border:1px solid black\">0</td>\n",
    "            <td style=\"border:1px solid black\">0</td>\n",
    "            <td style=\"border:1px solid black\">1</td>\n",
    "        </tr>\n",
    "        <tr>\n",
    "            <td style=\"border:1px solid black\">0</td>\n",
    "            <td style=\"border:1px solid black\">1</td>\n",
    "            <td style=\"border:1px solid black\">0</td>\n",
    "        </tr>\n",
    "        <tr>\n",
    "            <td style=\"border:1px solid black\">1</td>\n",
    "            <td style=\"border:1px solid black\">0</td>\n",
    "            <td style=\"border:1px solid black\">0</td>\n",
    "        </tr>\n",
    "        <tr>\n",
    "            <td style=\"border:1px solid black\">1</td>\n",
    "            <td style=\"border:1px solid black\">1</td>\n",
    "            <td style=\"border:1px solid black\">0</td>\n",
    "        </tr>\n",
    "    </tbody>\n",
    "</table>\n",
    "</td><td>\n",
    "\n",
    "<p>Le symbole utilisé dans les circuits logiques est:</p>\n",
    "\n",
    "<table style=\"border:1px solid black\">\n",
    "    <thead>\n",
    "        <tr>\n",
    "            <th style=\"border:1px solid black\"><img src=\"img/american_flag.png\"> Symbole américain</th>\n",
    "            <th style=\"border:1px solid black\"><img src=\"img/europe_flag.png\"> Symbole européen</th>\n",
    "        </tr>\n",
    "    </thead>\n",
    "    <tbody>\n",
    "        <tr>\n",
    "            <td style=\"border:1px solid black\"><img src=\"img/nor_americain.png\"></td>\n",
    "            <td style=\"border:1px solid black\"><img src=\"img/nor_europeen.png\"></td>\n",
    "        </tr>\n",
    "    </tbody>\n",
    "</table>\n",
    "</td>"
   ]
  },
  {
   "cell_type": "markdown",
   "metadata": {},
   "source": [
    "#### Opérateur NON-OU EXCLUSIF (XNOR) : Coïncidence\n",
    "\n",
    "<div class=\"alert alert-info\">\n",
    "<b>Définition</b>:\n",
    "\n",
    "L'opérateur NON-OU, est une fonction définie sur B² et à valeurs dans B. Son résultat est VRAI seulement si les deux opérandes sont identiques.\n",
    "</div>\n",
    "</div>\n",
    "\n",
    "[Page Wikipedia de la fonction NON-OU EXCLUSIF](https://fr.wikipedia.org/wiki/Co%C3%AFncidence_(informatique))\n",
    "\n",
    "<table><tr><td>\n",
    "\n",
    "<table style=\"border:1px solid black\">\n",
    "    <thead>\n",
    "        <tr>\n",
    "            <th colspan=\"3\"> Table de vérité de l'opérateur NON OU EXCLUSIF</th>\n",
    "        </tr>\n",
    "    </thead>\n",
    "    <tbody>\n",
    "        <tr>\n",
    "            <td style=\"border:1px solid black\">a</td>\n",
    "            <td style=\"border:1px solid black\">b</td>\n",
    "            <td style=\"border:1px solid black\">\n",
    "                \n",
    "\\begin{eqnarray}\n",
    "out=a⊙b=\\overline{a⊕b} \n",
    "\\end{eqnarray}\n",
    "            </td>\n",
    "        </tr>\n",
    "        <tr>\n",
    "            <td style=\"border:1px solid black\">0</td>\n",
    "            <td style=\"border:1px solid black\">0</td>\n",
    "            <td style=\"border:1px solid black\">1</td>\n",
    "        </tr>\n",
    "        <tr>\n",
    "            <td style=\"border:1px solid black\">0</td>\n",
    "            <td style=\"border:1px solid black\">1</td>\n",
    "            <td style=\"border:1px solid black\">0</td>\n",
    "        </tr>\n",
    "        <tr>\n",
    "            <td style=\"border:1px solid black\">1</td>\n",
    "            <td style=\"border:1px solid black\">0</td>\n",
    "            <td style=\"border:1px solid black\">0</td>\n",
    "        </tr>\n",
    "        <tr>\n",
    "            <td style=\"border:1px solid black\">1</td>\n",
    "            <td style=\"border:1px solid black\">1</td>\n",
    "            <td style=\"border:1px solid black\">1</td>\n",
    "        </tr>\n",
    "    </tbody>\n",
    "</table>\n",
    "</td><td>\n",
    "\n",
    "<p>Le symbole utilisé dans les circuits logiques est:</p>\n",
    "\n",
    "<table style=\"border:1px solid black\">\n",
    "    <thead>\n",
    "        <tr>\n",
    "            <th style=\"border:1px solid black\"><img src=\"img/american_flag.png\"> Symbole américain</th>\n",
    "            <th style=\"border:1px solid black\"><img src=\"img/europe_flag.png\"> Symbole européen</th>\n",
    "        </tr>\n",
    "    </thead>\n",
    "    <tbody>\n",
    "        <tr>\n",
    "            <td style=\"border:1px solid black\"><img src=\"img/xnor_americain.png\"></td>\n",
    "            <td style=\"border:1px solid black\"><img src=\"img/xnor_europeen.png\"></td>\n",
    "        </tr>\n",
    "    </tbody>\n",
    "</table>\n",
    "</td>"
   ]
  },
  {
   "cell_type": "markdown",
   "metadata": {},
   "source": [
    "### Propriétés de l'algèbre de Boole"
   ]
  },
  {
   "cell_type": "markdown",
   "metadata": {},
   "source": [
    "#### Eléments neutres/absorbants\n",
    "\n",
    "- 0 est l'**élément neutre** pour le OU : $0+a=a$\n",
    "- 1 est l'**élément neutre** pour le ET : $1.a=a$\n",
    "- 1 est l'**élément absorbant** pour le OU : $1+a=1$\n",
    "- 0 est l'**élément absorbant** pour le ET : $0.a=0$"
   ]
  },
  {
   "cell_type": "markdown",
   "metadata": {},
   "source": [
    "#### Commutativité\n",
    "\n",
    "- $a.b=b.a$\n",
    "- $a+b=b+a$"
   ]
  },
  {
   "cell_type": "markdown",
   "metadata": {
    "tags": []
   },
   "source": [
    "#### Distributivité\n",
    "\n",
    "- $a.(b+c)= a.b+a.c$ distributivité du ET\n",
    "- $a+(b.c)= (a+b).(a+c)$ distributivité du OU"
   ]
  },
  {
   "cell_type": "markdown",
   "metadata": {},
   "source": [
    "#### Associativité\n",
    "\n",
    "- $a.(b.c)= (a.b).c=a.b.c$\n",
    "- $a+(b+c)= (a+b)+c=a+b+c$"
   ]
  },
  {
   "cell_type": "markdown",
   "metadata": {},
   "source": [
    "<div class=\"alert alert-info\">\n",
    "<b>Propriété</b>:\n",
    "\n",
    "Deux formules sont équivalentes si et seulement si elles ont la même table de vérité.\n",
    "</div>\n"
   ]
  },
  {
   "cell_type": "markdown",
   "metadata": {},
   "source": [
    "#### Priorité des opérateurs\n",
    "\n",
    "L'opérateur ET est prioritaire sur le OU, ainsi $a+(b.c)$ peut s'écrire $a+b.c$"
   ]
  },
  {
   "cell_type": "markdown",
   "metadata": {
    "tags": []
   },
   "source": [
    "#### Lois de De Morgan\n",
    "\n",
    "**Première loi**\n",
    "\n",
    "$\\overline{a+b}=\\overline{a}.\\overline{b}$\n",
    "\n",
    "**Deuxième loi**\n",
    "\n",
    "$\\overline{a.b}=\\overline{a}+\\overline{b}$\n",
    "\n",
    "\n",
    "**Démonstration de la première loi**\n",
    "\n",
    "Etablissons la table de vérité pour les deux membres de l'égalité:\n",
    "\n",
    "<table style=\"border:1px solid black\">\n",
    "    <tr style=\"border:1px solid black\">\n",
    "        <td>\n",
    "\\begin{eqnarray}\n",
    "a\n",
    "\\end{eqnarray}\n",
    "         </td>\n",
    "        <td>\n",
    "\\begin{eqnarray}\n",
    "b\n",
    "\\end{eqnarray}\n",
    "        </td>\n",
    "        <td>\n",
    "\\begin{eqnarray}\n",
    "a+b\n",
    "\\end{eqnarray}\n",
    "        </td>\n",
    "        <td><b>\n",
    "\\begin{eqnarray}\n",
    "\\overline{a+b}\n",
    "\\end{eqnarray}\n",
    "            </b></td>\n",
    "        <td>\n",
    "\\begin{eqnarray}\n",
    "\\overline{a}\n",
    "\\end{eqnarray}\n",
    "        </td>\n",
    "        <td>\n",
    "\\begin{eqnarray}\n",
    "\\overline{b}\n",
    "\\end{eqnarray}\n",
    "        </td>\n",
    "        <td><b>\n",
    "\\begin{eqnarray}\n",
    "\\overline{a}.\\overline{b}\n",
    "\\end{eqnarray}\n",
    "            </b></td>\n",
    "    </tr>\n",
    "    <tr>\n",
    "        <td>0</td>\n",
    "        <td>0</td>\n",
    "        <td>0</td>\n",
    "        <td><b>1</b></td>\n",
    "        <td>1</td>\n",
    "        <td>1</td>\n",
    "        <td><b>1</b></td>\n",
    "    </tr>\n",
    "    <tr>\n",
    "        <td>0</td>\n",
    "        <td>1</td>\n",
    "        <td>1</td>\n",
    "        <td><b>0</b></td>\n",
    "        <td>1</td>\n",
    "        <td>0</td>\n",
    "        <td><b>0</b></td>\n",
    "    </tr>\n",
    "    <tr>\n",
    "        <td>1</td>\n",
    "        <td>0</td>\n",
    "        <td>1</td>\n",
    "        <td><b>0</b></td>\n",
    "        <td>0</td>\n",
    "        <td>1</td>\n",
    "        <td><b>0</b></td>\n",
    "    </tr>\n",
    "    <tr>\n",
    "        <td>1</td>\n",
    "        <td>1</td>\n",
    "        <td>1</td>\n",
    "        <td><b>0</b></td>\n",
    "        <td>0</td>\n",
    "        <td>0</td>\n",
    "        <td><b>0</b></td>\n",
    "    </tr>\n",
    "</table>\n",
    "\n",
    "On a donc bien $\\overline{a+b}=\\overline{a}.\\overline{b}$."
   ]
  },
  {
   "cell_type": "markdown",
   "metadata": {
    "tags": []
   },
   "source": [
    "## Exercices sur les tables de vérité\n",
    "\n",
    "**Excercice 1**\n",
    "\n",
    "Démontrer la deuxième loi de De Morgan.\n",
    "\n",
    "**Excercice 2**\n",
    "\n",
    "- Etablir la table de vérité de $\\overline{a}.b+a.\\overline{b}$\n",
    "- Comment peut on écrire $\\overline{a}.b+a.\\overline{b}$ plus simplement?"
   ]
  },
  {
   "cell_type": "markdown",
   "metadata": {},
   "source": [
    "## Rapport avec l'électronique\n",
    "\n",
    "<img src=\"img/transistor.jpg\" style=\"float:left; margin-right:10px\">\n",
    "\n",
    "Le **transistor** est un composant electronique doté de 3 électrodes qui permet de controler une tension sur l'électrode de sortie. Pour rester simple, un transistor est un **interrupteur électronique sans partie mécanique**.\n",
    "\n",
    "Les processeurs de nos ordinateurs sont dotés de **milliards de transistors** qui permettent, en les connectant, de réaliser les portes logiques que nous venons de voir.\n",
    "\n",
    "<div style=\"clear:both\"></div>\n",
    "\n",
    "**Exemples**:\n",
    "<table><tr><td style=\"vertical-align:top; margin:10px\">\n",
    "\n",
    "Réalisation d'une **porte logique ET** à l'aide de deux transistors en série.\n",
    "\n",
    "![](img/trans_and.gif)\n",
    "</td><td style=\"vertical-align:top; margin:10px\">\n",
    "\n",
    "Réalisation d'une **porte logique OR** à l'aide de deux transistors en parallèle.\n",
    "\n",
    "![](img/trans_or.gif)\n",
    "\n",
    "</td><td style=\"vertical-align:top; margin:10px\">\n",
    "\n",
    "    \n",
    "Réalisation d'une **porte logique NON**.\n",
    "\n",
    "![](img/trans_not.gif)\n",
    "\n",
    "</td></tr></table>"
   ]
  },
  {
   "cell_type": "markdown",
   "metadata": {},
   "source": [
    "## Applications\n",
    "\n",
    "En combinant les portes logiques on obtient des **circuits combinatoires**. Ces circuits ont des entrées et fournissent un résultat en sortie. On peut citer par exemple des circuits qui effectuent :\n",
    "\n",
    "- des additions\n",
    "- des multiplications\n",
    "- des multiplexeurs\n",
    "- des démultiplexeurs\n",
    "- de la mémoire\n",
    "- ..."
   ]
  },
  {
   "cell_type": "markdown",
   "metadata": {},
   "source": [
    "## Les opérateurs logiques en Python\n",
    "\n",
    "L'opérateur de négation est le \"**not**\""
   ]
  },
  {
   "cell_type": "code",
   "execution_count": null,
   "metadata": {},
   "outputs": [],
   "source": [
    "a = True\n",
    "print(f\"not({a})={not(a)}\")\n",
    "a = False\n",
    "print(f\"not({a})={not(a)}\")\n"
   ]
  },
  {
   "cell_type": "markdown",
   "metadata": {},
   "source": [
    "L'opérateur ET est le \"**and**\""
   ]
  },
  {
   "cell_type": "code",
   "execution_count": null,
   "metadata": {},
   "outputs": [],
   "source": [
    "a = b = (False, True)\n",
    "for av in a:\n",
    "    for bv in b:\n",
    "        print (f\"{av} and {bv} = {av and bv}\")"
   ]
  },
  {
   "cell_type": "markdown",
   "metadata": {},
   "source": [
    "L'opérateur OU est le \"**or**\""
   ]
  },
  {
   "cell_type": "code",
   "execution_count": null,
   "metadata": {},
   "outputs": [],
   "source": [
    "a = b = (False, True)\n",
    "for av in a:\n",
    "    for bv in b:\n",
    "        print (f\"{av} or {bv} = {av or bv}\")"
   ]
  },
  {
   "cell_type": "markdown",
   "metadata": {},
   "source": [
    "L'opérateur OUX (XOR) est le \"^\""
   ]
  },
  {
   "cell_type": "code",
   "execution_count": null,
   "metadata": {},
   "outputs": [],
   "source": [
    "a = b = (False, True)\n",
    "for av in a:\n",
    "    for bv in b:\n",
    "        print (f\"{av} ^ {bv} = {av ^ bv}\")"
   ]
  },
  {
   "cell_type": "markdown",
   "metadata": {},
   "source": [
    "<div class=\"alert alert-info\">\n",
    "Les opérateurs NOR, NAND et XNOR n'existent pas en Python, pour les réaliser on passe par le <b>not</b>.\n",
    "\n",
    "- a NOR b se code *not(a or b)* soit, en notation algébrique, $\\overline{a+b}$\n",
    "- a NAND b se code *not(a and b)* soit, en notation algébrique, $\\overline{a.b}$\n",
    "- a XNOR b se code *not(a^b)* soit, en notation algébrique, $\\overline{a⊕b}$\n",
    "</div>"
   ]
  },
  {
   "cell_type": "markdown",
   "metadata": {},
   "source": [
    "<div class=\"alert alert-warning\">\n",
    "Les opérateurs NOR, NAND et XNOR n'existent pas en Python, pour les réaliser on passe par le *not*.\n",
    "\n",
    "- a NOR b se code *not(a or b)* soit, en notation algébrique, $\\overline{a+b}$\n",
    "- a NAND b se code *not(a and b)* soit, en notation algébrique, $\\overline{a.b}$\n",
    "- a XNOR b se code *not(a^b)* soit, en notation algébrique, $\\overline{a⊕b}$\n",
    "</div>"
   ]
  },
  {
   "cell_type": "markdown",
   "metadata": {},
   "source": [
    "**Exemple de code**:\n",
    "    \n",
    "Imaginons le scénario suivant: une personne veut acheter un ticket de millionnaire.\n",
    "    \n",
    "Si elle est majeure ET a 5€ => True\n",
    "Sinon, False\n",
    "    "
   ]
  },
  {
   "cell_type": "markdown",
   "metadata": {},
   "source": [
    "Premier code 'traditionnel':"
   ]
  },
  {
   "cell_type": "code",
   "execution_count": 2,
   "metadata": {},
   "outputs": [
    {
     "name": "stdin",
     "output_type": "stream",
     "text": [
      "Etes vous majeur? o/n o\n",
      "Avez vous 5€? o/n o\n"
     ]
    },
    {
     "data": {
      "text/plain": [
       "True"
      ]
     },
     "execution_count": 2,
     "metadata": {},
     "output_type": "execute_result"
    }
   ],
   "source": [
    "def peut_jouer():\n",
    "    majeur = input(\"Etes vous majeur? o/n\")\n",
    "    argent= input(\"Avez vous 5€? o/n\")\n",
    "    if majeur == 'o' and argent == 'o':\n",
    "        return True\n",
    "    else:\n",
    "        return False\n",
    "\n",
    "peut_jouer()"
   ]
  },
  {
   "cell_type": "markdown",
   "metadata": {},
   "source": [
    "Version courte:"
   ]
  },
  {
   "cell_type": "code",
   "execution_count": 3,
   "metadata": {},
   "outputs": [
    {
     "name": "stdin",
     "output_type": "stream",
     "text": [
      "Etes vous majeur? o/n o\n",
      "Avez vous 5€? o/n o\n"
     ]
    },
    {
     "data": {
      "text/plain": [
       "True"
      ]
     },
     "execution_count": 3,
     "metadata": {},
     "output_type": "execute_result"
    }
   ],
   "source": [
    "def peut_jouer():\n",
    "    majeur = input(\"Etes vous majeur? o/n\")\n",
    "    argent= input(\"Avez vous 5€? o/n\")\n",
    "    return majeur == 'o' and argent == 'o'\n",
    "\n",
    "peut_jouer()"
   ]
  },
  {
   "cell_type": "markdown",
   "metadata": {},
   "source": [
    "## Caractère séquentiel des valeurs booléennes\n",
    "\n",
    "Les opérateurs OU et ET ont la particularité d'être **séquentiels**, c'est à dire qu'ils sont évalués l'un après l'autre (et souvent de gauche à droite).\n",
    "\n",
    "- A ET B est faux si A est faux, donc inutile d'évaluer B.\n",
    "- A OU B est vrai si A est vrai, donc intile d'évaluer B.\n",
    "\n",
    "Lorsque Python évalue une expression booléenne contenant des opérateurs **and** et **or**, il le fait de manière **fainéante** (lazy evaluation) c'est à dire en n'évaluant parfois uniquement la partie gauche de l'expression.\n",
    "\n",
    "Voici un exemple:"
   ]
  },
  {
   "cell_type": "code",
   "execution_count": null,
   "metadata": {},
   "outputs": [],
   "source": [
    "import time\n",
    "\n",
    "def calcul_facile():\n",
    "    return True\n",
    "\n",
    "def calcul_difficile():\n",
    "    time.sleep(5) # simulation d'un calcul complexe\n",
    "    return False\n",
    "\n",
    "\n",
    "def version1():\n",
    "    result = calcul_facile() or calcul_difficile()\n",
    "    print(\"fini\")\n",
    "\n",
    "def version2():\n",
    "    result = calcul_difficile() or calcul_facile()\n",
    "    print(\"fini\")"
   ]
  },
  {
   "cell_type": "markdown",
   "metadata": {},
   "source": [
    "version1"
   ]
  },
  {
   "cell_type": "code",
   "execution_count": null,
   "metadata": {},
   "outputs": [],
   "source": [
    "version1()"
   ]
  },
  {
   "cell_type": "markdown",
   "metadata": {},
   "source": [
    "version2"
   ]
  },
  {
   "cell_type": "code",
   "execution_count": null,
   "metadata": {},
   "outputs": [],
   "source": [
    "version2()"
   ]
  },
  {
   "cell_type": "markdown",
   "metadata": {},
   "source": [
    "<div class=\"alert alert-warning\">\n",
    "Si on commence par l'opérande le plus rapide (et qu'il retourne FAUX) le deuxième ne sera pas evalué\n",
    "\n",
    "</div>"
   ]
  },
  {
   "cell_type": "markdown",
   "metadata": {},
   "source": [
    "De même, pour l'opérateur ET, privilégier comme premier opérande le plus rapide. Si celui-ci est VRAI le deuxième ne sera pas évalué."
   ]
  },
  {
   "cell_type": "markdown",
   "metadata": {},
   "source": [
    "D'autres langages, le javascript par exemple, utilisent également cette évaluation paresseuse.\n",
    "\n",
    "<div class=\"alert alert-danger\">\n",
    "Pour optimiser vos programmes, dans les expressions booléennes, commencez par les opérandes qui demandent le moins de ressources.\n",
    "\n",
    "</div>"
   ]
  },
  {
   "cell_type": "markdown",
   "metadata": {},
   "source": [
    "## Exercices\n",
    "\n",
    "Voici [une liste d'exercices](4_exercices/index.ipynb) sur ce chapitre.\n",
    "\n",
    "## TPs\n",
    "\n",
    "Voici [les TPs](4_TPs/index.ipynb) de ce chapitre.\n",
    "\n"
   ]
  },
  {
   "cell_type": "markdown",
   "metadata": {},
   "source": [
    "[Accueil](../../index.ipynb) > [Sommaire Première](../index.ipynb)"
   ]
  }
 ],
 "metadata": {
  "kernelspec": {
   "display_name": "Python 3 (ipykernel)",
   "language": "python",
   "name": "python3"
  },
  "language_info": {
   "codemirror_mode": {
    "name": "ipython",
    "version": 3
   },
   "file_extension": ".py",
   "mimetype": "text/x-python",
   "name": "python",
   "nbconvert_exporter": "python",
   "pygments_lexer": "ipython3",
   "version": "3.10.12"
  },
  "toc-autonumbering": true,
  "toc-showcode": false,
  "toc-showmarkdowntxt": false
 },
 "nbformat": 4,
 "nbformat_minor": 4
}
