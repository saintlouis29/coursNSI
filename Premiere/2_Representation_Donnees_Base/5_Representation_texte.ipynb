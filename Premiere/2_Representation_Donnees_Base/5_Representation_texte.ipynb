{
 "cells": [
  {
   "cell_type": "markdown",
   "metadata": {},
   "source": [
    "[Accueil](../../index.ipynb) > [Sommaire Première](../index.ipynb)"
   ]
  },
  {
   "cell_type": "markdown",
   "metadata": {},
   "source": [
    "# 2.5 Types construits : représentation d'un texte\n",
    "\n",
    "En machine tout est binaire. Nous l'avons déjà vu pour :\n",
    "\n",
    "- les entiers naturels\n",
    "- les entiers relatifs\n",
    "- les images\n",
    "\n",
    "Il en est évidemment de même pour les **lettres**.\n",
    "\n",
    "Bien entendu un même nombre peut représenter, dans un contexte donné, un entier naturel mais dans un autre contexte une lettre, une couleur...\n",
    "\n",
    "## Le codage ASCII\n",
    "\n",
    "ASCII est l'acronyme de **A**merican **S**tandard **C**ode for **I**nformation **I**nterchange.\n",
    "Voir [la page Wikipédia](https://fr.wikipedia.org/wiki/American_Standard_Code_for_Information_Interchange)\n",
    "\n",
    "Ce standard a été créé dans les années 60 par l'ANSI (**A**merican **N**ational **S**tandards **I**nstitute). Il permet de coder des textes en **anglais**. Il est codé sur 7 bits et permet donc de faire correspondre $2^7=128$ nombres à des caractères.\n",
    "\n",
    "Le huitième bit (bit de poids fort) est un **bit de parité** qui permet de vérifier si il n'y a pas eu d'erreur:\n",
    "\n",
    "- il vaut 1 si le nombre de 1 est pair dans les 7 autres bits;\n",
    "- 0 sinon.\n",
    "\n",
    "L'ASCII comporte \n",
    "- 95 caractères imprimables:\n",
    "  - les chiffres de 0 à 9;\n",
    "  - les lettres minuscules et majuscules;\n",
    "  - les symboles mathématiques et de la ponctuation (+,-, <, >, {, @ .....)\n",
    "- 33 caractères de contrôle (début de texte, tabulation...+ DEL qui est le dernier de la table)\n",
    "\n",
    "  \n",
    "  \n",
    "![](https://upload.wikimedia.org/wikipedia/commons/1/1b/ASCII-Table-wide.svg)\n",
    "\n",
    "Dans le tableau ci dessous on peut voir que la lettre Z se code en hexa $5A_{16}$, soit en binaire $1011010_2$\n",
    "\n",
    "**A Faire**\n",
    " - Vérifier avec la commande [ord](https://docs.python.org/fr/3/library/functions.html#ord) que les numéros des lettres corresponde bien aux données du tableau.\n",
    " - Vérifier que la commande inverse [chr](https://docs.python.org/fr/3/library/functions.html#chr) retourne bien la lettre correspondant au numéro donné."
   ]
  },
  {
   "cell_type": "code",
   "execution_count": null,
   "metadata": {},
   "outputs": [],
   "source": [
    "texte = \"aAbB;\"\n",
    "for character in texte:\n",
    "    print(character, \":\", ord(character))                       "
   ]
  },
  {
   "cell_type": "code",
   "execution_count": null,
   "metadata": {},
   "outputs": [],
   "source": [
    "# tester la commande chr pour les numéros allant de 32 à 127 (exclu)\n"
   ]
  },
  {
   "cell_type": "markdown",
   "metadata": {},
   "source": [
    "## Les codages ASCII étendus\n",
    "\n",
    "### Les limites de ASCII\n",
    "\n",
    "On peut faire correspondre l'ensemble des lettres pour la langue anglaises sur 128 caractères mais qu'en est-il des caractères é,à, и, П, ゆ... ?\n",
    "\n",
    "On a utilisé le 8ème bit disponible pour créer des normes ASCII étendues. Pour y remédier, l'[ISO](https://www.iso.org/fr/home.html) (International Organization for Standardization​) a créé de nouvelles normes.\n",
    "\n",
    "### Exemple : ISO 8859\n",
    "\n",
    "Il existe plusieurs parties pour la norme iso 8859 : \n",
    "\n",
    "- 8859-1 pour la plupart des langues européennes occidentales\n",
    "- 8859-2 pour les langues d'europe centrale ( croate, tchèque...)\n",
    "- 8859-3 pour l'europe du sud (turc, maltais)\n",
    "- ...\n",
    "- 8859-15 révision de la 8859-1 en incluant le symbole euro € ainsi que œ\n",
    "\n",
    "[voir la liste complète ici](https://fr.wikipedia.org/wiki/ISO/CEI_8859#Les_parties_de_la_norme_ISO_8859)\n",
    "\n",
    "La norme ISO 8859-1, souvent appelé **Latin-1** permet donc de coder $2^8=256$ caractères. Voir [page wikipedia](https://fr.wikipedia.org/wiki/ISO/CEI_8859-1)\n",
    "\n",
    "<div class=\"alert alert-block alert-success\">\n",
    "<b>Remarque : </b> La norme ISO 8859 conserve les 128 premiers caractères de l'ASCII.\n",
    "</div>\n",
    "\n",
    "### Les limites de la norme ISO 8859\n",
    "\n",
    "On peut dorénavant écrire l'ensemble des caractères en précisant le codage utilisé. Cependant si un fichier est enregistré dans un certain format puis ouvert dans un autre format celui ci n'affichera pas correctement les caractères en dehors de ceux de la plage ASCII (de 0 à  127).\n",
    "\n",
    "Il est également impossible d'écrire un texte qui contient, par exemple, de l'hébreu et du russe."
   ]
  },
  {
   "cell_type": "markdown",
   "metadata": {},
   "source": [
    "### Activité sur la norme [ISO 8859-15](https://fr.wikipedia.org/wiki/ISO/CEI_8859-15)\n",
    "\n",
    "Vérifier la valeur décimale de certains caractères de cette norme."
   ]
  },
  {
   "cell_type": "code",
   "execution_count": null,
   "metadata": {},
   "outputs": [],
   "source": [
    "caractere = '€'\n",
    "caractere_iso = caractere.encode('iso-8859-15')\n",
    "value = ord(caractere_iso)\n",
    "print(f\"valeur décimale de {caractere} : {value}\")\n",
    "print(f\"valeur hexadécimale de {caractere} : {hex(value)}\")\n"
   ]
  },
  {
   "cell_type": "markdown",
   "metadata": {},
   "source": [
    "## Unicode\n",
    "\n",
    "<div class=\"alert alert-block alert-success\">\n",
    "    <b>Définitions : </b>\n",
    "    <ul>\n",
    "        <li>Une <b>table de codage</b> ou <b>jeu de caractères</b> ou <b>charset</b>, associe un entier nommé <u>point de code</u> à un <u>caractère</u>.</li>\n",
    "        <li>Un <b>encodage</b> associe à un <u>point de code</u> une <u>séquence d’octets</u>.</li>\n",
    "    </ul>\n",
    "</div>\n",
    "\n",
    "Pour assurer l'universalité de la représentation des caractères, l'ISO a défini une table de codage universelle l'[ISO-106-46](https://fr.wikipedia.org/wiki/ISO/CEI_10646). Depuis 1991 le [consortium Unicode](https://home.unicode.org/) collabore avec l'ISO  pour créer l'[UNICODE](https://fr.wikipedia.org/wiki/Unicode), un standard informatique qui permet l'échange de documents dans différentes langues. Unicode contient l'**ensemble des caractères des langues mondiales** ainsi que d'autres caractères ( musique, flèches...)\n",
    "\n",
    "Chaque **point de code** est de la forme **U+wxyz** où chaque lettre est un caractère hexadécimal. Ainsi chaque point de code se code sur 4 octects mais des encodages moins gourmands en mémoire ont été imaginé par unicode.\n",
    "\n",
    "Pour implémenter unicode il existe 3 formats :\n",
    "\n",
    "1. [UTF-8](https://fr.wikipedia.org/wiki/UTF-8)\n",
    "2. UTF-16\n",
    "3. UTF-32\n",
    "\n",
    "Dans UTF-**n**, **n** est le nombre minimal de bits pour coder 1 caractère.\n",
    "\n",
    "**A Faire :**\n",
    "\n",
    "- Ouvrir sublime text\n",
    "  - Ecrire la lettre é;\n",
    "  - sauvegarder le fichier au format UTF-8 avec le nom utf8.txt;\n",
    "  - lire la taille du fichier;\n",
    "  - ouvrir le fichier avec l'editeur hexa;\n",
    "- Ouvrir un nouveau fichier\n",
    "  - Ecrire la lettre é;\n",
    "  - sauvegarder le fichier au format iso-8859-1 avec le nom iso-8859-1.txt;\n",
    "  - lire la taille du fichier;\n",
    "  - ouvrir le fichier avec l'editeur hexa;\n",
    "\n",
    "Procéder de même avec la lettre A\n",
    "\n",
    "Quelles sont vos conclusions ?\n",
    "\n",
    "L'encodage UFT-8 est utilisé majoritairement :\n",
    "- dans les sites web (ce site est codé en UTF-8 : faire un clic droit puis 'afficher le code source');\n",
    "- dans Python qui utilise l'UTF-8 pour les chaines de caractère;\n",
    "- dans Le systeme GNU/Linux.\n",
    "- ...\n",
    "![](https://w3techs.com/diagram/history_overview/character_encoding/ms/y)\n",
    "\n",
    "Quel est l'encoge utilisé sur cette workstation ?"
   ]
  },
  {
   "cell_type": "code",
   "execution_count": null,
   "metadata": {},
   "outputs": [],
   "source": [
    "!locale charmap"
   ]
  },
  {
   "cell_type": "markdown",
   "metadata": {},
   "source": [
    "Quels sont les encodages possibles ?"
   ]
  },
  {
   "cell_type": "code",
   "execution_count": null,
   "metadata": {},
   "outputs": [],
   "source": [
    "!locale -m"
   ]
  },
  {
   "cell_type": "markdown",
   "metadata": {},
   "source": [
    "En Python 3, l'encodage par défaut des fichiers sources est l'UTF-8.\n",
    "\n",
    "Si votre éditeur n'est pas configuré en UTF-8 alors il faut préciser l'encodage dans les premières lignes de votre fichier source. Par exemple:"
   ]
  },
  {
   "cell_type": "code",
   "execution_count": null,
   "metadata": {},
   "outputs": [],
   "source": [
    "# coding: latin-1"
   ]
  },
  {
   "cell_type": "markdown",
   "metadata": {},
   "source": [
    "### Caractéristiques de l'UTF-8\n",
    "\n",
    "- UTF-8 est rétro-compatible avec l'ASCII : tout caractère ASCII se code sur 1 octet de manière identique à l'ASCII\n",
    "- tout caractère ASCII se code sur un octet. Ainsi un texte qui utilise uniquement des caractères ASCII, encodé en ASCII sera identique à celui encodé en UTF-8. \n",
    "- Les autres caractères se codent sur 2 à 4 octets.\n",
    "\n",
    "L'ensemble des caractères unicode peut être consulté sur [https://unicode-table.com/](https://unicode-table.com/)\n",
    "\n",
    "**A FAIRE :**\n",
    "\n",
    "- Trouver le symbole dont le point de code est U+1F40D. \n",
    "- Quelle est alors sa valeur décimale ?\n",
    "- Comment ai-je ajouté le symbole <b style=\"font-size: 30px;\">&#129440;</b> dans ce cours ?\n",
    "- Et en Python ?"
   ]
  },
  {
   "cell_type": "code",
   "execution_count": null,
   "metadata": {},
   "outputs": [],
   "source": [
    "print(chr(0x1F9A0))"
   ]
  }
 ],
 "metadata": {
  "kernelspec": {
   "display_name": "Python 3 (ipykernel)",
   "language": "python",
   "name": "python3"
  },
  "language_info": {
   "codemirror_mode": {
    "name": "ipython",
    "version": 3
   },
   "file_extension": ".py",
   "mimetype": "text/x-python",
   "name": "python",
   "nbconvert_exporter": "python",
   "pygments_lexer": "ipython3",
   "version": "3.10.12"
  }
 },
 "nbformat": 4,
 "nbformat_minor": 4
}
