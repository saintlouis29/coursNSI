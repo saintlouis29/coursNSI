{
 "cells": [
  {
   "cell_type": "markdown",
   "id": "2dbd4457-47eb-4dc7-af77-0169bf66fd8c",
   "metadata": {},
   "source": [
    "[Accueil](../../../index.ipynb) > [Sommaire Première](../../index.ipynb) > [Valeurs booléennes](../4_Valeurs_booleennes.ipynb)"
   ]
  },
  {
   "cell_type": "markdown",
   "id": "4633bb73-7429-431a-b45f-752157b267bb",
   "metadata": {},
   "source": [
    "# Les TPs\n",
    "\n",
    "- [TP Multiplexeur](multiplexeur.ipynb)\n",
    "- [TP Additionneur](additionneur.ipynb)"
   ]
  },
  {
   "cell_type": "markdown",
   "id": "8d61bf99-1fd1-4856-8cca-61036f05ee55",
   "metadata": {},
   "source": [
    "[Accueil](../../../index.ipynb) > [Sommaire Première](../../index.ipynb) > [Valeurs booléennes](../4_Valeurs_booleennes.ipynb)"
   ]
  }
 ],
 "metadata": {
  "kernelspec": {
   "display_name": "Python 3 (ipykernel)",
   "language": "python",
   "name": "python3"
  },
  "language_info": {
   "codemirror_mode": {
    "name": "ipython",
    "version": 3
   },
   "file_extension": ".py",
   "mimetype": "text/x-python",
   "name": "python",
   "nbconvert_exporter": "python",
   "pygments_lexer": "ipython3",
   "version": "3.10.12"
  }
 },
 "nbformat": 4,
 "nbformat_minor": 5
}
