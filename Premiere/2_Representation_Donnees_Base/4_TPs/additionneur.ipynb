{
 "cells": [
  {
   "cell_type": "markdown",
   "id": "74c51e59-e381-4230-b67b-2e7aa62a4482",
   "metadata": {},
   "source": [
    "[Accueil](../../../index.ipynb) > [Sommaire Première](../../index.ipynb) > [Valeurs booléennes](../4_Valeurs_booleennes.ipynb) > [Les TPs](index.ipynb)"
   ]
  },
  {
   "cell_type": "markdown",
   "id": "4ee7bde8-e6f4-4cf8-8d8e-01e09c6f759d",
   "metadata": {},
   "source": []
  },
  {
   "cell_type": "markdown",
   "id": "e0bf2411-d623-4ee1-aebe-ab5751478e01",
   "metadata": {},
   "source": [
    "[Accueil](../../../index.ipynb) > [Sommaire Première](../../index.ipynb) > [Valeurs booléennes](../4_Valeurs_booleennes.ipynb) > [Les TPs](index.ipynb)"
   ]
  }
 ],
 "metadata": {
  "kernelspec": {
   "display_name": "Python 3 (ipykernel)",
   "language": "python",
   "name": "python3"
  },
  "language_info": {
   "codemirror_mode": {
    "name": "ipython",
    "version": 3
   },
   "file_extension": ".py",
   "mimetype": "text/x-python",
   "name": "python",
   "nbconvert_exporter": "python",
   "pygments_lexer": "ipython3",
   "version": "3.10.12"
  }
 },
 "nbformat": 4,
 "nbformat_minor": 5
}
