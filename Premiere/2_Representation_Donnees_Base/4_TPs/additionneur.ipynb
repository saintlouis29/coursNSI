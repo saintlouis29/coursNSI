{
 "cells": [
  {
   "cell_type": "markdown",
   "id": "74c51e59-e381-4230-b67b-2e7aa62a4482",
   "metadata": {},
   "source": [
    "[Accueil](../../../index.ipynb) > [Sommaire Première](../../index.ipynb) > [Valeurs booléennes](../4_Valeurs_booleennes.ipynb) > [Les TPs](index.ipynb)"
   ]
  },
  {
   "cell_type": "markdown",
   "id": "4ee7bde8-e6f4-4cf8-8d8e-01e09c6f759d",
   "metadata": {},
   "source": [
    "# Construction d’un additionneur par propagation de retenue"
   ]
  },
  {
   "cell_type": "markdown",
   "id": "909c0085-9e7e-4c79-bc9d-20f31398482e",
   "metadata": {},
   "source": [
    "## Retour sur le fonctionnement de l’addition\n",
    "\n",
    "Considérons deux valeurs booléennes A et B et intéressons nous à la somme de A et B ainsi qu’à la retenue (*carrier*) $C_{out}$ générée.\n",
    "\n",
    "Voici quelques symboles qui permettent le copier-coller : ⊕\n",
    "\n",
    "Compléter le tableau de vérité suivant:\n"
   ]
  },
  {
   "cell_type": "code",
   "execution_count": 25,
   "id": "ed089ada-ac4b-461a-991d-8acc2a9e0e84",
   "metadata": {
    "jupyter": {
     "source_hidden": true
    },
    "tags": []
   },
   "outputs": [
    {
     "data": {
      "text/html": [
       "\n",
       "<style>\n",
       "table.montableau td, table.montableau th{\n",
       "  border: 1px solid black;\n",
       "}\n",
       "</style>\n",
       "\n",
       "<table class=\"montableau\">\n",
       "  <thead>\n",
       "    <tr>\n",
       "      <th>A</th>\n",
       "      <th>B</th>\n",
       "      <th>$S=A+B$</th>\n",
       "      <th>$C_{out}$</th>\n",
       "    </tr>\n",
       "  </thead>\n",
       "  <tbody>\n",
       "    <tr>\n",
       "      <td>0</td>\n",
       "      <td>0</td>\n",
       "      <td></td>\n",
       "      <td></td>\n",
       "    </tr>\n",
       "    <tr>\n",
       "      <td>0</td>\n",
       "      <td>1</td>\n",
       "      <td></td>\n",
       "      <td></td>\n",
       "    </tr>\n",
       "    <tr>\n",
       "      <td>1</td>\n",
       "      <td>0</td>\n",
       "      <td></td>\n",
       "      <td></td>\n",
       "    </tr>\n",
       "    <tr>\n",
       "      <td>1</td>\n",
       "      <td>1</td>\n",
       "      <td></td>\n",
       "      <td></td>\n",
       "    </tr>\n",
       "  </tbody>\n",
       "</table>\n"
      ],
      "text/plain": [
       "<IPython.core.display.HTML object>"
      ]
     },
     "metadata": {},
     "output_type": "display_data"
    }
   ],
   "source": [
    "%%html\n",
    "\n",
    "<style>\n",
    "table.montableau td, table.montableau th{\n",
    "  border: 1px solid black;\n",
    "}\n",
    "</style>\n",
    "\n",
    "<table class=\"montableau\">\n",
    "  <thead>\n",
    "    <tr>\n",
    "      <th>A</th>\n",
    "      <th>B</th>\n",
    "      <th>$S=A+B$</th>\n",
    "      <th>$C_{out}$</th>\n",
    "    </tr>\n",
    "  </thead>\n",
    "  <tbody>\n",
    "    <tr>\n",
    "      <td>0</td>\n",
    "      <td>0</td>\n",
    "      <td></td>\n",
    "      <td></td>\n",
    "    </tr>\n",
    "    <tr>\n",
    "      <td>0</td>\n",
    "      <td>1</td>\n",
    "      <td></td>\n",
    "      <td></td>\n",
    "    </tr>\n",
    "    <tr>\n",
    "      <td>1</td>\n",
    "      <td>0</td>\n",
    "      <td></td>\n",
    "      <td></td>\n",
    "    </tr>\n",
    "    <tr>\n",
    "      <td>1</td>\n",
    "      <td>1</td>\n",
    "      <td></td>\n",
    "      <td></td>\n",
    "    </tr>\n",
    "  </tbody>\n",
    "</table>"
   ]
  },
  {
   "cell_type": "markdown",
   "id": "3656db2d-c7a0-49d5-9855-7e1d7e6886ac",
   "metadata": {},
   "source": [
    "En déduire les expressions logiques de S et de $C_{out}$"
   ]
  },
  {
   "cell_type": "markdown",
   "id": "e7ef47e7-41f4-4377-b5f1-11b0fefedde0",
   "metadata": {},
   "source": []
  },
  {
   "cell_type": "markdown",
   "id": "229b084f-345f-4cdb-a732-a80828365ebb",
   "metadata": {},
   "source": [
    "## Construction du premier circuit\n",
    "\n",
    "- Allez sur [circuit verse](https://circuitverse.org/simulator)\n",
    "- Connectez-vous\n",
    "- Créez un nouveau **projet** \"additionneur\":\n",
    "- Créez un premier circuit nommé “demi-additionneur”\n",
    "\n",
    "Pour ce premier circuit nous allons avoir besoin:\n",
    "- De deux entrées\n",
    "  - A\n",
    "  - B\n",
    "- De deux sorties\n",
    "  - S\n",
    "  - $C_{out}$\n",
    "- De portes logiques\n",
    "- De fils pour connecter tout cela\n"
   ]
  },
  {
   "cell_type": "markdown",
   "id": "3b9a7b41-8079-4c8a-a859-49371da9b356",
   "metadata": {},
   "source": [
    "*Mettre ici une photo de votre circuit*"
   ]
  },
  {
   "cell_type": "markdown",
   "id": "f81d9048-1e28-4d46-b413-d48dad2467ae",
   "metadata": {},
   "source": [
    "## Additionneur 1 bit\n",
    "\n",
    "Dans la partie précédente, nous avons réalisé un additionneur qui fonctionne uniquement si il n’y a pas retenue en entrée. (comme lorsqu’on additionne les unités)\n",
    "\n",
    "Si on désire réaliser un additionneur 1bit sur n’importe quelle colonne, la somme de deux bits ainsi que la retenue  $C_{out}$ dépendent également de la retenue précédente $C_{in}$.\n",
    "\n",
    "Compléter la table de vérité suivante:"
   ]
  },
  {
   "cell_type": "code",
   "execution_count": 63,
   "id": "f5acd225-eb04-497e-b9bd-39e5de683336",
   "metadata": {
    "jupyter": {
     "source_hidden": true
    },
    "tags": []
   },
   "outputs": [
    {
     "data": {
      "text/html": [
       "\n",
       "<style>\n",
       "table.montableau td, table.montableau th{\n",
       "  border: 1px solid black;\n",
       "  padding:3px 15px;\n",
       "}\n",
       "\n",
       "table.montableau thead{\n",
       "    background-color:#BBB;\n",
       "}\n",
       "</style>\n",
       "\n",
       "<table class=\"montableau\">\n",
       "  <thead>\n",
       "    <tr>\n",
       "      <th colspan=3>Entrées</th>\n",
       "      <th colspan=2>Sorties</th>\n",
       "    </tr>\n",
       "    <tr>\n",
       "      <th>A</th>\n",
       "      <th>B</th>\n",
       "      <th>Cin</th>\n",
       "      <th>S</th>\n",
       "      <th>Cout</th>\n",
       "    </tr>\n",
       "  </thead>\n",
       "  <tbody>\n",
       "    <tr><td>0</td> <td>0</td> <td>0</td> <td>X</td> <td>X</td> </tr>\n",
       "    <tr><td>0</td> <td>0</td> <td>1</td> <td>X</td> <td>X</td> </tr>\n",
       "    <tr><td>0</td> <td>1</td> <td>0</td> <td>X</td> <td>X</td> </tr>\n",
       "    <tr><td>0</td> <td>1</td> <td>1</td> <td>X</td> <td>X</td> </tr>\n",
       "    <tr><td>1</td> <td>0</td> <td>0</td> <td>X</td> <td>X</td> </tr>\n",
       "    <tr><td>1</td> <td>0</td> <td>1</td> <td>X</td> <td>X</td> </tr>\n",
       "    <tr><td>1</td> <td>1</td> <td>0</td> <td>X</td> <td>X</td> </tr>\n",
       "    <tr><td>1</td> <td>1</td> <td>1</td> <td>X</td> <td>X</td> </tr>\n",
       "  </tbody>\n",
       "</table>\n"
      ],
      "text/plain": [
       "<IPython.core.display.HTML object>"
      ]
     },
     "metadata": {},
     "output_type": "display_data"
    }
   ],
   "source": [
    "%%html\n",
    "\n",
    "<style>\n",
    "table.montableau td, table.montableau th{\n",
    "  border: 1px solid black;\n",
    "  padding:3px 15px;\n",
    "}\n",
    "\n",
    "table.montableau thead{\n",
    "    background-color:#BBB;\n",
    "}\n",
    "</style>\n",
    "\n",
    "<table class=\"montableau\">\n",
    "  <thead>\n",
    "    <tr>\n",
    "      <th colspan=3>Entrées</th>\n",
    "      <th colspan=2>Sorties</th>\n",
    "    </tr>\n",
    "    <tr>\n",
    "      <th>A</th>\n",
    "      <th>B</th>\n",
    "      <th>Cin</th>\n",
    "      <th>S</th>\n",
    "      <th>Cout</th>\n",
    "    </tr>\n",
    "  </thead>\n",
    "  <tbody>\n",
    "    <tr><td>0</td> <td>0</td> <td>0</td> <td>X</td> <td>X</td> </tr>\n",
    "    <tr><td>0</td> <td>0</td> <td>1</td> <td>X</td> <td>X</td> </tr>\n",
    "    <tr><td>0</td> <td>1</td> <td>0</td> <td>X</td> <td>X</td> </tr>\n",
    "    <tr><td>0</td> <td>1</td> <td>1</td> <td>X</td> <td>X</td> </tr>\n",
    "    <tr><td>1</td> <td>0</td> <td>0</td> <td>X</td> <td>X</td> </tr>\n",
    "    <tr><td>1</td> <td>0</td> <td>1</td> <td>X</td> <td>X</td> </tr>\n",
    "    <tr><td>1</td> <td>1</td> <td>0</td> <td>X</td> <td>X</td> </tr>\n",
    "    <tr><td>1</td> <td>1</td> <td>1</td> <td>X</td> <td>X</td> </tr>\n",
    "  </tbody>\n",
    "</table>"
   ]
  },
  {
   "cell_type": "markdown",
   "id": "a5b3575a-9c6e-4357-b039-7bac91fff616",
   "metadata": {},
   "source": [
    "Pour la somme S, cela revient à additionner A, B et $C_{in}$.\n",
    "\n",
    "Nous avons vu précédemment que le résultat pour additionner A et B est A⊕B.\n",
    "\n",
    "On a donc : "
   ]
  },
  {
   "cell_type": "markdown",
   "id": "5f12f431-3cb9-4c16-8068-9de244b2702c",
   "metadata": {},
   "source": [
    "$ S= $"
   ]
  },
  {
   "cell_type": "markdown",
   "id": "c07c9ba0-1f7d-40e1-852d-8e51602736d0",
   "metadata": {},
   "source": [
    "Pour $C_{out}$  , regardons, dans la table de vérité, les valeurs pour lesquelles on a 1:\n",
    "\n",
    "$C_{out} = \\overline{A}.B.C + A.\\overline{B}.C + A.B.\\overline{C} + A.B.C$\n",
    "\n",
    "Regrouper les termes 1 et 2 ensemble.\n",
    "Regrouper les termes 3 et 4 ensemble.\n",
    "\n",
    "On obtient donc :\n"
   ]
  },
  {
   "cell_type": "markdown",
   "id": "8b4e50a6-1723-4788-b21d-091f45c31be4",
   "metadata": {},
   "source": [
    "$ C_{out} = ... $"
   ]
  },
  {
   "cell_type": "markdown",
   "id": "05bb667b-bbc5-4adc-8587-f59730c9bba6",
   "metadata": {},
   "source": [
    "**En regardant les opérateurs nécessaires pour réaliser un additionneur 1 bit, on réalise qu’il nous faut 2 demi-additionneurs et une porte logique OU.**"
   ]
  },
  {
   "cell_type": "markdown",
   "id": "43893696-bcdb-4b03-b3fe-4ca66ebada1c",
   "metadata": {},
   "source": [
    "## Construction du circuit additionneur 1 bit\n",
    "\n",
    "- Retournez sur circuit verse, \n",
    "- Créez un deuxième circuit nommé “*additionneur 1 bit*”\n",
    "\n",
    "Vous aurez besoin :\n",
    "\n",
    " - de 3 entrées\n",
    "   - A\n",
    "   - B\n",
    "   - $C_{in}$\n",
    " - de 2 sorties\n",
    "   - S\n",
    "   - $C_{out}$\n",
    " - d'un 2 demi additionneur (clic droit > insert sub-circuit)\n",
    " - d'une porte logique OU\n",
    " - de fils, beaucoup...\n",
    "\n",
    "**Relier les composants afin de réaliser votre additionneur 1 bit**\n"
   ]
  },
  {
   "cell_type": "markdown",
   "id": "1f56a54d-e7eb-4748-8e03-43b196f74951",
   "metadata": {},
   "source": [
    "*Mettre ici une photo de votre circuit*"
   ]
  },
  {
   "cell_type": "markdown",
   "id": "25c1534e-422a-45da-99f9-2d6739f43fb2",
   "metadata": {},
   "source": [
    "## Construction du circuit additionneur 4 bits\n",
    "\n",
    "Créez un troisième circuit nommé “*additionneur 4 bits*”\n",
    "\n",
    "Vous aurez besoin:\n",
    " - De 2 entrées\n",
    "   - A\n",
    "   - B\n",
    " - de 3 splitters 4 bits (choisir bandwith 4 puis 1 1 1 1 ) (avec des espaces entre les 1)\n",
    " - De 4 additionneurs 1 bit\n",
    " - De 2 sorties\n",
    "   - S (4 bits)\n",
    "   - $C_{out}$\n",
    " - de fils..."
   ]
  },
  {
   "cell_type": "markdown",
   "id": "86ac514d-2117-4768-b8ee-40093d7823b1",
   "metadata": {},
   "source": [
    "*Mettre ici une photo de votre circuit*"
   ]
  },
  {
   "cell_type": "markdown",
   "id": "9a20c664-f037-4887-adff-65a942269c6b",
   "metadata": {},
   "source": [
    "<div class=\"alert alert-info\">\n",
    "Vous avez réalisé un additionneur 4 bits par <b>propagation de la retenue</b> à chaque sortie des additionneurs 1 bit. Ce circuit est le plus simple car il est calqué sur l’algorithme manuel de l’addition.<br/>\n",
    "En mettant en cascade des additionneurs 1 bit nous avons obtenu un additionneur k bits appelé <b>additionneur par propagation de la retenue</b>.<br/>\n",
    "    Le nombre de circuits nécessaires pour réaliser un additionneur <i>k bits</i> est proportionnel à <i>k</i>, et le temps de la propagation de la retenue également.<br/>\n",
    "Pour cette raison, ce type d’additionneur n’est pas utilisé pour des processeurs 16, 32 ou 64 bits.<br/>\n",
    "Il peut être utilisé pour des petits nombres de bits comme 4 et sert de brique de base à des additionneurs plus sophistiqués qui ne seront pas abordés ici.<br/><br/>\n",
    "L’addition étant une des opérations de base, il est nécessaire d’optimiser les circuits afin que cette opération soit effectuée rapidement en utilisant le moins de portes logiques possibles.<br/>\n",
    "D’où les <a href=\"https://www.irif.fr/~carton/Enseignement/Architecture/Cours/Adders/\">optimisations effectuées pour réaliser des additions sur de grands nombres</a> (16, 32, 64, 128… bits).\n",
    "</div>"
   ]
  },
  {
   "cell_type": "markdown",
   "id": "e0bf2411-d623-4ee1-aebe-ab5751478e01",
   "metadata": {},
   "source": [
    "[Accueil](../../../index.ipynb) > [Sommaire Première](../../index.ipynb) > [Valeurs booléennes](../4_Valeurs_booleennes.ipynb) > [Les TPs](index.ipynb)"
   ]
  }
 ],
 "metadata": {
  "kernelspec": {
   "display_name": "Python 3 (ipykernel)",
   "language": "python",
   "name": "python3"
  },
  "language_info": {
   "codemirror_mode": {
    "name": "ipython",
    "version": 3
   },
   "file_extension": ".py",
   "mimetype": "text/x-python",
   "name": "python",
   "nbconvert_exporter": "python",
   "pygments_lexer": "ipython3",
   "version": "3.10.12"
  }
 },
 "nbformat": 4,
 "nbformat_minor": 5
}
