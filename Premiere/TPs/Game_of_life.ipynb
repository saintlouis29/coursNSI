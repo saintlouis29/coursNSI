{
 "cells": [
  {
   "cell_type": "markdown",
   "id": "27d4c349-6188-41be-937c-6446587067ea",
   "metadata": {},
   "source": [
    "[Retour au sommaire](../index.ipynb)"
   ]
  },
  {
   "cell_type": "markdown",
   "id": "862b581f-16a5-4839-be8b-a6999486ee08",
   "metadata": {},
   "source": [
    "# Le jeu de la vie (Game of Life)\n",
    "<figure style=\"margin:10px 50px 10px 0px\">\n",
    "    <img src=\"https://upload.wikimedia.org/wikipedia/commons/e/e5/Gospers_glider_gun.gif\"\n",
    "         alt=\"Le jeu de la vie\"\n",
    "         title=\"Le jeu de la vie\"\n",
    "         >\n",
    "</figure>\n",
    "\n",
    "<figure style=\"float:left; margin:10px 50px 10px 0px; width:150px\">\n",
    "    <img style=\"border:1px solid black\"\n",
    "         src=\"img/john_conway.webp\"\n",
    "         alt=\"John Conway\"\n",
    "         title=\"John Conway\"\n",
    "         >\n",
    "    <figcaption>John Conway (1937-2020)</figcaption>\n",
    "</figure>\n",
    "\n",
    "Le jeu de la vie, *Game of Life*, est un jeu à zéro joueur imaginé par [John Conway](https://fr.wikipedia.org/wiki/John_Horton_Conway) en 1970.\n",
    "\n",
    "C'est un automate cellulaire dans lequel l'état actuel conduit irrémédiablement à un état suivant déterminé à partir de règles préétablies.\n",
    "\n",
    "## Rêgles\n",
    "\n",
    "Le jeu se déroule sur une grille à deux dimensions dont les celulles peuvent prendre deux états distincts : \"vivant\" ou \"mort\".\n",
    "Chaque cellule possède 8 voisins, à chaque itération l'état d'une cellule dépend de celle de ses 8 voisines selon des rêgles très simples:\n",
    "\n",
    "- **Naissance** : Une cellule morte avec exactement 3 voisines vivantes devient vivante.\n",
    "- **Survie** : Une cellule vivante avec 2 ou 3 voisines vivantes reste vivante.\n",
    "- **Mort** : Dans tous les autres cas, la cellule meurt ou reste morte."
   ]
  },
  {
   "cell_type": "markdown",
   "id": "9f61c7ce-3b4d-4e3e-8e3b-9d43e3daeab0",
   "metadata": {},
   "source": [
    "## Activation d'un python virtuel\n",
    "\n",
    "- source le/chemin/de/votre/python/bin/activate\n",
    "- configurer ce même interpréteur dans votre IDE.\n",
    "\n",
    "## Installation du squelette du projet depuis github\n",
    "\n",
    "Vous n'allez pas partir de zéro. \n",
    "\n",
    "- Aller sur https://github.com/saintlouis29/game_of_life et créer un fork de ce dépôt.\n",
    "- Dans un terminal, créer un clone de votre nouveau dépôt : *git clone adresse_de_votre_depot.git*\n",
    "- Aller dans le dossier local du projet *game_of_life*.\n",
    "- Installer le module par la commande \"  *pip3 install -e .*   \", normalement dans votre interpréteur python un *import game_of_life* devrait fonctionner.\n",
    "\n",
    "## Génération de la documentation\n",
    "\n",
    "- Toujours avec votre terminal, aller dans le dossier docs : *cd docs*\n",
    "- Lancer la commande *make html*.\n",
    "- Lire ce qui est généré et ouvrir le fichier *index.html* qui vient d'être généré avec un navigateur web.\n",
    "\n",
    "## Lancement des tests unitaires\n",
    "\n",
    "- Ouvrir le fichier *test_game_of_life.py* et l'exécuter.\n",
    "- **Les tests ne passent pas, c'est normal** : il va falloir implémenter les différentes fonctions."
   ]
  },
  {
   "cell_type": "markdown",
   "id": "1b4dcf48-34c7-4eba-8b9c-1444da3b08e8",
   "metadata": {},
   "source": [
    "## Création de la grille initiale vide\n",
    "\n",
    "Implémenter la fonction *create_grid(size)* qui retourne une matrice carrée (un tableau de tableaux) de taille *size*  dont les valeurs sont toutes à **False**. Je vous encourage fortement d'utiliser une *liste par compréhension* afin de générer cette matrice en une seule ligne.\n",
    "\n",
    "**Lancer les tests.**\n",
    "\n",
    "<div class=\"alert alert-warning\">\n",
    "Si les tests de <i>create_grid(size)</i> passent, vous pouvez ajouter vos changements et commiter.\n",
    "    <ul>\n",
    "        <li>git add game_of_life.py</li>\n",
    "        <li>git commit -m \"implementation de create_grid\"</li>\n",
    "    </ul>\n",
    "</div>"
   ]
  },
  {
   "cell_type": "markdown",
   "id": "ebf90fee-7b0b-4696-abbd-5b171bba480c",
   "metadata": {},
   "source": [
    "## Calcul de la matrice des voisins\n",
    "\n",
    "Implémenter la fonction *get_neighbours(grid)* qui prend en paramètre une grille de jeu et retourne la matrice du nombre de voisins.\n",
    "\n",
    "<div class=\"alert alert-info\">\n",
    "    /!\\ on considère que les cellules de la première ligne sont voisines des cellules de la dernière ligne, de même pour les colonnes. On dit que la grille est <strong>torique</strong>.\n",
    "</div>\n",
    "\n",
    "\n",
    "\n",
    "**Exemples**\n",
    "<table>\n",
    "<tr>\n",
    "<td>\n",
    "<table>\n",
    "    <tr><td>□</td><td>□</td><td>□</td></tr>\n",
    "    <tr><td>□</td><td>□</td><td>□</td></tr>\n",
    "    <tr><td>□</td><td>□</td><td>□</td></tr>\n",
    "</table>\n",
    "</td>\n",
    "<td>\n",
    "a pour matrice de voisinage \n",
    "</td>\n",
    "<td>\n",
    "<table>\n",
    "    <tr><td>0</td><td>0</td><td>0</td></tr>\n",
    "    <tr><td>0</td><td>0</td><td>0</td></tr>\n",
    "    <tr><td>0</td><td>0</td><td>0</td></tr>\n",
    "</table>\n",
    "</td>\n",
    "</tr>\n",
    "</table>\n",
    "\n",
    "<table>\n",
    "<tr>\n",
    "<td>\n",
    "<table>\n",
    "    <tr><td>■</td><td>■</td><td>■</td></tr>\n",
    "    <tr><td>■</td><td>■</td><td>■</td></tr>\n",
    "    <tr><td>■</td><td>■</td><td>■</td></tr>\n",
    "</table>\n",
    "</td>\n",
    "<td>\n",
    "a pour matrice de voisinage \n",
    "</td>\n",
    "<td>\n",
    "<table>\n",
    "    <tr><td>8</td><td>8</td><td>8</td></tr>\n",
    "    <tr><td>8</td><td>8</td><td>8</td></tr>\n",
    "    <tr><td>8</td><td>8</td><td>8</td></tr>\n",
    "</table>\n",
    "</td>\n",
    "</tr>\n",
    "</table>\n",
    "\n",
    "<table>\n",
    "<tr>\n",
    "<td>\n",
    "<table>\n",
    "    <tr><td>□</td><td>□</td><td>□</td></tr>\n",
    "    <tr><td>□</td><td>■</td><td>□</td></tr>\n",
    "    <tr><td>□</td><td>□</td><td>□</td></tr>\n",
    "</table>\n",
    "</td>\n",
    "<td>\n",
    "a pour matrice de voisinage \n",
    "</td>\n",
    "<td>\n",
    "<table>\n",
    "    <tr><td>1</td><td>1</td><td>1</td></tr>\n",
    "    <tr><td>1</td><td>0</td><td>1</td></tr>\n",
    "    <tr><td>1</td><td>1</td><td>1</td></tr>\n",
    "</table>\n",
    "</td>\n",
    "</tr>\n",
    "</table>\n",
    "\n",
    "<table>\n",
    "<tr>\n",
    "<td>\n",
    "<table>\n",
    "    <tr><td>■</td><td>■</td><td>□</td></tr>\n",
    "    <tr><td>□</td><td>■</td><td>□</td></tr>\n",
    "    <tr><td>□</td><td>□</td><td>□</td></tr>\n",
    "</table>\n",
    "</td>\n",
    "<td>\n",
    "a pour matrice de voisinage \n",
    "</td>\n",
    "<td>\n",
    "<table>\n",
    "    <tr><td>2</td><td>2</td><td>3</td></tr>\n",
    "    <tr><td>3</td><td>2</td><td>3</td></tr>\n",
    "    <tr><td>3</td><td>3</td><td>3</td></tr>\n",
    "</table>\n",
    "</td>\n",
    "</tr>\n",
    "</table>\n",
    "\n"
   ]
  },
  {
   "cell_type": "markdown",
   "id": "54a81363-596c-4c28-92ca-89637f77eb19",
   "metadata": {},
   "source": [
    "**A savoir**"
   ]
  },
  {
   "cell_type": "code",
   "execution_count": 2,
   "id": "c2791933-3800-4b5e-b611-9e43a323007b",
   "metadata": {},
   "outputs": [
    {
     "data": {
      "text/plain": [
       "2"
      ]
     },
     "execution_count": 2,
     "metadata": {},
     "output_type": "execute_result"
    }
   ],
   "source": [
    "sum([True, False, True])"
   ]
  },
  {
   "cell_type": "markdown",
   "id": "1709969c-9b61-47c6-b743-3f7636236447",
   "metadata": {},
   "source": [
    "**Astuce**\n",
    "\n",
    "Pour trouver les voisins opposés on peut utiliser le reste de la division euclienne. Imaginons un tableau de 3 éléments c'est à dire des index variant de 0 à 2:"
   ]
  },
  {
   "cell_type": "code",
   "execution_count": 5,
   "id": "deabd6d4-7972-48e1-8646-d6a56107b73d",
   "metadata": {},
   "outputs": [
    {
     "data": {
      "text/plain": [
       "2"
      ]
     },
     "execution_count": 5,
     "metadata": {},
     "output_type": "execute_result"
    }
   ],
   "source": [
    "-1%3"
   ]
  },
  {
   "cell_type": "code",
   "execution_count": 7,
   "id": "1a9aa7f7-25fb-467b-8843-bc26cd7588eb",
   "metadata": {},
   "outputs": [
    {
     "data": {
      "text/plain": [
       "0"
      ]
     },
     "execution_count": 7,
     "metadata": {},
     "output_type": "execute_result"
    }
   ],
   "source": [
    "3%3"
   ]
  },
  {
   "cell_type": "markdown",
   "id": "5a84d0b5-d4eb-47ab-b003-dcbb510de68f",
   "metadata": {},
   "source": [
    "<table>\n",
    "    <tr>\n",
    "        <td><i>-1</i></td>\n",
    "        <td><strong>0</strong></td>\n",
    "        <td><strong>1</strong></td>\n",
    "        <td><strong>2</strong></td>\n",
    "        <td><i>3</i></td>\n",
    "    </tr>\n",
    "    <tr>\n",
    "        <td><i style=\"color:red\">False</i></td>\n",
    "        <td style=\"border:1px solid black\"><strong style=\"color:blue\">True</strong></td>\n",
    "        <td style=\"border:1px solid black\"><strong>False</strong></td>\n",
    "        <td style=\"border:1px solid black\"><strong style=\"color:red\">False</strong></td>\n",
    "        <td><i style=\"color:blue\">True</i></td>\n",
    "    </tr>\n",
    "</table>\n",
    "\n",
    "**Lancer les tests.**\n",
    "\n",
    "<div class=\"alert alert-warning\">\n",
    "Si les tests de <i>get_neighbours(grid)</i> passent, vous pouvez ajouter vos changements et commiter.\n",
    "    <ul>\n",
    "        <li>git add game_of_life.py</li>\n",
    "        <li>git commit -m \"implementation de get_neighbours\"</li>\n",
    "    </ul>\n",
    "</div>"
   ]
  },
  {
   "cell_type": "markdown",
   "id": "9de613e0-4b6f-452e-a8a0-2f8223735695",
   "metadata": {},
   "source": [
    "## Calcul de l'état suivant\n",
    "\n",
    "Implémenter la fonction *get_next_grid(grid)* qui prend en paramètre *grid* : une grille de jeu et retourne la grille modifiée.\n",
    "\n",
    "Cette fonction appelle *get_neighbours(grid)* implémentée précédement.\n",
    "\n",
    "**Lancer les tests.**\n",
    "\n",
    "<div class=\"alert alert-warning\">\n",
    "Si les tests de <i>get_next_grid(grid)</i> passent, vous pouvez ajouter vos changements et commiter.\n",
    "    <ul>\n",
    "        <li>git add game_of_life.py</li>\n",
    "        <li>git commit -m \"implementation de get_next_grid\"</li>\n",
    "    </ul>\n",
    "</div>\n",
    "\n",
    "\n",
    "Vérifier la **couverture** de votre code avec la commande suivante:\n",
    "\n",
    "```\n",
    "pytest -v --cov=game_of_life test_game_of_life.py\n",
    "```"
   ]
  },
  {
   "cell_type": "markdown",
   "id": "2c2087ca-0a3d-4788-b250-c38053fcccf8",
   "metadata": {},
   "source": [
    "## Affichage d'une grille\n",
    "\n",
    "Implémenter la fonction *display_grid(grid)* qui **retourne** la string représentant la grille *grid*.\n",
    "\n",
    "**Rêgles**\n",
    "\n",
    "- Pour les cellules **vivantes** on utilise le caractère ■\n",
    "- Pour les cellules **mortes** on utilise le caractère □\n",
    "- Un espace entre chaque cellule\n",
    "- Un retour à la ligne \\n entre chaque ligne.\n",
    "\n",
    "<div class = \"alert alert-info\">\n",
    "    <b>Défi</b> : Il est possible de coder cette fonction en une seule ligne en utilisant 2 listes par compréhension imbriquées et la fonction <i>join</i>.\n",
    "</div>\n",
    "\n",
    "**Lancer les tests.**\n",
    "\n",
    "<div class=\"alert alert-warning\">\n",
    "Si les tests de <i>display_grid(grid)</i> passent, vous pouvez ajouter vos changements et commiter.\n",
    "    <ul>\n",
    "        <li>git add game_of_life.py</li>\n",
    "        <li>git commit -m \"implementation de display_grid\"</li>\n",
    "    </ul>\n",
    "</div>\n"
   ]
  },
  {
   "cell_type": "markdown",
   "id": "c4933eaa-4067-4763-b537-f77810facebe",
   "metadata": {},
   "source": [
    "## Un peu de hasard...\n",
    "\n",
    "modifier la fonction *create_grid* en lui ajoutant un paramètre optionnel *randomize* qui vaut *False* par défaut.\n",
    "\n",
    "Si *randomize* vaut *True*, la valeur de chaque cellule vaut, au hasard, *True* ou *False*.\n",
    "\n",
    "On pourra utiliser *random.choice([True, False])*\n",
    "<div class=\"alert alert-danger\">\n",
    "Il est difficile de créer des nouveaux tests pour ce cas de figure car il y a du hasard. Mais il est <strong>nécessaire que les anciens tests continuent de fonctionner</strong>.\n",
    "</div>"
   ]
  },
  {
   "cell_type": "markdown",
   "id": "c4785ec3-3a56-434a-8c12-c6d525fdd580",
   "metadata": {},
   "source": [
    "### Premier visualisation\n",
    "\n",
    "\n",
    "- Ajouter ces lignes en bas du fichier:\n",
    "\n",
    "```\n",
    "if __name__ == \"__main__\":\n",
    "    g = create_grid(20, randomize=True)\n",
    "    while True:\n",
    "        os.system('cls' if os.name == 'nt' else 'clear')\n",
    "        print(display_grid(g))\n",
    "        time.sleep(0.5)\n",
    "        g = get_next_grid(g)\n",
    "```\n",
    "\n",
    "- Executer le fichier.\n",
    "\n",
    "  Heureux?"
   ]
  },
  {
   "cell_type": "markdown",
   "id": "52703bf2-d808-40e1-bb7d-7a5c4f96acd2",
   "metadata": {},
   "source": [
    "## Pourcentage de couverture de vos tests\n",
    "\n",
    "Le plugin [pycov](https://pytest-cov.readthedocs.io/en/latest/) de la librairie *pytest* génère un rapport qui permet de mesurer la couverture de code de vos tests. La couverture de code indique quelles parties de votre code sont exécutées pendant les tests et quelles parties ne le sont pas. Cela vous aide à identifier les zones de votre code qui ne sont pas testées.\n",
    "\n",
    "Vérifier la **couverture** de votre code avec la commande suivante:\n",
    "\n",
    "```\n",
    "pytest -v --cov=game_of_life test_game_of_life.py\n",
    "```\n",
    "\n",
    "Un rapport détaillé au format html peut être généré par la commande suivante:\n",
    "\n",
    "```\n",
    "pytest -v --cov=game_of_life --cov-report=html test_game_of_life.py\n",
    "```"
   ]
  },
  {
   "cell_type": "markdown",
   "id": "c39dcd24-0d3d-49c3-97c7-7b53a88cb09c",
   "metadata": {},
   "source": [
    "## Ajout de structures\n",
    "\n",
    "Le but ici est de pouvoir ajouter des structures à la grille.\n",
    "\n",
    "- Lire attentivement les docstrings de la fonction add_structure(grid, structure, x=0, y=0)\n",
    "- **Avant d'implémenter** : **créer des tests** qui vont vérifier ce que votre fonction est censée faire.\n",
    "- **Uniquement si les tests sont écrits** : implémenter la fonction *add_structure*\n",
    "\n",
    "**Lancer les tests.**\n",
    "\n",
    "<div class=\"alert alert-warning\">\n",
    "Si les tests de <i>add_structure(grid, structure, x=0, y=0)</i> passent, vous pouvez ajouter vos changements et commiter.\n",
    "    <ul>\n",
    "        <li>git add game_of_life.py</li>\n",
    "        <li>git commit -m \"implementation de add_structure\"</li>\n",
    "    </ul>\n",
    "</div>\n",
    "\n",
    "\n",
    "Vérifier la **couverture** de votre code avec la commande suivante:\n",
    "\n",
    "```\n",
    "pytest -v --cov=game_of_life test_game_of_life.py\n",
    "```\n",
    "\n",
    "Il existe quelques structures prédéfinies dans le fichier *game_of_life_structures.py*.\n",
    "\n",
    "Voici un exemple de leur utilisation.\n",
    "\n",
    "- Ajouter l'import dans le haut du fichier\n",
    "\n",
    "```\n",
    "from game_of_life_structures import STRUCTURES\n",
    "```\n",
    "\n",
    "- Ajouter ces lignes en bas du fichier:\n",
    "\n",
    "```\n",
    "if __name__ == \"__main__\":\n",
    "    g = create_grid(30, randomize=False)\n",
    "    add_structure(g, STRUCTURES[\"glider\"])\n",
    "    add_structure(g, STRUCTURES[\"lwss\"], x= 10, y=8)\n",
    "    while True:\n",
    "        os.system('cls' if os.name == 'nt' else 'clear')\n",
    "        print(display_grid(g))\n",
    "        time.sleep(0.1)\n",
    "        g = get_next_grid(g)\n",
    "```"
   ]
  },
  {
   "cell_type": "markdown",
   "id": "3fabf19b-674c-49fb-8d35-9a8dc9a78696",
   "metadata": {},
   "source": [
    "## Idées d'améliorations\n",
    "\n",
    "- Ajouter un paramètre par défaut *toric=False* dans les fonctions *get_neighbours* et *add_structure*. Le but étant de pouvoir faire un jeu de la vie torique ou non;\n",
    "- Pouvoir faire des rotations et symétries aux structures;\n",
    "- Augmenter la vitesse de calcul en utilisant [numpy](https://numpy.org/);\n",
    "- Faire un autre projet de GUI en utilisant pygame;\n",
    "- ..."
   ]
  },
  {
   "cell_type": "markdown",
   "id": "69c493d2-c2d0-4d7b-a3d6-c41472893b59",
   "metadata": {},
   "source": [
    "## Liens utiles\n",
    "\n",
    "- Beaucoup de structures sur [Life lexicon](https://conwaylife.com/ref/lexicon/lex.htm)"
   ]
  },
  {
   "cell_type": "markdown",
   "id": "555fa2a2-6fe9-471e-9130-318960a55ef3",
   "metadata": {},
   "source": [
    "[Retour au sommaire](../index.ipynb)"
   ]
  },
  {
   "cell_type": "code",
   "execution_count": null,
   "id": "d9cf3b99-5d15-45e2-b3a4-7cf76e430434",
   "metadata": {},
   "outputs": [],
   "source": []
  }
 ],
 "metadata": {
  "kernelspec": {
   "display_name": "Python 3 (ipykernel)",
   "language": "python",
   "name": "python3"
  },
  "language_info": {
   "codemirror_mode": {
    "name": "ipython",
    "version": 3
   },
   "file_extension": ".py",
   "mimetype": "text/x-python",
   "name": "python",
   "nbconvert_exporter": "python",
   "pygments_lexer": "ipython3",
   "version": "3.12.3"
  }
 },
 "nbformat": 4,
 "nbformat_minor": 5
}
