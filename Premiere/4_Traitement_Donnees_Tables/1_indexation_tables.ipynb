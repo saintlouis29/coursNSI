{
 "cells": [
  {
   "cell_type": "markdown",
   "metadata": {},
   "source": [
    "[Accueil](../../index.ipynb) > [NSI Premiere](../index.ipynb)"
   ]
  },
  {
   "cell_type": "markdown",
   "metadata": {
    "tags": []
   },
   "source": [
    "# Traitement de données en tables : indexation"
   ]
  },
  {
   "cell_type": "markdown",
   "metadata": {
    "toc-hr-collapsed": true
   },
   "source": [
    "## Le format CSV\n",
    "\n",
    "Le format csv pour \"**C**omma **S**eparated **V**alues\" (valeurs séparées par virgule) est un format de fichier texte très courant pour le **stockage de données tabulées**.\n",
    "\n",
    "Chaque ligne du fichier correspond à une ligne du tableau et les virgules sont les séparations entre les colonnes.\n",
    "\n",
    "Exemple de contenu d’un fichier csv\n",
    "```\n",
    "Sexe,Prénom,Année de naissance\n",
    "M,Alphonse,1932\n",
    "F,Béatrice,1964\n",
    "F,Charlotte,1988\n",
    "```\n",
    "<div class=\"alert alert-info\">\n",
    "Il n’existe pas vraiment de spécifications de format.\n",
    "Parfois les séparateurs sont des points virgules. (pour éviter les , qui sont utilisés comme signe de la décimale en France)\n",
    "Parfois les champs sont délimités par des guillemets.\n",
    "</div>\n",
    "\n",
    "Exemple de contenu d'un fichier csv où les données sont séparées par des ;\n",
    "\n",
    "```\n",
    "\"Michel\";\"Durand\";\"89 av. de la Ferme\";\"Chateaulin\";\"France\"\n",
    "\"Robert\";\"Dugenou\";\"2 rue des oiseaux\";\"Saint-Segal\";\"France\"\n",
    "\"Gertrude\";\"Dupond\";\"rue de la goye\";\"Muflin\";\"Groland (du bas)\"\n",
    "```\n",
    "De nombreuses données sont présentes sur le web sous cette forme :\n",
    "- [data.gouv.fr](https://www.data.gouv.fr) : Plateforme ouverte des données publiques françaises\n",
    "- [kaggle.com](https://www.kaggle.com/datasets) : une base de données pour la science\n",
    "- [stats.nz](https://www.stats.govt.nz/large-datasets/csv-files-for-download/)  : Le site de statistiques du gouvernement néo zélandais\n",
    "- ..."
   ]
  },
  {
   "cell_type": "markdown",
   "metadata": {},
   "source": [
    "### Ouverture par un tableur\n",
    "\n",
    "- Allez sur cette url : [https://www.data.gouv.fr/fr/datasets/colleges-du-finistere/](https://geobretagne.fr/geoserver/cd29/wfs?SERVICE=WFS&REQUEST=GetFeature&VERSION=2.0.0&TYPENAMES=cd29%3Acolleges_29&OUTPUTFORMAT=csv)\n",
    "- Téléchargez le fichier\n",
    "- Ouvrez le avec libre office calc\n",
    "  - Précisez le bon encodage (UTF-8)\n",
    "  - Précisez le bon séparateur : les points virgules\n",
    "\n",
    "![](img/csv-libreoffice.png)\n",
    "\n",
    "Les tableurs peuvent **importer** des fichiers csv mais également **exporter** au format csv.\n",
    "\n",
    "- Quels sont les descripteurs des colonnes ?\n",
    "- Combien de lignes sont dans cette collection ?\n",
    "- Quel est le caractère pour délimiter les colonnes ?\n",
    "- Trouvez votre lycée."
   ]
  },
  {
   "cell_type": "markdown",
   "metadata": {},
   "source": [
    "### Ouverture avec un éditeur de texte\n",
    "\n",
    "Ouvrez ce même fichier avec un éditeur de texte.\n",
    "\n",
    "Vous devriez obtenir ce type de résultat.\n",
    "\n",
    "![](img/csv-editeur.png)"
   ]
  },
  {
   "cell_type": "markdown",
   "metadata": {
    "toc-hr-collapsed": true
   },
   "source": [
    "### CSV avec Python\n",
    "\n",
    "Lorsque nous traitons des données avec Python (listes, tuples, dictionnaires....) lorsque  le programme s'arrête les données sont perdues.\n",
    "\n",
    "Le **stockage** des données dans un **fichier csv** permet de **conserver les données de façon pérenne**.\n",
    "\n",
    "Voici les étapes que nous allons réaliser avec Python :\n",
    "\n",
    "- Téléchargement d'un fichier csv\n",
    "- Ouverture du fichier csv (les données sont alors écrites en mémoire RAM)\n",
    "- Utilisation d'une bibliothèque Python adaptée pour le csv\n",
    "- Lecture des données\n",
    "- Modification des données\n",
    "- Fermeture du fichier\n",
    "\n",
    "Utiliser un IDE Python pour l'ensemble de ces actions."
   ]
  },
  {
   "cell_type": "markdown",
   "metadata": {},
   "source": [
    "#### Accéder aux données avec le module request\n",
    "\n",
    "Pour télécharger un fichier csv depuis une URL, nous allons utiliser la bibliothèque [requests](https://docs.python-requests.org/en/latest/).\n",
    "Ensuite nous allons ouvir un fichier vide en mode **écriture** 'w' : voir la fonction native [open](https://docs.python.org/fr/3/library/functions.html#open)\n",
    "Puis nous allons écrire les données dans ce fichier."
   ]
  },
  {
   "cell_type": "code",
   "execution_count": null,
   "metadata": {},
   "outputs": [],
   "source": [
    "import requests\n",
    "\n",
    "url = \"https://www.data.gouv.fr/fr/datasets/r/a1075259-09ca-4c22-9e35-b2cd6bbf5c36\"\n",
    "data = requests.get(url).content\n",
    "print(data)"
   ]
  },
  {
   "cell_type": "markdown",
   "metadata": {
    "tags": []
   },
   "source": [
    "#### utilisation du module csv\n",
    "Python possède une [bibliothèque csv](https://docs.python.org/fr/3/library/csv.html) qui permet de lire et écrire des données dans ce format.\n"
   ]
  },
  {
   "cell_type": "markdown",
   "metadata": {
    "tags": []
   },
   "source": [
    "La [bibliothèque csv](https://docs.python.org/fr/3/library/csv.html) est assez complète mais pour des besoins d'**apprentissage** nous allons utiliser également une **bibliothèque d'analyse de données**, [la bibliothèque pandas](https://pandas.pydata.org/)."
   ]
  },
  {
   "cell_type": "markdown",
   "metadata": {},
   "source": [
    "#### Utilisation de la bibliothèque pandas"
   ]
  },
  {
   "cell_type": "code",
   "execution_count": 8,
   "metadata": {},
   "outputs": [
    {
     "data": {
      "text/html": [
       "<div>\n",
       "<style scoped>\n",
       "    .dataframe tbody tr th:only-of-type {\n",
       "        vertical-align: middle;\n",
       "    }\n",
       "\n",
       "    .dataframe tbody tr th {\n",
       "        vertical-align: top;\n",
       "    }\n",
       "\n",
       "    .dataframe thead th {\n",
       "        text-align: right;\n",
       "    }\n",
       "</style>\n",
       "<table border=\"1\" class=\"dataframe\">\n",
       "  <thead>\n",
       "    <tr style=\"text-align: right;\">\n",
       "      <th></th>\n",
       "      <th>Survived</th>\n",
       "      <th>Pclass</th>\n",
       "      <th>Name</th>\n",
       "      <th>Sex</th>\n",
       "      <th>Age</th>\n",
       "      <th>Siblings/Spouses Aboard</th>\n",
       "      <th>Parents/Children Aboard</th>\n",
       "      <th>Fare</th>\n",
       "    </tr>\n",
       "  </thead>\n",
       "  <tbody>\n",
       "    <tr>\n",
       "      <th>0</th>\n",
       "      <td>0</td>\n",
       "      <td>3</td>\n",
       "      <td>Mr. Owen Harris Braund</td>\n",
       "      <td>male</td>\n",
       "      <td>22.0</td>\n",
       "      <td>1</td>\n",
       "      <td>0</td>\n",
       "      <td>7.2500</td>\n",
       "    </tr>\n",
       "    <tr>\n",
       "      <th>1</th>\n",
       "      <td>1</td>\n",
       "      <td>1</td>\n",
       "      <td>Mrs. John Bradley (Florence Briggs Thayer) Cum...</td>\n",
       "      <td>female</td>\n",
       "      <td>38.0</td>\n",
       "      <td>1</td>\n",
       "      <td>0</td>\n",
       "      <td>71.2833</td>\n",
       "    </tr>\n",
       "    <tr>\n",
       "      <th>2</th>\n",
       "      <td>1</td>\n",
       "      <td>3</td>\n",
       "      <td>Miss. Laina Heikkinen</td>\n",
       "      <td>female</td>\n",
       "      <td>26.0</td>\n",
       "      <td>0</td>\n",
       "      <td>0</td>\n",
       "      <td>7.9250</td>\n",
       "    </tr>\n",
       "    <tr>\n",
       "      <th>3</th>\n",
       "      <td>1</td>\n",
       "      <td>1</td>\n",
       "      <td>Mrs. Jacques Heath (Lily May Peel) Futrelle</td>\n",
       "      <td>female</td>\n",
       "      <td>35.0</td>\n",
       "      <td>1</td>\n",
       "      <td>0</td>\n",
       "      <td>53.1000</td>\n",
       "    </tr>\n",
       "    <tr>\n",
       "      <th>4</th>\n",
       "      <td>0</td>\n",
       "      <td>3</td>\n",
       "      <td>Mr. William Henry Allen</td>\n",
       "      <td>male</td>\n",
       "      <td>35.0</td>\n",
       "      <td>0</td>\n",
       "      <td>0</td>\n",
       "      <td>8.0500</td>\n",
       "    </tr>\n",
       "    <tr>\n",
       "      <th>...</th>\n",
       "      <td>...</td>\n",
       "      <td>...</td>\n",
       "      <td>...</td>\n",
       "      <td>...</td>\n",
       "      <td>...</td>\n",
       "      <td>...</td>\n",
       "      <td>...</td>\n",
       "      <td>...</td>\n",
       "    </tr>\n",
       "    <tr>\n",
       "      <th>882</th>\n",
       "      <td>0</td>\n",
       "      <td>2</td>\n",
       "      <td>Rev. Juozas Montvila</td>\n",
       "      <td>male</td>\n",
       "      <td>27.0</td>\n",
       "      <td>0</td>\n",
       "      <td>0</td>\n",
       "      <td>13.0000</td>\n",
       "    </tr>\n",
       "    <tr>\n",
       "      <th>883</th>\n",
       "      <td>1</td>\n",
       "      <td>1</td>\n",
       "      <td>Miss. Margaret Edith Graham</td>\n",
       "      <td>female</td>\n",
       "      <td>19.0</td>\n",
       "      <td>0</td>\n",
       "      <td>0</td>\n",
       "      <td>30.0000</td>\n",
       "    </tr>\n",
       "    <tr>\n",
       "      <th>884</th>\n",
       "      <td>0</td>\n",
       "      <td>3</td>\n",
       "      <td>Miss. Catherine Helen Johnston</td>\n",
       "      <td>female</td>\n",
       "      <td>7.0</td>\n",
       "      <td>1</td>\n",
       "      <td>2</td>\n",
       "      <td>23.4500</td>\n",
       "    </tr>\n",
       "    <tr>\n",
       "      <th>885</th>\n",
       "      <td>1</td>\n",
       "      <td>1</td>\n",
       "      <td>Mr. Karl Howell Behr</td>\n",
       "      <td>male</td>\n",
       "      <td>26.0</td>\n",
       "      <td>0</td>\n",
       "      <td>0</td>\n",
       "      <td>30.0000</td>\n",
       "    </tr>\n",
       "    <tr>\n",
       "      <th>886</th>\n",
       "      <td>0</td>\n",
       "      <td>3</td>\n",
       "      <td>Mr. Patrick Dooley</td>\n",
       "      <td>male</td>\n",
       "      <td>32.0</td>\n",
       "      <td>0</td>\n",
       "      <td>0</td>\n",
       "      <td>7.7500</td>\n",
       "    </tr>\n",
       "  </tbody>\n",
       "</table>\n",
       "<p>887 rows × 8 columns</p>\n",
       "</div>"
      ],
      "text/plain": [
       "     Survived  Pclass                                               Name  \\\n",
       "0           0       3                             Mr. Owen Harris Braund   \n",
       "1           1       1  Mrs. John Bradley (Florence Briggs Thayer) Cum...   \n",
       "2           1       3                              Miss. Laina Heikkinen   \n",
       "3           1       1        Mrs. Jacques Heath (Lily May Peel) Futrelle   \n",
       "4           0       3                            Mr. William Henry Allen   \n",
       "..        ...     ...                                                ...   \n",
       "882         0       2                               Rev. Juozas Montvila   \n",
       "883         1       1                        Miss. Margaret Edith Graham   \n",
       "884         0       3                     Miss. Catherine Helen Johnston   \n",
       "885         1       1                               Mr. Karl Howell Behr   \n",
       "886         0       3                                 Mr. Patrick Dooley   \n",
       "\n",
       "        Sex   Age  Siblings/Spouses Aboard  Parents/Children Aboard     Fare  \n",
       "0      male  22.0                        1                        0   7.2500  \n",
       "1    female  38.0                        1                        0  71.2833  \n",
       "2    female  26.0                        0                        0   7.9250  \n",
       "3    female  35.0                        1                        0  53.1000  \n",
       "4      male  35.0                        0                        0   8.0500  \n",
       "..      ...   ...                      ...                      ...      ...  \n",
       "882    male  27.0                        0                        0  13.0000  \n",
       "883  female  19.0                        0                        0  30.0000  \n",
       "884  female   7.0                        1                        2  23.4500  \n",
       "885    male  26.0                        0                        0  30.0000  \n",
       "886    male  32.0                        0                        0   7.7500  \n",
       "\n",
       "[887 rows x 8 columns]"
      ]
     },
     "execution_count": 8,
     "metadata": {},
     "output_type": "execute_result"
    }
   ],
   "source": [
    "import pandas as pd\n",
    "url = \"https://web.stanford.edu/class/archive/cs/cs109/cs109.1166/stuff/titanic.csv\"\n",
    "df = pd.read_csv(url)\n",
    "df"
   ]
  },
  {
   "cell_type": "markdown",
   "metadata": {},
   "source": [
    "- La colonne **PClass** *Passenger class* signifie *La classe du passager (première, deuxième...)*.\n",
    "- La colonne **SibSp** *Sibling spouses* signifie *conjoint*.\n",
    "- La colonne **Parch** *Parent Children* signifie *Parent Enfants*.\n",
    "- La colonne **Fare** désigne le *tarif* payé pour embarquer."
   ]
  },
  {
   "cell_type": "markdown",
   "metadata": {},
   "source": [
    "## D'autres formats\n",
    "\n",
    "<div class=\"alert alert-info\">\n",
    "    \n",
    "Les formats présentés ont une structure **arborescente** contrairement au csv qui possède une structure **tabulaire**.\n",
    "\n",
    "</div>\n",
    "\n",
    "### JSON\n",
    "\n",
    "**J**ava**S**cript **O**bject **N**otation est à l’origine une description textuelle d’objets javascript. Il est utilisé pour transférer des données entre le serveur web et le client web et, à l’usage, s’est révélé très pratique pour le transfert de données dans d’autres contextes.\n",
    "\n",
    "Voici un exemple de données au format JSON\n",
    "\n",
    "\n",
    "```json\n",
    "[\n",
    "    {\n",
    "        'nom': 'Machin',\n",
    "        'numero': '0298552211',\n",
    "        'adresse': '5, rue de la mouche Chateaulin'\n",
    "    },\n",
    "    {\n",
    "        'nom': 'Truc',\n",
    "        'numero': '0951245444',\n",
    "        'adresse': '1, route de Quimerc’h Rosnoën'\n",
    "    },\n",
    "    {\n",
    "        'nom': 'Bidule',\n",
    "        'numero': '06548789',\n",
    "        'adresse': '10, grand Rue Chateaulin'\n",
    "    }\n",
    "]\n",
    "```\n",
    "\n",
    "Il y a 6 types possibles:\n",
    "\n",
    "1. Chaine de caractère\n",
    "2. Nombre\n",
    "3. Booléen\n",
    "4. Type null\n",
    "5. Tableau\n",
    "6. Objet\n",
    "\n",
    "Pas de commentaire possible en json\n",
    "\n",
    "Le site du format [JSON](https://www.json.org/json-en.html)"
   ]
  },
  {
   "cell_type": "markdown",
   "metadata": {
    "tags": []
   },
   "source": [
    "### yaml\n",
    "\n",
    "YAML, pour **Y**et **A**nother **M**arkup **L**anguage\n",
    "\n",
    "voici les données en yaml\n",
    "\n",
    "```yaml\n",
    "personnes:\n",
    "    - nom: Machin\n",
    "      numero: 0298552211\n",
    "      adresse: 5, rue de la mouche Châteaulin\n",
    "    - nom: Truc\n",
    "      numero: 0951245444\n",
    "      adresse: 1, route de Quimerc'h Rosnoën\n",
    "    - nom: Bidule\n",
    "      numero: 06548789\n",
    "      adresse: 10, grand Rue Chateaulin\n",
    "```\n",
    "\n"
   ]
  },
  {
   "cell_type": "markdown",
   "metadata": {},
   "source": [
    "Le format est plus riche que celui de JSON\n",
    "- Inclusion de plusieurs documents dans un seul fichier\n",
    "- Des types plus avancés\n",
    "\n",
    "Le site de [YAML](https://yaml.org/)\n"
   ]
  },
  {
   "cell_type": "markdown",
   "metadata": {},
   "source": [
    "## Webographie\n",
    "\n",
    "- [CSV sur Wikipedia](https://fr.wikipedia.org/wiki/Comma-separated_values)\n",
    "- [JSON sur Wikipedia](https://fr.wikipedia.org/wiki/JavaScript_Object_Notation)\n",
    "- [YAML sur Wikipedia](https://fr.wikipedia.org/wiki/YAML)\n"
   ]
  },
  {
   "cell_type": "markdown",
   "metadata": {},
   "source": [
    "<table style=\"width:100%\">\n",
    "    <tr>\n",
    "        <td style=\"text-align:left;\"></td>\n",
    "        <td style=\"text-align:right;\"><a href=\"2_recherche.ipynb\">2. Rechercher des données >></a></td>\n",
    "    </tr>\n",
    "</table>"
   ]
  },
  {
   "cell_type": "markdown",
   "metadata": {},
   "source": [
    "<table style=\"width:100%\">\n",
    "    <tr>\n",
    "        <td style=\"text-align:left;\"></td>\n",
    "        <td style=\"text-align:right;\"><a href=\"2_recherche.ipynb\">2. Rechercher des données >></a></td>\n",
    "    </tr>\n",
    "</table>"
   ]
  },
  {
   "cell_type": "markdown",
   "metadata": {},
   "source": [
    "[Retour au sommaire](../index.ipynb)"
   ]
  }
 ],
 "metadata": {
  "kernelspec": {
   "display_name": "Python 3 (ipykernel)",
   "language": "python",
   "name": "python3"
  },
  "language_info": {
   "codemirror_mode": {
    "name": "ipython",
    "version": 3
   },
   "file_extension": ".py",
   "mimetype": "text/x-python",
   "name": "python",
   "nbconvert_exporter": "python",
   "pygments_lexer": "ipython3",
   "version": "3.10.12"
  },
  "toc": {
   "base_numbering": 1,
   "nav_menu": {},
   "number_sections": true,
   "sideBar": true,
   "skip_h1_title": false,
   "title_cell": "Table of Contents",
   "title_sidebar": "Contents",
   "toc_cell": false,
   "toc_position": {},
   "toc_section_display": true,
   "toc_window_display": false
  },
  "toc-autonumbering": true,
  "toc-showcode": true,
  "toc-showmarkdowntxt": false,
  "toc-showtags": false
 },
 "nbformat": 4,
 "nbformat_minor": 4
}
