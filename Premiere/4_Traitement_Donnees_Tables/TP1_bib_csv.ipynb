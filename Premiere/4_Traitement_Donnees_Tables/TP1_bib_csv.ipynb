{
 "cells": [
  {
   "cell_type": "markdown",
   "id": "ae34a08f-2e59-4295-a6dc-02fd03ac4b46",
   "metadata": {},
   "source": [
    "# TP traitement de données en tables\n",
    "\n",
    "Python possède une bibliothèque standard pour le traitement des fichiers csv.\n",
    "Voici la [documentation de la bibliothèqe csv](https://docs.python.org/3/library/csv.html).\n",
    "\n",
    "\n",
    "Dans ce TP nous allons travailler sur des données des collèges du Finistère qui sont disponibles depuis une URL.\n",
    "\n",
    "Dans une première étape nous allons voir comment automatiser la récupération de ces données et leur transformation en une liste de dictionnaires Python."
   ]
  },
  {
   "cell_type": "code",
   "execution_count": null,
   "id": "f96abe56-4190-4a6b-aa64-554c9fc795a9",
   "metadata": {},
   "outputs": [],
   "source": [
    "# importation des bibliothèques nécessaires\n",
    "import requests\n",
    "import os\n",
    "import csv\n",
    "\n",
    "def recupere_donnes():\n",
    "    \"\"\"\n",
    "    Retourne les données sous forme d'une liste de dictionnaires\n",
    "    \"\"\"\n",
    "    local_file = \"college_finistere.csv\" #nom donné au fichier\n",
    "    # recuperation des données depuis l'url\n",
    "    url = \"https://geobretagne.fr/geoserver/cd29/wfs?SERVICE=WFS&REQUEST=GetFeature&VERSION=2.0.0&TYPENAMES=cd29%3Acolleges_29&OUTPUTFORMAT=csv\"\n",
    "    data = requests.get(url).content # on récupère les données sous forme de bytes\n",
    "    # création d'un fichier et écriture des données\n",
    "    with open(local_file, 'wb') as csvfile: # 'w' pour write et 'b' pour bytes\n",
    "        csvfile.write(data)\n",
    "    \n",
    "    donnes = []\n",
    "    # ouverture du fichier précédemment créé\n",
    "    with open(local_file) as csvfile:\n",
    "        reader = csv.reader(csvfile)\n",
    "        for ligne in reader:\n",
    "            donnes.append(ligne)\n",
    "    return donnes\n",
    "        \n",
    "etablissements = recupere_donnes()\n",
    "print(etablissements[0:10])"
   ]
  },
  {
   "cell_type": "markdown",
   "id": "9e03d814-580e-4e21-809d-64fd5de0dd1d",
   "metadata": {},
   "source": [
    "**Remarques**\n",
    "\n",
    "- Le fichier que l'on ouvre est en mode **bytes** car nous recevons les données sous forme d'un flux d'octets et non de caractères. Pour s'en convaincre, faire un print(data)\n",
    "- On utilise l'instruction *with* qui garantit que si une erreur se produit dans le with, le fichier sera correctement fermé. [voir l'instruction with](https://docs.python.org/fr/3/reference/compound_stmts.html#the-with-statement)\n"
   ]
  },
  {
   "cell_type": "markdown",
   "id": "0bd3d801-581e-48e6-86b1-797c8e869b1a",
   "metadata": {},
   "source": [
    "Répondre au questions suivantes:\n",
    "\n",
    "    1. Quel est le type de chaque élément de la liste retournée?\n",
    "    2. Combien d'éléments possède chaque élement de la liste?\n",
    "    3. Quel est le délimiteur des données dans l'url utilisée? \n",
    "    4. Quels sont les colonnes dont il faudra changer le type?"
   ]
  },
  {
   "cell_type": "markdown",
   "id": "dd9c9b3e-0706-4ee6-be88-1007c4892ed1",
   "metadata": {},
   "source": [
    "**Travail à faire:**\n",
    "\n",
    "Modifier la fonction *recupere_donnes* afin que:\n",
    "\n",
    "- Chaque ligne ait bien le bon nombre d'éléments;\n",
    "- Chaque ligne soit un dictionnaire (voir la documentation de la bibliothèque);\n",
    "- Les colonnes aient le bon type;\n",
    "- On ne télécharge les données de l'URL uniquement si le fichier local n'est pas présent."
   ]
  },
  {
   "cell_type": "markdown",
   "id": "82cafea4-1906-436e-a3ba-e9791787fb37",
   "metadata": {},
   "source": [
    "## Filtre des données\n",
    "\n",
    "Ecrire une fonction *filtre(donnees, criteres)* qui prend en paramètre:\n",
    "- *donnes* : une liste de dictionnaires\n",
    "- *criteres* : un dictionnaire dont les clés sont les noms des colonnes et les valeurs sont les valeurs recherchées\n",
    "\n",
    "et qui retourne une liste filtrée de dictionnaires dont les critères correspondent aux valeurs recherchées (on utilisera un ET entre les critères)"
   ]
  },
  {
   "cell_type": "code",
   "execution_count": null,
   "id": "08faa087-6492-406d-a7c2-6a50c5774a30",
   "metadata": {},
   "outputs": [],
   "source": [
    "def filtrer(donnes, criteres):\n",
    "    pass"
   ]
  },
  {
   "cell_type": "markdown",
   "id": "0a6da557-fee1-43ba-933e-98b2f6a6c638",
   "metadata": {},
   "source": [
    "Avec ce filtre:\n",
    "\n",
    "- Retourner tous les établissements de Chateaulin;\n",
    "- Retourner tous les établissements publics de Brest;\n",
    "- Retourner tous les établissements qui ont comme code postal 29000 et sont privés."
   ]
  },
  {
   "cell_type": "markdown",
   "id": "9f4a017d-4443-401a-8b16-acff7a9e218b",
   "metadata": {},
   "source": [
    "**Bonus**:\n",
    "Utiliser une liste par compréhension pour réaliser votre filtre."
   ]
  },
  {
   "cell_type": "markdown",
   "id": "f981a390-e242-4b88-927f-60c5b2c0706a",
   "metadata": {},
   "source": [
    "**A faire**:\n",
    "\n",
    "Ajouter à la fonction *filtrer*  un paramètre nommé *colonnes*, qui par défaut vaut *None*.\n",
    "Si *colonnes* est une liste de noms de colonnes alors seules ces colonnes seront retournées."
   ]
  },
  {
   "cell_type": "markdown",
   "id": "be0b26df-260c-47a2-8252-4067a15005ec",
   "metadata": {},
   "source": [
    "<div id=\"tri\"></div>\n",
    "\n",
    "## Tri des données\n",
    "\n",
    "Avant de continuer, assurez vous que le cours sur le **[tri](3_tri.ipynb)** des données a été lu.\n",
    "\n",
    "Dans la partie précédente de ce TP nous avons vu comment **filtrer** nos données. Nous allons maintenant découvrir comment **trier** nos données.\n",
    "\n",
    "**A faire**:\n",
    "\n",
    "En utilisant la fonction *sorted* de Python, écrire une fonction *trier* qui prend en paramètres :\n",
    "- *donnees* : une liste de dictionnaires\n",
    "- *criteres*, une liste de string représentant les tris de colonnes à effectuer.\n"
   ]
  },
  {
   "cell_type": "code",
   "execution_count": 1,
   "id": "57c22b4d-ce0b-4b9c-84ac-fd2286609ba3",
   "metadata": {},
   "outputs": [],
   "source": [
    "def trier(donnees, criteres):\n",
    "    \"\"\"\n",
    "    donnees (liste) : une liste de colleges\n",
    "    critères (liste) : la liste des colonnes à trier\n",
    "    Retourne la liste triée des colleges.\n",
    "    \"\"\"\n",
    "    pass"
   ]
  },
  {
   "cell_type": "markdown",
   "id": "386b6cf2-710b-4ca8-a6d4-74cdd889bcc7",
   "metadata": {},
   "source": [
    "En utilisant les fonctions que vous avez codées :\n",
    "\n",
    "- Afficher les collèges de Brest, triés par statut puis par nom, en affichant le nom, le statut et l'adresse."
   ]
  },
  {
   "cell_type": "markdown",
   "id": "cc8ce04d-e6a5-4a72-8e58-b7edd0fe2bbd",
   "metadata": {},
   "source": [
    "<div id=\"fusion\"></div>\n",
    "\n",
    "## Fusion de données\n",
    "\n",
    "Avant de continuer, assurez vous que le cours sur la **[fusion](4_fusion.ipynb)** des données a été lu.\n",
    "\n",
    "Pour fusionner plusieurs tables nous allons utiliser la librairie [pandas](https://pandas.pydata.org/docs/index.html).\n",
    "\n",
    "La liste des collèges du Morbihan est disponible sur le web, voici les données."
   ]
  },
  {
   "cell_type": "code",
   "execution_count": null,
   "id": "ac3cf2fe-53c4-42bc-827c-57f19be8b756",
   "metadata": {},
   "outputs": [],
   "source": [
    "import pandas as pd\n",
    "url = \"https://www.data.gouv.fr/fr/datasets/r/bf9d46b1-5430-4866-ab7d-58a4d794324d\"\n",
    "colleges_morbihan = pd.read_csv(url, delimiter=';', encoding='iso 8859-15')\n",
    "colleges_morbihan"
   ]
  },
  {
   "cell_type": "markdown",
   "id": "33c33205-1c12-4efb-a7d7-45e0403a28d7",
   "metadata": {},
   "source": [
    "De nombreuses données sont disponibles sur l'ensemble des collèges de la France. (Attendre, les données sont volumineuses)"
   ]
  },
  {
   "cell_type": "code",
   "execution_count": null,
   "id": "aa3a493c-e3ce-41b1-a2ab-7eaf6fd57224",
   "metadata": {},
   "outputs": [],
   "source": [
    "import os\n",
    "import pandas as pd\n",
    "import requests\n",
    "\n",
    "# le fichier est volumineux, à télécharger une seule fois\n",
    "local_file = \"geolocalisation.csv\"\n",
    "if not local_file in os.listdir():\n",
    "    url = \"https://data.education.gouv.fr/explore/dataset/fr-en-adresse-et-geolocalisation-etablissements-premier-et-second-degre/download/?format=csv&timezone=Europe/Berlin&lang=fr&use_labels_for_header=true&csv_separator=%3B\"\n",
    "    data = requests.get(url).content\n",
    "    with open(local_file, 'wb') as csvfile:\n",
    "        csvfile.write(data)\n",
    "geolocalisations = pd.read_csv(local_file, delimiter = \";\")\n",
    "geolocalisations"
   ]
  },
  {
   "cell_type": "markdown",
   "id": "fa321c07-3cbd-4b66-aa20-a5fe70093bb8",
   "metadata": {},
   "source": [
    "Il y a 35 colonnes dans les données !!!\n",
    "\n",
    "Seuls, Code établissement, longitude et la latitude nous intéresse."
   ]
  },
  {
   "cell_type": "code",
   "execution_count": null,
   "id": "fb40e35f-6a7f-457d-b728-bab37a973d63",
   "metadata": {},
   "outputs": [],
   "source": [
    "geolocalisations = geolocalisations.filter(axis='columns', items=['Code établissement', 'Latitude', 'Longitude'])\n",
    "geolocalisations"
   ]
  },
  {
   "cell_type": "markdown",
   "id": "17be5859-694f-4dfc-81cd-c0b4767fee3b",
   "metadata": {},
   "source": [
    "**Problème**\n",
    "- Le code établissement ne possède pas la même dénomination dans les 2 tables.\n",
    "\n",
    "**solution**\n",
    "- Il est possible de faire **correspondre** le nom des colonnes communes avec un *mapper*.\n"
   ]
  },
  {
   "cell_type": "code",
   "execution_count": null,
   "id": "640e134a-dc17-4f80-9a4f-e46c2da951f3",
   "metadata": {},
   "outputs": [],
   "source": [
    "mapper = {'CODE':'Code établissement',\n",
    "         }\n",
    "\n",
    "colleges_morbihan.rename(columns=mapper, inplace=True)\n",
    "print(\"La liste des établissements du morbihan\")\n",
    "colleges_morbihan"
   ]
  },
  {
   "cell_type": "markdown",
   "id": "6c1c2584-e4af-48e5-98e0-d5a296d95cca",
   "metadata": {},
   "source": [
    "**A faire**:\n",
    "\n",
    "En vous inspirant du cours sur la **[fusion](4_fusion.ipynb)**, trouver une solution pour ajouter la localisation (longitude, latitude) dans la table des collèges du Morbihan."
   ]
  },
  {
   "cell_type": "code",
   "execution_count": null,
   "id": "129045f5-e6dc-433d-be05-268aaf6fc423",
   "metadata": {},
   "outputs": [],
   "source": []
  },
  {
   "cell_type": "markdown",
   "id": "1dd489e3-ea10-4e0a-8b5c-fcc373f55ac1",
   "metadata": {},
   "source": [
    "**A Faire**\n",
    "\n",
    "Utiliser [la bibliothèque Folium](https://python-visualization.github.io/folium/quickstart.html#Getting-Started) pour afficher les collèges du Morbihan sur une carte.\n",
    "\n",
    "Indices:\n",
    "- Pour centrer la carte, écrire \"en dur\" une localisation d'un collège.\n",
    "- Utiliser un zoom_start de 9.\n",
    "- Renseigner vous sur comment [itérer sur les lignes d'un tableau pandas](https://www.google.com/search?q=iterate+rows+on+panda+dataframe&ei=x9_7Y9CpIoW7kdUP_8ihgAI&ved=0ahUKEwiQqevaoLT9AhWFXaQEHX9kCCAQ4dUDCA8&uact=5&oq=iterate+rows+on+panda+dataframe&gs_lcp=Cgxnd3Mtd2l6LXNlcnAQAzILCAAQHhANEPEEEAo6CggAEEcQ1gQQsAM6BQgAEKIEOg0IABAIEB4QDRDxBBAKOgsIABAIEB4QDRDxBEoECEEYAEoFCEASATFQowhYoA9ggBFoAXABeACAAZQBiAHSBJIBAzAuNZgBAKABAcgBCMABAQ&sclient=gws-wiz-serp)."
   ]
  },
  {
   "cell_type": "code",
   "execution_count": null,
   "id": "0671987a-3cc5-4aa7-b778-ef5a22b53fff",
   "metadata": {},
   "outputs": [],
   "source": [
    "import folium\n"
   ]
  }
 ],
 "metadata": {
  "kernelspec": {
   "display_name": "Python 3 (ipykernel)",
   "language": "python",
   "name": "python3"
  },
  "language_info": {
   "codemirror_mode": {
    "name": "ipython",
    "version": 3
   },
   "file_extension": ".py",
   "mimetype": "text/x-python",
   "name": "python",
   "nbconvert_exporter": "python",
   "pygments_lexer": "ipython3",
   "version": "3.10.12"
  }
 },
 "nbformat": 4,
 "nbformat_minor": 5
}
