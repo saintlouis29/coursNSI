{
 "cells": [
  {
   "cell_type": "markdown",
   "metadata": {},
   "source": [
    "[Accueil](../../index.ipynb) > [Sommaire](../index.ipynb) > [Réseau](index.ipynb)"
   ]
  },
  {
   "cell_type": "markdown",
   "metadata": {},
   "source": [
    "# TP 2\n",
    "\n",
    "Le but de ce TP est de créer un réseau très simple en utilisant tout à tour un **hub** puis un **switch** grâce au logiciel [GNS3](https://www.gns3.com/).\n",
    "\n",
    "Nous allons également observer les échanges de paquets à travers le réseau grace au logiciel [WireShark](https://www.wireshark.org/)."
   ]
  },
  {
   "cell_type": "markdown",
   "metadata": {},
   "source": [
    "## Création d'un simple réseau avec un hub\n",
    "\n",
    "- Ouvrir le logiciel GNS3 puis créer le projet TP2.\n",
    "- Créer le réseau ci-dessous\n",
    "- Démarrer les PCs virtuels\n",
    "\n",
    "![tp2_img1.png](img/tp2_img1.png)"
   ]
  },
  {
   "cell_type": "markdown",
   "metadata": {},
   "source": [
    "### Configuration du réseau\n",
    "\n",
    "Ce réseau ne contiendra jamais plus de 4 hôtes.\n",
    "On souhaiterait utiliser le réseau 10.0.0.0\n",
    "\n",
    "**Questions**:\n",
    "\n",
    "1. Quel masque de sous-réseau peut-on utiliser en minimisant la plage d'adresses IP possible ?\n",
    "2. Donner les adresses IP du broadcast pour ce réseau:\n",
    "3. Lister les adresses IP que vous allez utiliser pour chacune des machines;\n",
    "4. Combien d'adresses IP reste-t-il de libre pour d'éventuels ajouts ?"
   ]
  },
  {
   "attachments": {
    "4c9771eb-31a6-4588-a75f-94ea9213f388.png": {
     "image/png": "[encoded data removed]"
    }
   },
   "cell_type": "markdown",
   "metadata": {},
   "source": [
    "**Commandes**:\n",
    "\n",
    "<figure style=\"float:right\">\n",
    "    <img src=\"img/tp2_img2.png\"\n",
    "         alt=\"Les commandes disponibles sur les pcs virtuels\"\n",
    "     ![tp2_img2.png](attachment:4c9771eb-31a6-4588-a75f-94ea9213f388.png)    title=\"Les commandes disponibles sur les pcs virtuels\"\n",
    "         >\n",
    "    <figcaption>Les commandes disponibles sur les pcs virtuels</figcaption>\n",
    "</figure>\n",
    "\n",
    "\n",
    "- Sur chaque VPC :\n",
    "  - Clic droit > Console\n",
    "  - *?* (pour lister les commandes possibles).\n",
    "  - *ip ?* pour la configuraton d'une machine.\n",
    "  - configurer chaque machine avec la commande adéquate.\n",
    "  - utiliser la commande *show* pour afficher les caractéristiques réseau de la machine.\n",
    "  "
   ]
  },
  {
   "cell_type": "markdown",
   "metadata": {},
   "source": [
    "### Test du réseau\n",
    "\n",
    "#### Le protocole ARP\n",
    "\n",
    "**ARP**, comme **A**dress **R**esolution **P**rotocol, permet de faire **le lien entre une adresse IP d'une carte réseau et une adresse matérielle** dite adresse MAC. Plus précisément, son but est, à partir d'une adresse IP connue d'une machine, obtenir son adresse MAC et ainsi pouvoir envoyer notre trame.\n",
    "\n",
    "Sur chacun des postes lancer la commande *arp*.\n",
    "\n",
    "**Question** : Quel est l'état des tables ?\n",
    "\n",
    "#### Observation fine\n",
    "\n",
    "Nous allons utiliser le logiciel wireshark afin d'observer finement les échanges entre machines. \n",
    "\n",
    "- Sur la liaison filaire PC1/hub > clic droit > Start capture\n",
    "- Depuis le terminal PC1 lancer la commande *ping 10.0.0.2 -c 1* (-c 1 permet de faire un seul ping au lieu de 4 par défaut)\n",
    "\n",
    "Prendre une capture d'écran des 4 paquets qui ont transité. Vous avez normalement 2 paquets de protocole ARP et 2 paquets du protocole ICMP"
   ]
  },
  {
   "cell_type": "markdown",
   "metadata": {},
   "source": [
    "Compléter le tableau suivant:\n",
    "\n",
    "| paquet n° | protocole | source | destination | rôle du paquet |\n",
    "|-----------|-----------|--------|-------------|----------------|\n",
    "| 1         | ARP       |        |             |                |\n",
    "| 2         | ARP       |        |             |                |\n",
    "| 3         | ICMP      |        |             |                |\n",
    "| 3         | ICMP      |        |             |                |"
   ]
  },
  {
   "cell_type": "markdown",
   "metadata": {},
   "source": [
    "- Se renseigner plus précisement sur le protocole **ARP**, notamment à quelle couche du modèle OSI il appartient.\n",
    "- Se renseigner plus précisement sur le protocole **ICMP**, notamment à quelle couche du modèle OSI il appartient.\n",
    "\n",
    "#### Remplissage de la table ARP\n",
    "\n",
    "- Toujours depuis le PC1, relancer la commande *ping 10.0.0.2 -c 1*\n",
    "- Depuis le PC1, lancer la commande *arp*. Quel est, cette fois, ci le contenu de la table ?\n",
    "- Relancer le *ping 10.0.0.2 -c 1*, cette fois ci combien de paquets transitent  et pour quelle raison ?\n",
    "- Lancer le *ping 10.0.0.3 -c 1*, puis la commande *arp*. Quel est le contenu de la table ARP ?"
   ]
  },
  {
   "cell_type": "markdown",
   "metadata": {},
   "source": [
    "## HUB vs Switch\n",
    "\n",
    "- Sniffer la liaison hub/PC3 avec Wireshark\n",
    "- Depuis le PC1 pinger PC2\n",
    "\n",
    "Qu'observez-vous sur la liaison hub/PC3 ?\n",
    "\n",
    "- Remplacer le hub par un **switch ethernet**, votre réseau ressemble maintenant à ceci:\n",
    "\n",
    "![tp2_img3.png](img/tp2_img3.png)\n",
    "\n",
    "Refaire la manipulation précédente.\n",
    "\n",
    "- Les paquets transitent-ils toujours sur la liaison Switch/PC3 ?\n",
    "- Se renseigner, sur le web, sur la différence entre un hub et un switch."
   ]
  }
 ],
 "metadata": {
  "kernelspec": {
   "display_name": "Python 3 (ipykernel)",
   "language": "python",
   "name": "python3"
  },
  "language_info": {
   "codemirror_mode": {
    "name": "ipython",
    "version": 3
   },
   "file_extension": ".py",
   "mimetype": "text/x-python",
   "name": "python",
   "nbconvert_exporter": "python",
   "pygments_lexer": "ipython3",
   "version": "3.10.12"
  }
 },
 "nbformat": 4,
 "nbformat_minor": 4
}
