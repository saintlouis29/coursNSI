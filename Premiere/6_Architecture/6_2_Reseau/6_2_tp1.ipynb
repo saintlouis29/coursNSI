{
 "cells": [
  {
   "cell_type": "markdown",
   "metadata": {},
   "source": [
    "[Accueil](../../index.ipynb) > [Sommaire](../index.ipynb) > [Réseau](index.ipynb)"
   ]
  },
  {
   "cell_type": "markdown",
   "metadata": {},
   "source": [
    "# TP1\n",
    "\n",
    "Le but de ce TP est d'apprendre à **configurer un réseau** grâce au logiciel **Filius** et de découvrir les différentes **couches** présentes dans le protocole TCP/IP.\n",
    "\n",
    "## Configuration d'un réseau de 3 machines\n",
    "\n",
    "Voici 3 ordinateurs réliés par un switch\n",
    "\n",
    "![TP1_1.png](img/TP1_1.png)\n",
    "\n",
    "Ce réseau ne contiendra pas plus de 10 machines."
   ]
  },
  {
   "cell_type": "markdown",
   "metadata": {},
   "source": [
    "1. Calculer le masque optimal, au format décimal, pour ce réseau.\n",
    "1. Donner sa notation CIDR."
   ]
  },
  {
   "cell_type": "markdown",
   "metadata": {},
   "source": [
    "Ouvrir le logiciel **Filius**, configurer le réseau.\n",
    "\n",
    "- Donner l'adresse 192.168.0.16 à un hôte et essayer de le pinguer. Que se passe-t-il?\n",
    "- Donner l'adresse 192.168.0.15 à un hôte et essayer de le pinguer. Que se passe-t-il?\n",
    "\n",
    "## 2 réseaux reliés par un routeur\n",
    "\n",
    "On désire créer un deuxième réseau qui relie le premier par un routeur. Cet autre réseau ne pourra pas contenir plus de **30** machines. On donnera aux interfaces du routeur les premières adresses de chaque plage réseau.\n",
    "\n",
    "![TP1_2.png](img/TP1_2.png)"
   ]
  },
  {
   "cell_type": "markdown",
   "metadata": {},
   "source": [
    "1. Quelle adresse de réseau choisir pour qu'elle soit le **plus contiguë possible** au premier réseau ?\n",
    "1. Quelle est l'adresse de broadcast ?\n",
    "1. Créer le réseau avec Filius. (Ne pas oublier d'activer le routage automatique avec filius)\n",
    "1. Tester le bon fonctionnement du réseau avec la commande ping\n",
    "1. Compléter le tableau ci-dessous."
   ]
  },
  {
   "cell_type": "markdown",
   "metadata": {},
   "source": [
    "<table>\n",
    "    <colgroup>\n",
    "        <col>\n",
    "        <col style=\"border:1px solid black\">\n",
    "        <col style=\"border:1px solid black\">\n",
    "    </colgroup>\n",
    "    <tr>\n",
    "        <td></td>\n",
    "        <th>Réseau 1</th>\n",
    "        <th>Réseau 2</th>\n",
    "    </tr>\n",
    "    <tr style=\"border:1px solid black\">\n",
    "        <th>Masque en décimal</th>\n",
    "        <td></td>\n",
    "        <td></td>\n",
    "    </tr>\n",
    "    <tr style=\"border:1px solid black\">\n",
    "        <th>Masque en CIDR</th>\n",
    "        <td></td>\n",
    "        <td></td>\n",
    "    </tr>\n",
    "    <tr style=\"border:1px solid black\">\n",
    "        <th>Adresse Réseau</th>\n",
    "        <td></td>\n",
    "        <td></td>\n",
    "    </tr>\n",
    "    <tr style=\"border:1px solid black\">\n",
    "        <th>Adresse de broadcast</th>\n",
    "        <td></td>\n",
    "        <td></td>\n",
    "    </tr>\n",
    "    <tr style=\"border:1px solid black\">\n",
    "        <th>Première IP disponible (on la donne au routeur)</th>\n",
    "        <td></td>\n",
    "        <td></td>\n",
    "    </tr>\n",
    "    <tr style=\"border:1px solid black\">\n",
    "        <th>Dernière IP disponible</th>\n",
    "        <td></td>\n",
    "        <td></td>\n",
    "    </tr>\n",
    "</table>"
   ]
  },
  {
   "cell_type": "markdown",
   "metadata": {},
   "source": [
    "### Un serveur DHCP\n",
    "\n",
    "nous venons de voir que pour installer une nouvelle machine, il faut:\n",
    "- lui donner son adresse IP\n",
    "- son masque\n",
    "- son gateway\n",
    "\n",
    "Avec quelques machines c'est possible mais c'est tout de même fastidieux.\n",
    "\n",
    "Nous allons installer **un serveur DHCP** (Dynamic Host Configuration Protocol) sur la machine 192.168.0.1 : Mode Marteau > Machine 1 > configuration du service DHCP\n",
    "\n",
    "1. Configurer le serveur dhcp avec les bonnes valeurs et l'**activer**;\n",
    "2. Sur les autres postes, cocher **Adressage automatique par serveur DHCP**;\n",
    "3. Vérifier que le réseau fonctionne toujours;\n",
    "4. Ajouter une machine;\n",
    "5. Vérifier qu'elle est intégrée au réseau."
   ]
  },
  {
   "cell_type": "markdown",
   "metadata": {},
   "source": [
    "### Un serveur Web\n",
    "\n",
    "- Toujours sur la machine 192.168.0.1, installer un serveur web et le **démarrer**;\n",
    "- Depuis une autre machine de l'autre réseau, installer un **navigateur web**;\n",
    "- Clic droit sur la machine cliente > Afficher les échanges de données > vider les tables;\n",
    "- Faire de même sur la machine qui héberge le serveur web.\n",
    "\n",
    "Depuis le navigateur accéder au serveur web par son IP\n",
    "\n",
    "- Observer les échanges de paquets de type Application.\n",
    "- Trouver les 4 couches TCP/IP\n",
    "- Les données du site web transitent-elles en clair ?\n",
    "- La partie image est coupée en combien de paquets ?\n",
    "- Prendre une capture d'écran du paquet qui transporte les données\n"
   ]
  }
 ],
 "metadata": {
  "kernelspec": {
   "display_name": "Python 3 (ipykernel)",
   "language": "python",
   "name": "python3"
  },
  "language_info": {
   "codemirror_mode": {
    "name": "ipython",
    "version": 3
   },
   "file_extension": ".py",
   "mimetype": "text/x-python",
   "name": "python",
   "nbconvert_exporter": "python",
   "pygments_lexer": "ipython3",
   "version": "3.10.12"
  }
 },
 "nbformat": 4,
 "nbformat_minor": 4
}
