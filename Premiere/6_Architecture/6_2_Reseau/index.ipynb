{
 "cells": [
  {
   "cell_type": "markdown",
   "metadata": {},
   "source": [
    "[Accueil](../../../index.ipynb) > [Sommaire Première](../../index.ipynb)"
   ]
  },
  {
   "cell_type": "markdown",
   "metadata": {},
   "source": [
    "# 6.2 Réseau\n",
    "\n",
    "- [Cours](6_2_reseau.ipynb)\n",
    "- [Exercices](6_2_exercices.ipynb)\n",
    "- TPs\n",
    "  - [TP 1](6_2_tp1.ipynb) : configuration d'un réseau sur le logiciel Filius\n",
    "  - [TP 2](6_2_tp2.ipynb) : Différence entre Hub et Switch, utilisation de GNS3"
   ]
  },
  {
   "cell_type": "code",
   "execution_count": null,
   "metadata": {},
   "outputs": [],
   "source": []
  }
 ],
 "metadata": {
  "kernelspec": {
   "display_name": "Python 3 (ipykernel)",
   "language": "python",
   "name": "python3"
  },
  "language_info": {
   "codemirror_mode": {
    "name": "ipython",
    "version": 3
   },
   "file_extension": ".py",
   "mimetype": "text/x-python",
   "name": "python",
   "nbconvert_exporter": "python",
   "pygments_lexer": "ipython3",
   "version": "3.12.3"
  }
 },
 "nbformat": 4,
 "nbformat_minor": 4
}
