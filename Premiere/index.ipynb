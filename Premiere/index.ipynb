{
 "cells": [
  {
   "cell_type": "markdown",
   "metadata": {},
   "source": [
    "[Accueil](../index.ipynb)"
   ]
  },
  {
   "cell_type": "markdown",
   "metadata": {},
   "source": [
    "# NSI Première\n",
    "\n",
    "[Accès au cours sur **google colab**](https://colab.research.google.com/github/saintlouis29/coursNSI/blob/main/index.ipynb)\n",
    "\n",
    "## Sommaire du programme\n",
    "\n",
    "### 1 : Histoire de l'informatique\n",
    "### 2 : Représentation des données : types et valeurs de base\n",
    "\n",
    "- 2.1 [Représentation d'un entier naturel](2_Representation_Donnees_Base/1_Representation_entiers_naturels.ipynb)\n",
    "- 2.2 [Représentation d'un entier relatif](2_Representation_Donnees_Base/2_Representation_entiers_relatifs.ipynb)\n",
    "- 2.3 [Représentation approximative d'un nombre réel](2_Representation_Donnees_Base/3_Representation_nombres_reels.ipynb)\n",
    "- 2.4 [Valeurs booléennes](2_Representation_Donnees_Base/4_Valeurs_booleennes.ipynb)\n",
    "- 2.5 [Représentation d'un texte](2_Representation_Donnees_Base/5_Representation_texte.ipynb)\n",
    "\n",
    "### 3 : Représentation des données : types construits\n",
    "- 3.1 [p-uplets et p-uplets nommées](3_Representation_types_construits/1_p-uplets.ipynb)\n",
    "- 3.2 [Tableaux indéxés](3_Representation_types_construits/2_tableaux_indexes.ipynb)\n",
    "- 3.3 [Dictionnaires](3_Representation_types_construits/3_dictionnaires.ipynb)\n",
    "\n",
    "### 4 : Traitement des données en tables\n",
    "- 4.1 [Indexation](4_Traitement_Donnees_Tables/1_indexation_tables.ipynb)\n",
    "- 4.2 [Recherche](4_Traitement_Donnees_Tables/2_recherche.ipynb)\n",
    "- 4.3 [Tri](4_Traitement_Donnees_Tables/3_tri.ipynb)\n",
    "- 4.4 [Fusion](4_Traitement_Donnees_Tables/4_fusion.ipynb)\n",
    "\n",
    "### 5 : IHM sur le Web\n",
    "- 5.1 [Le langage HTML](5_IHM_Web/1_langage_html.ipynb)\n",
    "- 5.2 [Le langage CSS](5_IHM_Web/2_langage_css.ipynb)(TODO)\n",
    "- 5.3 [Le langage JAVASCRIPT](5_IHM_Web/3_langage_javascript.ipynb)(TODO)\n",
    "- 5.4 [Formulaire d'une page web](5_IHM_Web/4_formulaire.ipynb)(TODO)\n",
    "- 5.5 [Le web, côté serveur](5_IHM_Web/5_serveur.ipynb)\n",
    "\n",
    "### 6 : Architectures matérielles et systèmes d'exploitation\n",
    "\n",
    "- 6.1 [Modèle d'architecture séquentielle](6_Architecture/1_modele_architecture.ipynb)\n",
    "- 6.2 [Réseau](6_Architecture/6_2_Reseau/index.ipynb)\n",
    "- 6.3 [Système d'exploitation](6_Architecture/3_systeme_exploitation.ipynb)\n",
    "- 6.4 [Périphériques I/O](6_Architecture/6_4_peripheriques/4_peripheriques.ipynb)\n",
    "\n",
    "### 7 : Langages et programmation\n",
    "\n",
    "- [7.1 Constructions élémentaires](7_Langages/1_constructions_elementaires.ipynb)\n",
    "- [7.2 Diversité et unité des langages de programmation](7_Langages/2_diversite_unite.ipynb)\n",
    "- [7.3 Spécification](7_Langages/3_specifications.ipynb)\n",
    "- [7.4 Mise au point de programme](7_Langages/4_mise_au_point_programmes.ipynb)(TODO)\n",
    "- [7.5 Utilisation de bibliothèques](7_Langages/5_utilisations_bibliotheques.ipynb)(TODO)\n",
    "\n",
    "### 8 : Algorithmique\n",
    "\n",
    "- [8.1 Parcours séquentiel d'un tableau](8_Algorithmique/1_parcours_sequentiel_tableau.ipynb)\n",
    "- [8.2 Tri par insertion et par sélection](8_Algorithmique/2_tri_insertion_selection.ipynb)\n",
    "- [8.3 Algorithme des k plus proches voisins](8_Algorithmique/3_k_plus_proches_voisins.ipynb)\n",
    "- [8.4 Recherche dichotomique](8_Algorithmique/4_recherche_dichotomique.ipynb)\n",
    "- [8.5 Algorithme glouton](8_Algorithmique/5_algorithme_glouton.ipynb)\n",
    "\n",
    "## Travaux pratiques\n",
    "\n",
    "- [TP stéganographie](TPs/Steganographie.ipynb)\n",
    "- [TP Titanic](TPs/Titanic.ipynb)\n",
    "- [TP Assembleur](TPs/Assembleur.ipynb)\n",
    "- [TP Game_of_life](TPs/Game_of_life.ipynb)"
   ]
  },
  {
   "cell_type": "markdown",
   "metadata": {},
   "source": [
    "[Retour à l'accueil](../index.ipynb)"
   ]
  }
 ],
 "metadata": {
  "kernelspec": {
   "display_name": "Python 3 (ipykernel)",
   "language": "python",
   "name": "python3"
  },
  "language_info": {
   "codemirror_mode": {
    "name": "ipython",
    "version": 3
   },
   "file_extension": ".py",
   "mimetype": "text/x-python",
   "name": "python",
   "nbconvert_exporter": "python",
   "pygments_lexer": "ipython3",
   "version": "3.12.3"
  },
  "toc": {
   "base_numbering": 1,
   "nav_menu": {},
   "number_sections": true,
   "sideBar": true,
   "skip_h1_title": false,
   "title_cell": "Table of Contents",
   "title_sidebar": "Contents",
   "toc_cell": false,
   "toc_position": {},
   "toc_section_display": true,
   "toc_window_display": false
  },
  "toc-autonumbering": false
 },
 "nbformat": 4,
 "nbformat_minor": 4
}
